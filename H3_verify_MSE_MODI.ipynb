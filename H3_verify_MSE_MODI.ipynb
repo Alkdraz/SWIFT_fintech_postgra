{
 "cells": [
  {
   "cell_type": "markdown",
   "metadata": {},
   "source": [
    "# 1. 安装数据包"
   ]
  },
  {
   "cell_type": "code",
   "execution_count": 1,
   "metadata": {},
   "outputs": [
    {
     "name": "stderr",
     "output_type": "stream",
     "text": [
      "C:\\Anaconda\\lib\\site-packages\\ipykernel_launcher.py:11: FutureWarning: The pandas.datetime class is deprecated and will be removed from pandas in a future version. Import from datetime module instead.\n",
      "  # This is added back by InteractiveShellApp.init_path()\n"
     ]
    }
   ],
   "source": [
    "# 数据分析的核心库\n",
    "\n",
    "import sys\n",
    "import math\n",
    "import numpy as np\n",
    "import pandas as pd\n",
    "import matplotlib\n",
    "from matplotlib import pyplot as plt\n",
    "import seaborn as sns\n",
    "from pandas.plotting import lag_plot\n",
    "from pandas import datetime\n",
    "import random\n",
    "# 时间序列处理\n",
    "from datetime import datetime\n",
    "from dateutil.parser import parse as dt_parse\n",
    "# 正则库\n",
    "import re\n",
    "# os库\n",
    "from os import listdir\n",
    "# NLTK自然语言处理库\n",
    "import nltk\n",
    "#nltk.download('stopwords')\n",
    "#nltk.download('punkt')\n",
    "from nltk.corpus import stopwords\n",
    "# seaborn成对图矩阵生成\n",
    "from seaborn import pairplot\n",
    "# sklearn库的归一化、训练集测试集划分\n",
    "from sklearn.preprocessing import MinMaxScaler\n",
    "from sklearn.model_selection import train_test_split\n",
    "# Keras LSTM\n",
    "import tensorflow \n",
    "from tensorflow import keras\n",
    "from tensorflow.keras import backend as K\n",
    "from tensorflow.keras.layers import Layer\n",
    "from tensorflow.keras import Model, layers, initializers\n",
    "from tensorflow.keras.models import Sequential\n",
    "from tensorflow.keras.optimizers import Adam\n",
    "from tensorflow.keras.layers import MaxPooling1D, Flatten, Activation, GRU\n",
    "from tensorflow.keras.layers import Multiply, Input,Dense, Dropout, Conv1D, LSTM, Bidirectional, TimeDistributed\n",
    "from tensorflow.keras.wrappers.scikit_learn import KerasRegressor\n",
    "from tensorflow.keras.callbacks import EarlyStopping\n",
    "# ARIMA \n",
    "import statsmodels.api as sm\n",
    "import statsmodels.tsa as ts\n",
    "from statsmodels.tsa.arima_model import ARIMAResults\n",
    "from statsmodels.tsa.stattools import adfuller\n",
    "from statsmodels.graphics.tsaplots import plot_acf, plot_pacf\n",
    "from sklearn.neural_network import MLPRegressor\n",
    "from sklearn.metrics import scorer\n",
    "from sklearn.metrics import accuracy_score\n",
    "from sklearn.metrics import mean_absolute_error\n",
    "from sklearn.metrics import mean_squared_error \n",
    "from sklearn.metrics import r2_score\n",
    "from sklearn.metrics import explained_variance_score\n",
    "import itertools as it\n",
    "#from tensorflow.keras.regularizers import L1, L2\n",
    "from tensorflow.keras.metrics import Accuracy\n",
    "from tensorflow.keras.metrics import RootMeanSquaredError\n",
    "# sklearn MSE\n",
    "from sklearn import metrics\n",
    "from sklearn.metrics import mean_squared_error\n",
    "# GridSearchCV\n",
    "from sklearn.model_selection import GridSearchCV\n",
    "\n",
    "import os\n",
    " \n",
    "os.environ[\"PATH\"] += os.pathsep + 'C:/Users/Administrator/Thesis Programming/情感数据对股票模型预测的影响及神经网络设计/file'"
   ]
  },
  {
   "cell_type": "markdown",
   "metadata": {},
   "source": [
    "# 2. Pandas 显示设置"
   ]
  },
  {
   "cell_type": "code",
   "execution_count": 2,
   "metadata": {},
   "outputs": [],
   "source": [
    "# 设置pandas的最大显示行数、列数和输出宽度\n",
    "pd.set_option('display.max_rows', 30)\n",
    "pd.set_option('display.max_columns', 999)\n",
    "pd.set_option('display.max_colwidth', 50)"
   ]
  },
  {
   "cell_type": "markdown",
   "metadata": {},
   "source": [
    "# 3. 特征工程-模型预处理\n",
    "## 创建结构化调用函数"
   ]
  },
  {
   "cell_type": "code",
   "execution_count": 3,
   "metadata": {},
   "outputs": [],
   "source": [
    "#时间序列转有监督函数定义\n",
    "def series_to_supervised(data, n_in=1):\n",
    "    # 默认参数\n",
    "    n_out=1\n",
    "    dropnan=True\n",
    "    # 对该函数进行微调，注意data为以close列（需要预测的列）结尾的DataFrame时间序列股票数据\n",
    "    n_vars = 1 if type(data) is list else data.shape[1]\n",
    "    df = pd.DataFrame(data)\n",
    "    cols, names = list(), list()\n",
    "    # input sequence (t-n, ... t-1)\n",
    "    for i in range(n_in, 0, -1):\n",
    "        cols.append(df.shift(i))\n",
    "        names += [('var%d(t-%d)' % (j+1, i)) for j in range(n_vars)]\n",
    "    # forecast sequence (t, t+1, ... t+n)\n",
    "    for i in range(0, n_out):\n",
    "        cols.append(df.shift(-i))\n",
    "        if i == 0:\n",
    "            names += [('var%d(t)' % (j+1)) for j in range(n_vars)]\n",
    "        else:\n",
    "            names += [('var%d(t+%d)' % (j+1, i)) for j in range(n_vars)]\n",
    "    # put it all together\n",
    "    agg = pd.concat(cols, axis=1)\n",
    "    agg.columns = names\n",
    "    # 删除无关的次态[t]列，只留下需要预测的close[t]列和上一时刻状态特征[t-1]列\n",
    "    agg.drop(agg.columns[[x for x in range(data.shape[1], 2*data.shape[1]-1)]], axis=1, inplace=True)\n",
    "    # drop rows with NaN values\n",
    "    if dropnan:\n",
    "        agg.dropna(inplace=True)\n",
    "    return agg"
   ]
  },
  {
   "cell_type": "code",
   "execution_count": 4,
   "metadata": {},
   "outputs": [],
   "source": [
    "# 损失图绘制\n",
    "def drawLossGraph(_history, title, num):\n",
    "    \n",
    "    #损失图绘制，观察最优epochs\n",
    "    #:param _history: 训练历史\n",
    "    #:param title: 图表标题\n",
    "    #:param num: 图表编号\n",
    "    #:return: 无\n",
    "    \n",
    "    plt.plot(_history.history['loss'], color='g', label='train')\n",
    "    plt.plot(_history.history['val_loss'], color='r', label='test')\n",
    "    plt.title('Fig'+num+'. '+title)\n",
    "    plt.xlabel('epochs')\n",
    "    plt.ylabel('loss')\n",
    "    plt.legend()\n",
    "    # 保存于 new_test_file/result/\n",
    "    #savingPath = 'file/Fig'+num+'_'+title.replace(' ', '_')+'.png'\n",
    "    #plt.savefig(savingPath, dpi=400, bbox_inches='tight')\n",
    "    # 展示\n",
    "    plt.show()"
   ]
  },
  {
   "cell_type": "code",
   "execution_count": 5,
   "metadata": {},
   "outputs": [],
   "source": [
    "# 定义反归一化函数\n",
    "def inverse_transform_col(_scaler, y, n_col):\n",
    "    \"\"\"\n",
    "    对某个列进行反归一化处理的函数\n",
    "    :param _scaler: sklearn归一化模型\n",
    "    :param y: 需要反归一化的数据列\n",
    "    :param n_col: y在归一化时所属的列编号\n",
    "    :return: y的反归一化结果\n",
    "    \"\"\"\n",
    "    y = y.copy()\n",
    "    y -= _scaler.min_[n_col]\n",
    "    y /= _scaler.scale_[n_col]\n",
    "    return y"
   ]
  },
  {
   "cell_type": "code",
   "execution_count": 6,
   "metadata": {},
   "outputs": [],
   "source": [
    "# 模型预测结果绘图函数\n",
    "def predictGraph(yTrain, yPredict, yTest, timelabels, title, num):\n",
    "    \"\"\"\n",
    "    预测结果图像绘制函数\n",
    "    :param yTrain: 训练集结果\n",
    "    :param yPredict: 验证集的预测结果\n",
    "    :param yTest: 验证集的真实结果\n",
    "    :param timelabels: x轴刻度标签\n",
    "    :param title: 图表标题\n",
    "    :param num: 图标编号\n",
    "    :return: 无\n",
    "    \"\"\"\n",
    "    len_yTrain = yTrain.shape[0]\n",
    "    len_y = len_yTrain+yPredict.shape[0]\n",
    "    # 真实曲线绘制\n",
    "    plt.plot(np.concatenate([yTrain,yTest]), color='r', label='sample')\n",
    "    # 预测曲线绘制\n",
    "    plt.plot([x for x in range(len_yTrain,len_y)],yPredict, color='g', label='predict')\n",
    "    # 标题和轴标签\n",
    "    plt.title('Fig'+num+'. '+title)\n",
    "    plt.xlabel('date')\n",
    "    plt.ylabel('close')\n",
    "    plt.legend()\n",
    "    # 刻度和刻度标签\n",
    "    xticks = [0,len_yTrain,len_y-1]\n",
    "    xtick_labels = [timelabels[x] for x in xticks]\n",
    "    plt.xticks(ticks=xticks, labels=xtick_labels, rotation=30)\n",
    "    # 保存于 new_test_file/result/\n",
    "    #savingPath = 'file/Fig'+num+'_'+title.replace(' ', '_')+'.png'\n",
    "    #plt.savefig(savingPath, dpi=400, bbox_inches='tight')\n",
    "    # 展示\n",
    "    plt.show()"
   ]
  },
  {
   "cell_type": "markdown",
   "metadata": {},
   "source": [
    "# 4. 循环网络的搭建\n",
    "\n",
    "## 4.1 (一年数据) 情感数据CNN_BILSTM_AT v.s. 纯技术指标CNN_BILSTM_AT"
   ]
  },
  {
   "cell_type": "markdown",
   "metadata": {},
   "source": [
    "### （一年）情感数据影响下的CNN_BILSTM_AT"
   ]
  },
  {
   "cell_type": "code",
   "execution_count": 7,
   "metadata": {},
   "outputs": [
    {
     "data": {
      "text/plain": [
       "array([[3.16843323e+02, 3.48339996e+02, 3.14733337e+02, ...,\n",
       "        4.88038517e-02, 7.20361750e-02, 3.41619995e+02],\n",
       "       [3.41563324e+02, 3.64980011e+02, 3.33813324e+02, ...,\n",
       "        7.68664389e-02, 8.51711347e-02, 3.39476654e+02],\n",
       "       [3.46553345e+02, 3.56959991e+02, 3.43593323e+02, ...,\n",
       "        5.11512681e-02, 8.35095523e-02, 3.45953339e+02],\n",
       "       ...,\n",
       "       [2.29500000e+02, 2.29820007e+02, 2.17250000e+02, ...,\n",
       "        6.25000000e-02, 1.60282258e-01, 2.20190002e+02],\n",
       "       [2.19800003e+02, 2.22929993e+02, 2.17779999e+02, ...,\n",
       "        1.42857143e-02, 9.02331002e-02, 2.22039993e+02],\n",
       "       [2.08279999e+02, 2.15550003e+02, 2.02000000e+02, ...,\n",
       "        6.95105820e-02, 5.45836710e-02, 2.07279999e+02]])"
      ]
     },
     "execution_count": 7,
     "metadata": {},
     "output_type": "execute_result"
    }
   ],
   "source": [
    "# 读取数据\n",
    "CBA1Emo = pd.read_csv('file/one_year/one_result/TSLA_stockwithEmo_1Y.csv', parse_dates=['Date'], index_col='Date').values\n",
    "CBA1Emo"
   ]
  },
  {
   "cell_type": "code",
   "execution_count": 8,
   "metadata": {},
   "outputs": [],
   "source": [
    "# 生成归一化容器\n",
    "# feature_range参数沿用默认(0,1)\n",
    "scaler_CBA1Emo = MinMaxScaler(feature_range=(0,1))\n",
    "# 训练模型\n",
    "scaler_CBA1Emo = scaler_CBA1Emo.fit(CBA1Emo)\n",
    "# 归一化\n",
    "CBA1Emo = scaler_CBA1Emo.fit_transform(CBA1Emo)\n",
    "# 使用series_to_supervised函数构建有监督数据集\n",
    "CBA1Emo = series_to_supervised(CBA1Emo)\n",
    "# 必须规定ndarray的dtype为float32（默认float64），否则后续输入模型报错\n",
    "CBA1Emo = CBA1Emo.values.astype(np.float32)"
   ]
  },
  {
   "cell_type": "code",
   "execution_count": 9,
   "metadata": {},
   "outputs": [
    {
     "name": "stdout",
     "output_type": "stream",
     "text": [
      "(179,)\n",
      "(179, 8)\n"
     ]
    }
   ],
   "source": [
    "future_days = 0\n",
    "y = CBA1Emo[future_days:, 6]\n",
    "print(y.shape)\n",
    "X = CBA1Emo[:len(CBA1Emo) - future_days, :]\n",
    "print(X.shape)"
   ]
  },
  {
   "cell_type": "code",
   "execution_count": 10,
   "metadata": {},
   "outputs": [
    {
     "name": "stdout",
     "output_type": "stream",
     "text": [
      "(175, 5, 8) (175, 1)\n"
     ]
    }
   ],
   "source": [
    "#time_steps = 10\n",
    "time_steps = 5\n",
    "X_new = np.zeros((X.shape[0] - time_steps + 1, time_steps, X.shape[1]))\n",
    "y_new = np.zeros((y.shape[0] - time_steps + 1, 1))\n",
    "for ix in range(X_new.shape[0]):\n",
    "    for jx in range(time_steps):\n",
    "        X_new[ix, jx, :] = X[ix + jx, :]\n",
    "    y_new[ix] = y[ix + time_steps -1]\n",
    "print(X_new.shape, y_new.shape)"
   ]
  },
  {
   "cell_type": "code",
   "execution_count": 11,
   "metadata": {},
   "outputs": [
    {
     "name": "stdout",
     "output_type": "stream",
     "text": [
      "(125, 5, 8) (125, 1)\n",
      "(50, 5, 8) (50, 1)\n",
      "5 8\n"
     ]
    }
   ],
   "source": [
    "#划分训练集和测试集 7:3\n",
    "split = int(0.7 * CBA1Emo.shape[0])\n",
    "X_train_CBA1Emo = X_new[:split]\n",
    "X_test_CBA1Emo = X_new[split:]\n",
    "\n",
    "y_train_CBA1Emo = y_new[:split]\n",
    "y_test_CBA1Emo = y_new[split:]\n",
    "\n",
    "print(X_train_CBA1Emo.shape, y_train_CBA1Emo.shape)\n",
    "print(X_test_CBA1Emo.shape, y_test_CBA1Emo.shape)\n",
    "print(X_train_CBA1Emo.shape[1], X_train_CBA1Emo.shape[2])"
   ]
  },
  {
   "cell_type": "code",
   "execution_count": 12,
   "metadata": {},
   "outputs": [
    {
     "name": "stdout",
     "output_type": "stream",
     "text": [
      "Train on 125 samples, validate on 50 samples\n",
      "Epoch 1/50\n",
      "125/125 - 2s - loss: 0.0573 - acc: 0.0080 - mae: 0.2040 - val_loss: 0.0527 - val_acc: 0.0000e+00 - val_mae: 0.1854\n",
      "Epoch 2/50\n",
      "125/125 - 0s - loss: 0.0529 - acc: 0.0080 - mae: 0.1941 - val_loss: 0.0545 - val_acc: 0.0200 - val_mae: 0.1956\n",
      "Epoch 3/50\n",
      "125/125 - 0s - loss: 0.0476 - acc: 0.0080 - mae: 0.1808 - val_loss: 0.0548 - val_acc: 0.0200 - val_mae: 0.2025\n",
      "Epoch 4/50\n",
      "125/125 - 0s - loss: 0.0426 - acc: 0.0080 - mae: 0.1698 - val_loss: 0.0472 - val_acc: 0.0200 - val_mae: 0.1856\n",
      "Epoch 5/50\n",
      "125/125 - 0s - loss: 0.0351 - acc: 0.0080 - mae: 0.1534 - val_loss: 0.0317 - val_acc: 0.0200 - val_mae: 0.1359\n",
      "Epoch 6/50\n",
      "125/125 - 0s - loss: 0.0269 - acc: 0.0080 - mae: 0.1339 - val_loss: 0.0177 - val_acc: 0.0200 - val_mae: 0.0939\n",
      "Epoch 7/50\n",
      "125/125 - 0s - loss: 0.0172 - acc: 0.0080 - mae: 0.1076 - val_loss: 0.0137 - val_acc: 0.0200 - val_mae: 0.1040\n",
      "Epoch 8/50\n",
      "125/125 - 0s - loss: 0.0152 - acc: 0.0080 - mae: 0.0991 - val_loss: 0.0113 - val_acc: 0.0200 - val_mae: 0.0933\n",
      "Epoch 9/50\n",
      "125/125 - 0s - loss: 0.0118 - acc: 0.0080 - mae: 0.0851 - val_loss: 0.0075 - val_acc: 0.0200 - val_mae: 0.0730\n",
      "Epoch 10/50\n",
      "125/125 - 0s - loss: 0.0076 - acc: 0.0080 - mae: 0.0701 - val_loss: 0.0059 - val_acc: 0.0200 - val_mae: 0.0631\n",
      "Epoch 11/50\n",
      "125/125 - 0s - loss: 0.0076 - acc: 0.0080 - mae: 0.0705 - val_loss: 0.0070 - val_acc: 0.0200 - val_mae: 0.0720\n",
      "Epoch 12/50\n",
      "125/125 - 0s - loss: 0.0066 - acc: 0.0080 - mae: 0.0631 - val_loss: 0.0045 - val_acc: 0.0200 - val_mae: 0.0525\n",
      "Epoch 13/50\n",
      "125/125 - 0s - loss: 0.0065 - acc: 0.0080 - mae: 0.0638 - val_loss: 0.0045 - val_acc: 0.0200 - val_mae: 0.0556\n",
      "Epoch 14/50\n",
      "125/125 - 0s - loss: 0.0055 - acc: 0.0080 - mae: 0.0612 - val_loss: 0.0052 - val_acc: 0.0200 - val_mae: 0.0599\n",
      "Epoch 15/50\n",
      "125/125 - 0s - loss: 0.0052 - acc: 0.0080 - mae: 0.0587 - val_loss: 0.0044 - val_acc: 0.0200 - val_mae: 0.0555\n",
      "Epoch 16/50\n",
      "125/125 - 0s - loss: 0.0046 - acc: 0.0080 - mae: 0.0549 - val_loss: 0.0035 - val_acc: 0.0200 - val_mae: 0.0471\n",
      "Epoch 17/50\n",
      "125/125 - 0s - loss: 0.0043 - acc: 0.0080 - mae: 0.0528 - val_loss: 0.0057 - val_acc: 0.0200 - val_mae: 0.0645\n",
      "Epoch 18/50\n",
      "125/125 - 0s - loss: 0.0053 - acc: 0.0080 - mae: 0.0580 - val_loss: 0.0029 - val_acc: 0.0200 - val_mae: 0.0404\n",
      "Epoch 19/50\n",
      "125/125 - 0s - loss: 0.0045 - acc: 0.0080 - mae: 0.0550 - val_loss: 0.0034 - val_acc: 0.0200 - val_mae: 0.0476\n",
      "Epoch 20/50\n",
      "125/125 - 0s - loss: 0.0048 - acc: 0.0080 - mae: 0.0556 - val_loss: 0.0027 - val_acc: 0.0200 - val_mae: 0.0409\n",
      "Epoch 21/50\n",
      "125/125 - 0s - loss: 0.0038 - acc: 0.0080 - mae: 0.0478 - val_loss: 0.0024 - val_acc: 0.0200 - val_mae: 0.0370\n",
      "Epoch 22/50\n",
      "125/125 - 0s - loss: 0.0045 - acc: 0.0080 - mae: 0.0540 - val_loss: 0.0035 - val_acc: 0.0200 - val_mae: 0.0474\n",
      "Epoch 23/50\n",
      "125/125 - 0s - loss: 0.0036 - acc: 0.0080 - mae: 0.0469 - val_loss: 0.0022 - val_acc: 0.0200 - val_mae: 0.0351\n",
      "Epoch 24/50\n",
      "125/125 - 0s - loss: 0.0036 - acc: 0.0080 - mae: 0.0470 - val_loss: 0.0022 - val_acc: 0.0200 - val_mae: 0.0359\n",
      "Epoch 25/50\n",
      "125/125 - 0s - loss: 0.0051 - acc: 0.0080 - mae: 0.0572 - val_loss: 0.0033 - val_acc: 0.0200 - val_mae: 0.0467\n",
      "Epoch 26/50\n",
      "125/125 - 0s - loss: 0.0043 - acc: 0.0080 - mae: 0.0518 - val_loss: 0.0023 - val_acc: 0.0200 - val_mae: 0.0379\n",
      "Epoch 27/50\n",
      "125/125 - 0s - loss: 0.0041 - acc: 0.0080 - mae: 0.0520 - val_loss: 0.0030 - val_acc: 0.0200 - val_mae: 0.0440\n",
      "Epoch 28/50\n",
      "125/125 - 0s - loss: 0.0031 - acc: 0.0080 - mae: 0.0456 - val_loss: 0.0021 - val_acc: 0.0200 - val_mae: 0.0351\n",
      "Epoch 29/50\n",
      "125/125 - 0s - loss: 0.0034 - acc: 0.0080 - mae: 0.0478 - val_loss: 0.0027 - val_acc: 0.0200 - val_mae: 0.0422\n",
      "Epoch 30/50\n",
      "125/125 - 0s - loss: 0.0038 - acc: 0.0080 - mae: 0.0478 - val_loss: 0.0031 - val_acc: 0.0200 - val_mae: 0.0456\n",
      "Epoch 31/50\n",
      "125/125 - 0s - loss: 0.0033 - acc: 0.0080 - mae: 0.0454 - val_loss: 0.0019 - val_acc: 0.0200 - val_mae: 0.0328\n",
      "Epoch 32/50\n",
      "125/125 - 0s - loss: 0.0027 - acc: 0.0080 - mae: 0.0433 - val_loss: 0.0027 - val_acc: 0.0200 - val_mae: 0.0420\n",
      "Epoch 33/50\n",
      "125/125 - 0s - loss: 0.0023 - acc: 0.0080 - mae: 0.0381 - val_loss: 0.0017 - val_acc: 0.0200 - val_mae: 0.0317\n",
      "Epoch 34/50\n",
      "125/125 - 0s - loss: 0.0022 - acc: 0.0080 - mae: 0.0387 - val_loss: 0.0024 - val_acc: 0.0200 - val_mae: 0.0402\n",
      "Epoch 35/50\n",
      "125/125 - 0s - loss: 0.0024 - acc: 0.0080 - mae: 0.0374 - val_loss: 0.0017 - val_acc: 0.0200 - val_mae: 0.0320\n",
      "Epoch 36/50\n",
      "125/125 - 0s - loss: 0.0028 - acc: 0.0080 - mae: 0.0429 - val_loss: 0.0035 - val_acc: 0.0200 - val_mae: 0.0502\n",
      "Epoch 37/50\n",
      "125/125 - 0s - loss: 0.0026 - acc: 0.0080 - mae: 0.0419 - val_loss: 0.0016 - val_acc: 0.0200 - val_mae: 0.0305\n",
      "Epoch 38/50\n",
      "125/125 - 0s - loss: 0.0022 - acc: 0.0080 - mae: 0.0376 - val_loss: 0.0027 - val_acc: 0.0200 - val_mae: 0.0430\n",
      "Epoch 39/50\n",
      "125/125 - 0s - loss: 0.0026 - acc: 0.0080 - mae: 0.0404 - val_loss: 0.0018 - val_acc: 0.0200 - val_mae: 0.0347\n",
      "Epoch 40/50\n",
      "125/125 - 0s - loss: 0.0028 - acc: 0.0080 - mae: 0.0404 - val_loss: 0.0015 - val_acc: 0.0200 - val_mae: 0.0292\n",
      "Epoch 41/50\n",
      "125/125 - 0s - loss: 0.0024 - acc: 0.0080 - mae: 0.0402 - val_loss: 0.0020 - val_acc: 0.0200 - val_mae: 0.0376\n",
      "Epoch 42/50\n",
      "125/125 - 0s - loss: 0.0022 - acc: 0.0080 - mae: 0.0371 - val_loss: 0.0015 - val_acc: 0.0200 - val_mae: 0.0306\n",
      "Epoch 43/50\n",
      "125/125 - 0s - loss: 0.0020 - acc: 0.0080 - mae: 0.0359 - val_loss: 0.0013 - val_acc: 0.0200 - val_mae: 0.0282\n",
      "Epoch 44/50\n",
      "125/125 - 0s - loss: 0.0020 - acc: 0.0080 - mae: 0.0357 - val_loss: 0.0013 - val_acc: 0.0200 - val_mae: 0.0277\n",
      "Epoch 45/50\n",
      "125/125 - 0s - loss: 0.0024 - acc: 0.0080 - mae: 0.0390 - val_loss: 0.0028 - val_acc: 0.0200 - val_mae: 0.0452\n",
      "Epoch 46/50\n",
      "125/125 - 0s - loss: 0.0027 - acc: 0.0080 - mae: 0.0420 - val_loss: 0.0021 - val_acc: 0.0200 - val_mae: 0.0386\n",
      "Epoch 47/50\n",
      "125/125 - 0s - loss: 0.0032 - acc: 0.0080 - mae: 0.0440 - val_loss: 0.0013 - val_acc: 0.0200 - val_mae: 0.0284\n",
      "Epoch 48/50\n",
      "125/125 - 0s - loss: 0.0023 - acc: 0.0080 - mae: 0.0366 - val_loss: 0.0015 - val_acc: 0.0200 - val_mae: 0.0318\n",
      "Epoch 49/50\n",
      "125/125 - 0s - loss: 0.0017 - acc: 0.0080 - mae: 0.0338 - val_loss: 0.0017 - val_acc: 0.0200 - val_mae: 0.0325\n",
      "Epoch 50/50\n",
      "125/125 - 0s - loss: 0.0016 - acc: 0.0080 - mae: 0.0318 - val_loss: 0.0017 - val_acc: 0.0200 - val_mae: 0.0336\n"
     ]
    }
   ],
   "source": [
    "def CNN_BILSTM_AT_Generator(Xtrain, Xtest, ytrain, ytest):\n",
    "  \n",
    "   # 搭建模型\n",
    "    inputs = Input(shape = (Xtrain.shape[1], Xtrain.shape[2]))   \n",
    "    x = Conv1D(filters = 64, kernel_size = 3, activation = 'relu', padding=\"same\")(inputs)\n",
    "    #x = MaxPooling1D(pool_size = 2)(x)\n",
    "    x = Dropout(0.2)(x)\n",
    "    x = Bidirectional(LSTM(64, return_sequences=True,activation='relu'),name='bilstm')(x)\n",
    "    previous_out = Dropout(0.2)(x)\n",
    "    \n",
    "    # ATTENTION PART STARTS HERE\n",
    "    attention_probs = Dense(128, activation='sigmoid', name='attention_vec')(previous_out)\n",
    "\n",
    "    attention_mul =Multiply()([previous_out, attention_probs])\n",
    "    \n",
    "    attention_mul = Flatten()(attention_mul)\n",
    "\n",
    "    output = Dense(1, activation='sigmoid')(attention_mul)\n",
    "    _model = Model(inputs=inputs, outputs=output)\n",
    "    \n",
    "    # 模型编译\n",
    "    _model.compile(loss='mse', optimizer='adam', metrics=['acc', 'mae'])\n",
    "    # 模型训练\n",
    "    es_cb = EarlyStopping(monitor='val_loss', patience=10, verbose=1, mode='auto')\n",
    "    _history = _model.fit(Xtrain, ytrain, batch_size=20, epochs=50, validation_data=(Xtest, ytest), callbacks=[es_cb], verbose=2)\n",
    "    return _history,_model\n",
    "  \n",
    "history_CBA1Emo, model_CBA1Emo = CNN_BILSTM_AT_Generator(X_train_CBA1Emo, X_test_CBA1Emo, y_train_CBA1Emo, y_test_CBA1Emo)"
   ]
  },
  {
   "cell_type": "code",
   "execution_count": 13,
   "metadata": {},
   "outputs": [
    {
     "data": {
      "image/png": "[encoded data removed]",
      "text/plain": [
       "<Figure size 432x288 with 1 Axes>"
      ]
     },
     "metadata": {
      "needs_background": "light"
     },
     "output_type": "display_data"
    }
   ],
   "source": [
    "drawLossGraph(history_CBA1Emo, title='CNN_BILSTM_AT_1Y Loss Graph for Stock Prices with Emotions', num='18')"
   ]
  },
  {
   "cell_type": "code",
   "execution_count": 14,
   "metadata": {},
   "outputs": [
    {
     "data": {
      "image/png": "[encoded data removed]",
      "text/plain": [
       "<Figure size 432x288 with 1 Axes>"
      ]
     },
     "metadata": {
      "needs_background": "light"
     },
     "output_type": "display_data"
    }
   ],
   "source": [
    "# 由X_test前日股票指标预测当天股票close值\n",
    "# 注：predict生成的array需降维成 shape=(n_samples, )\n",
    "y_predict_CBA1Emo = model_CBA1Emo.predict(X_test_CBA1Emo)[:,0]\n",
    "\n",
    "# 反归一化\n",
    "# 重新读取 TSLA股票价格融合情感.csv\n",
    "CBA1Emo = pd.read_csv('file/one_year/one_result/TSLA_stockwithEmo_1Y.csv')\n",
    "col_n_CBA1Emo = CBA1Emo.shape[1]-2\n",
    "# 预测结果反归一化\n",
    "inv_yPredict_CBA1Emo = inverse_transform_col(scaler_CBA1Emo, y_predict_CBA1Emo, col_n_CBA1Emo)\n",
    "# 真实结果反归一化\n",
    "inv_yTest_CBA1Emo = inverse_transform_col(scaler_CBA1Emo, y_test_CBA1Emo, col_n_CBA1Emo)\n",
    "# 训练集结果反归一化（以绘制完整图像）\n",
    "inv_yTrain_CBA1Emo = inverse_transform_col(scaler_CBA1Emo, y_train_CBA1Emo, col_n_CBA1Emo)\n",
    "# 绘图\n",
    "predictGraph(inv_yTrain_CBA1Emo, inv_yPredict_CBA1Emo, inv_yTest_CBA1Emo, timelabels = CBA1Emo['Date'].values, title='CNN_BILSTM_AT_1Y Prediction of Stock Prices with Emotions', num='19')"
   ]
  },
  {
   "cell_type": "code",
   "execution_count": 15,
   "metadata": {},
   "outputs": [
    {
     "name": "stdout",
     "output_type": "stream",
     "text": [
      "The Mean Squared Error is 0.0016861243810077932\n",
      "The Root Mean Squared Error is:\n",
      "0.04106244489807923\n",
      "The Mean Absolute Error is: 0.033608799949288365\n",
      "R Square is 0.9172081337856023\n"
     ]
    }
   ],
   "source": [
    "# 输出MSE MAE R方评估值\n",
    "MSE_error_CBA1Emo = mean_squared_error(y_test_CBA1Emo, y_predict_CBA1Emo)\n",
    "RMSE_CBA1Emo = math.sqrt(MSE_error_CBA1Emo)\n",
    "MAE_CBA1Emo = mean_absolute_error(y_test_CBA1Emo, y_predict_CBA1Emo)\n",
    "R_square_CBA1Emo = r2_score(y_test_CBA1Emo, y_predict_CBA1Emo)\n",
    "print('The Mean Squared Error is {}'.format(MSE_error_CBA1Emo))\n",
    "print('The Root Mean Squared Error is:')\n",
    "print(RMSE_CBA1Emo)\n",
    "print('The Mean Absolute Error is:',MAE_CBA1Emo)\n",
    "print('R Square is {}'.format(R_square_CBA1Emo))"
   ]
  },
  {
   "cell_type": "code",
   "execution_count": 16,
   "metadata": {},
   "outputs": [
    {
     "name": "stdout",
     "output_type": "stream",
     "text": [
      "Model: \"model\"\n",
      "__________________________________________________________________________________________________\n",
      "Layer (type)                    Output Shape         Param #     Connected to                     \n",
      "==================================================================================================\n",
      "input_1 (InputLayer)            [(None, 5, 8)]       0                                            \n",
      "__________________________________________________________________________________________________\n",
      "conv1d (Conv1D)                 (None, 5, 64)        1600        input_1[0][0]                    \n",
      "__________________________________________________________________________________________________\n",
      "dropout (Dropout)               (None, 5, 64)        0           conv1d[0][0]                     \n",
      "__________________________________________________________________________________________________\n",
      "bilstm (Bidirectional)          (None, 5, 128)       66048       dropout[0][0]                    \n",
      "__________________________________________________________________________________________________\n",
      "dropout_1 (Dropout)             (None, 5, 128)       0           bilstm[0][0]                     \n",
      "__________________________________________________________________________________________________\n",
      "attention_vec (Dense)           (None, 5, 128)       16512       dropout_1[0][0]                  \n",
      "__________________________________________________________________________________________________\n",
      "multiply (Multiply)             (None, 5, 128)       0           dropout_1[0][0]                  \n",
      "                                                                 attention_vec[0][0]              \n",
      "__________________________________________________________________________________________________\n",
      "flatten (Flatten)               (None, 640)          0           multiply[0][0]                   \n",
      "__________________________________________________________________________________________________\n",
      "dense (Dense)                   (None, 1)            641         flatten[0][0]                    \n",
      "==================================================================================================\n",
      "Total params: 84,801\n",
      "Trainable params: 84,801\n",
      "Non-trainable params: 0\n",
      "__________________________________________________________________________________________________\n",
      "None\n"
     ]
    }
   ],
   "source": [
    "print(model_CBA1Emo.summary())"
   ]
  },
  {
   "cell_type": "markdown",
   "metadata": {},
   "source": [
    "### （一年）纯技术指标影响下的CNN_BILSTM_AT"
   ]
  },
  {
   "cell_type": "code",
   "execution_count": 17,
   "metadata": {},
   "outputs": [
    {
     "data": {
      "text/plain": [
       "array([[3.16843323e+02, 3.48339996e+02, 3.14733337e+02, 1.88556300e+08,\n",
       "        3.41619995e+02],\n",
       "       [3.41563324e+02, 3.64980011e+02, 3.33813324e+02, 1.87245000e+08,\n",
       "        3.39476654e+02],\n",
       "       [3.46553345e+02, 3.56959991e+02, 3.43593323e+02, 1.15579500e+08,\n",
       "        3.45953339e+02],\n",
       "       ...,\n",
       "       [2.19800003e+02, 2.22929993e+02, 2.17779999e+02, 6.65715000e+07,\n",
       "        2.22039993e+02],\n",
       "       [2.08279999e+02, 2.15550003e+02, 2.02000000e+02, 1.17798100e+08,\n",
       "        2.07279999e+02],\n",
       "       [2.06419998e+02, 2.14660004e+02, 2.03800003e+02, 7.55293000e+07,\n",
       "        2.14440002e+02]])"
      ]
     },
     "execution_count": 17,
     "metadata": {},
     "output_type": "execute_result"
    }
   ],
   "source": [
    "# 读取数据\n",
    "CBA1p = pd.read_csv('file/one_year/one_result/TSLA_stockprice_1Y.csv', parse_dates=['Date'], index_col='Date').values\n",
    "CBA1p"
   ]
  },
  {
   "cell_type": "code",
   "execution_count": 18,
   "metadata": {},
   "outputs": [],
   "source": [
    "# 生成归一化容器\n",
    "# feature_range参数沿用默认(0,1)\n",
    "scaler_CBA1p = MinMaxScaler(feature_range=(0,1))\n",
    "# 训练模型\n",
    "scaler_CBA1p = scaler_CBA1p.fit(CBA1p)\n",
    "# 归一化\n",
    "CBA1p = scaler_CBA1p.fit_transform(CBA1p)\n",
    "# 使用series_to_supervised函数构建有监督数据集\n",
    "CBA1p = series_to_supervised(CBA1p)\n",
    "# 必须规定ndarray的dtype为float32（默认float64），否则后续输入模型报错\n",
    "CBA1p = CBA1p.values.astype(np.float32)"
   ]
  },
  {
   "cell_type": "code",
   "execution_count": 19,
   "metadata": {},
   "outputs": [
    {
     "name": "stdout",
     "output_type": "stream",
     "text": [
      "(250,)\n",
      "(250, 6)\n"
     ]
    }
   ],
   "source": [
    "future_days = 0\n",
    "yy = CBA1p[future_days:, 4]\n",
    "print(yy.shape)\n",
    "XX = CBA1p[:len(CBA1p) - future_days, :]\n",
    "print(XX.shape)"
   ]
  },
  {
   "cell_type": "code",
   "execution_count": 20,
   "metadata": {},
   "outputs": [
    {
     "name": "stdout",
     "output_type": "stream",
     "text": [
      "(246, 5, 6) (246, 1)\n"
     ]
    }
   ],
   "source": [
    "#time_steps = 10\n",
    "time_steps = 5\n",
    "XX_new = np.zeros((XX.shape[0] - time_steps + 1, time_steps, XX.shape[1]))\n",
    "yy_new = np.zeros((yy.shape[0] - time_steps + 1, 1))\n",
    "for ix in range(XX_new.shape[0]):\n",
    "    for jx in range(time_steps):\n",
    "        XX_new[ix, jx, :] = XX[ix + jx, :]\n",
    "    yy_new[ix] = yy[ix + time_steps -1]\n",
    "print(XX_new.shape, yy_new.shape)"
   ]
  },
  {
   "cell_type": "code",
   "execution_count": 21,
   "metadata": {},
   "outputs": [
    {
     "name": "stdout",
     "output_type": "stream",
     "text": [
      "(175, 5, 6) (175, 1)\n",
      "(71, 5, 6) (71, 1)\n",
      "5 6\n"
     ]
    }
   ],
   "source": [
    "#划分训练集和测试集 7:3\n",
    "split = int(0.7 * CBA1p.shape[0])\n",
    "X_train_CBA1p = XX_new[:split]\n",
    "X_test_CBA1p = XX_new[split:]\n",
    "\n",
    "y_train_CBA1p = yy_new[:split]\n",
    "y_test_CBA1p = yy_new[split:]\n",
    "\n",
    "print(X_train_CBA1p.shape, y_train_CBA1p.shape)\n",
    "print(X_test_CBA1p.shape, y_test_CBA1p.shape)\n",
    "print(X_train_CBA1p.shape[1], X_train_CBA1p.shape[2])"
   ]
  },
  {
   "cell_type": "code",
   "execution_count": 22,
   "metadata": {},
   "outputs": [
    {
     "name": "stdout",
     "output_type": "stream",
     "text": [
      "Train on 175 samples, validate on 71 samples\n",
      "Epoch 1/50\n",
      "175/175 - 2s - loss: 0.0600 - acc: 0.0057 - mae: 0.2080 - val_loss: 0.0539 - val_acc: 0.0141 - val_mae: 0.1870\n",
      "Epoch 2/50\n",
      "175/175 - 0s - loss: 0.0529 - acc: 0.0057 - mae: 0.1933 - val_loss: 0.0616 - val_acc: 0.0141 - val_mae: 0.2176\n",
      "Epoch 3/50\n",
      "175/175 - 0s - loss: 0.0449 - acc: 0.0057 - mae: 0.1715 - val_loss: 0.0560 - val_acc: 0.0141 - val_mae: 0.2082\n",
      "Epoch 4/50\n",
      "175/175 - 0s - loss: 0.0362 - acc: 0.0057 - mae: 0.1508 - val_loss: 0.0403 - val_acc: 0.0141 - val_mae: 0.1634\n",
      "Epoch 5/50\n",
      "175/175 - 0s - loss: 0.0267 - acc: 0.0057 - mae: 0.1288 - val_loss: 0.0259 - val_acc: 0.0141 - val_mae: 0.1250\n",
      "Epoch 6/50\n",
      "175/175 - 0s - loss: 0.0183 - acc: 0.0057 - mae: 0.1102 - val_loss: 0.0153 - val_acc: 0.0141 - val_mae: 0.0985\n",
      "Epoch 7/50\n",
      "175/175 - 0s - loss: 0.0139 - acc: 0.0057 - mae: 0.0953 - val_loss: 0.0106 - val_acc: 0.0141 - val_mae: 0.0835\n",
      "Epoch 8/50\n",
      "175/175 - 0s - loss: 0.0105 - acc: 0.0057 - mae: 0.0819 - val_loss: 0.0089 - val_acc: 0.0141 - val_mae: 0.0781\n",
      "Epoch 9/50\n",
      "175/175 - 0s - loss: 0.0077 - acc: 0.0057 - mae: 0.0706 - val_loss: 0.0082 - val_acc: 0.0141 - val_mae: 0.0775\n",
      "Epoch 10/50\n",
      "175/175 - 0s - loss: 0.0064 - acc: 0.0057 - mae: 0.0655 - val_loss: 0.0054 - val_acc: 0.0141 - val_mae: 0.0614\n",
      "Epoch 11/50\n",
      "175/175 - 0s - loss: 0.0053 - acc: 0.0057 - mae: 0.0565 - val_loss: 0.0053 - val_acc: 0.0141 - val_mae: 0.0614\n",
      "Epoch 12/50\n",
      "175/175 - 0s - loss: 0.0055 - acc: 0.0057 - mae: 0.0602 - val_loss: 0.0049 - val_acc: 0.0141 - val_mae: 0.0593\n",
      "Epoch 13/50\n",
      "175/175 - 0s - loss: 0.0050 - acc: 0.0057 - mae: 0.0582 - val_loss: 0.0037 - val_acc: 0.0141 - val_mae: 0.0504\n",
      "Epoch 14/50\n",
      "175/175 - 0s - loss: 0.0043 - acc: 0.0057 - mae: 0.0517 - val_loss: 0.0031 - val_acc: 0.0141 - val_mae: 0.0465\n",
      "Epoch 15/50\n",
      "175/175 - 0s - loss: 0.0039 - acc: 0.0057 - mae: 0.0493 - val_loss: 0.0027 - val_acc: 0.0141 - val_mae: 0.0430\n",
      "Epoch 16/50\n",
      "175/175 - 0s - loss: 0.0042 - acc: 0.0057 - mae: 0.0513 - val_loss: 0.0045 - val_acc: 0.0141 - val_mae: 0.0580\n",
      "Epoch 17/50\n",
      "175/175 - 0s - loss: 0.0037 - acc: 0.0057 - mae: 0.0485 - val_loss: 0.0024 - val_acc: 0.0141 - val_mae: 0.0411\n",
      "Epoch 18/50\n",
      "175/175 - 0s - loss: 0.0035 - acc: 0.0057 - mae: 0.0478 - val_loss: 0.0016 - val_acc: 0.0141 - val_mae: 0.0310\n",
      "Epoch 19/50\n",
      "175/175 - 0s - loss: 0.0029 - acc: 0.0057 - mae: 0.0428 - val_loss: 0.0016 - val_acc: 0.0141 - val_mae: 0.0302\n",
      "Epoch 20/50\n",
      "175/175 - 0s - loss: 0.0032 - acc: 0.0057 - mae: 0.0455 - val_loss: 0.0016 - val_acc: 0.0141 - val_mae: 0.0317\n",
      "Epoch 21/50\n",
      "175/175 - 0s - loss: 0.0027 - acc: 0.0057 - mae: 0.0408 - val_loss: 0.0012 - val_acc: 0.0141 - val_mae: 0.0252\n",
      "Epoch 22/50\n",
      "175/175 - 0s - loss: 0.0028 - acc: 0.0057 - mae: 0.0429 - val_loss: 0.0013 - val_acc: 0.0141 - val_mae: 0.0263\n",
      "Epoch 23/50\n",
      "175/175 - 0s - loss: 0.0025 - acc: 0.0057 - mae: 0.0400 - val_loss: 0.0012 - val_acc: 0.0141 - val_mae: 0.0247\n",
      "Epoch 24/50\n",
      "175/175 - 0s - loss: 0.0026 - acc: 0.0057 - mae: 0.0394 - val_loss: 0.0011 - val_acc: 0.0141 - val_mae: 0.0252\n",
      "Epoch 25/50\n",
      "175/175 - 0s - loss: 0.0023 - acc: 0.0057 - mae: 0.0385 - val_loss: 0.0010 - val_acc: 0.0141 - val_mae: 0.0239\n",
      "Epoch 26/50\n",
      "175/175 - 0s - loss: 0.0028 - acc: 0.0057 - mae: 0.0419 - val_loss: 0.0011 - val_acc: 0.0141 - val_mae: 0.0251\n",
      "Epoch 27/50\n",
      "175/175 - 0s - loss: 0.0026 - acc: 0.0057 - mae: 0.0417 - val_loss: 9.3751e-04 - val_acc: 0.0141 - val_mae: 0.0228\n",
      "Epoch 28/50\n",
      "175/175 - 0s - loss: 0.0028 - acc: 0.0057 - mae: 0.0399 - val_loss: 9.1219e-04 - val_acc: 0.0141 - val_mae: 0.0209\n",
      "Epoch 29/50\n",
      "175/175 - 0s - loss: 0.0026 - acc: 0.0057 - mae: 0.0408 - val_loss: 8.6081e-04 - val_acc: 0.0141 - val_mae: 0.0200\n",
      "Epoch 30/50\n",
      "175/175 - 0s - loss: 0.0030 - acc: 0.0057 - mae: 0.0444 - val_loss: 0.0017 - val_acc: 0.0141 - val_mae: 0.0347\n",
      "Epoch 31/50\n",
      "175/175 - 0s - loss: 0.0025 - acc: 0.0057 - mae: 0.0368 - val_loss: 7.9347e-04 - val_acc: 0.0141 - val_mae: 0.0216\n",
      "Epoch 32/50\n",
      "175/175 - 0s - loss: 0.0022 - acc: 0.0057 - mae: 0.0366 - val_loss: 7.9801e-04 - val_acc: 0.0141 - val_mae: 0.0196\n",
      "Epoch 33/50\n",
      "175/175 - 0s - loss: 0.0021 - acc: 0.0057 - mae: 0.0367 - val_loss: 6.7271e-04 - val_acc: 0.0141 - val_mae: 0.0186\n",
      "Epoch 34/50\n",
      "175/175 - 0s - loss: 0.0020 - acc: 0.0057 - mae: 0.0352 - val_loss: 8.0402e-04 - val_acc: 0.0141 - val_mae: 0.0218\n",
      "Epoch 35/50\n",
      "175/175 - 0s - loss: 0.0021 - acc: 0.0057 - mae: 0.0349 - val_loss: 7.7672e-04 - val_acc: 0.0141 - val_mae: 0.0194\n",
      "Epoch 36/50\n",
      "175/175 - 0s - loss: 0.0021 - acc: 0.0057 - mae: 0.0363 - val_loss: 7.2650e-04 - val_acc: 0.0141 - val_mae: 0.0207\n",
      "Epoch 37/50\n",
      "175/175 - 0s - loss: 0.0023 - acc: 0.0057 - mae: 0.0367 - val_loss: 8.1402e-04 - val_acc: 0.0141 - val_mae: 0.0195\n",
      "Epoch 38/50\n",
      "175/175 - 0s - loss: 0.0019 - acc: 0.0057 - mae: 0.0326 - val_loss: 7.0258e-04 - val_acc: 0.0141 - val_mae: 0.0186\n",
      "Epoch 39/50\n",
      "175/175 - 0s - loss: 0.0015 - acc: 0.0057 - mae: 0.0298 - val_loss: 6.4779e-04 - val_acc: 0.0141 - val_mae: 0.0192\n",
      "Epoch 40/50\n",
      "175/175 - 0s - loss: 0.0021 - acc: 0.0057 - mae: 0.0344 - val_loss: 8.1862e-04 - val_acc: 0.0141 - val_mae: 0.0223\n",
      "Epoch 41/50\n",
      "175/175 - 0s - loss: 0.0021 - acc: 0.0057 - mae: 0.0334 - val_loss: 0.0010 - val_acc: 0.0141 - val_mae: 0.0268\n",
      "Epoch 42/50\n",
      "175/175 - 0s - loss: 0.0026 - acc: 0.0057 - mae: 0.0396 - val_loss: 8.2318e-04 - val_acc: 0.0141 - val_mae: 0.0243\n",
      "Epoch 43/50\n",
      "175/175 - 0s - loss: 0.0023 - acc: 0.0057 - mae: 0.0369 - val_loss: 6.5869e-04 - val_acc: 0.0141 - val_mae: 0.0187\n",
      "Epoch 44/50\n",
      "175/175 - 0s - loss: 0.0023 - acc: 0.0057 - mae: 0.0386 - val_loss: 6.2978e-04 - val_acc: 0.0141 - val_mae: 0.0195\n",
      "Epoch 45/50\n",
      "175/175 - 0s - loss: 0.0016 - acc: 0.0057 - mae: 0.0323 - val_loss: 5.7495e-04 - val_acc: 0.0141 - val_mae: 0.0184\n",
      "Epoch 46/50\n",
      "175/175 - 0s - loss: 0.0017 - acc: 0.0057 - mae: 0.0312 - val_loss: 6.3373e-04 - val_acc: 0.0141 - val_mae: 0.0171\n",
      "Epoch 47/50\n",
      "175/175 - 0s - loss: 0.0017 - acc: 0.0057 - mae: 0.0324 - val_loss: 8.9554e-04 - val_acc: 0.0141 - val_mae: 0.0229\n",
      "Epoch 48/50\n",
      "175/175 - 0s - loss: 0.0016 - acc: 0.0057 - mae: 0.0316 - val_loss: 5.0845e-04 - val_acc: 0.0141 - val_mae: 0.0167\n",
      "Epoch 49/50\n",
      "175/175 - 0s - loss: 0.0021 - acc: 0.0057 - mae: 0.0351 - val_loss: 4.8887e-04 - val_acc: 0.0141 - val_mae: 0.0159\n",
      "Epoch 50/50\n",
      "175/175 - 0s - loss: 0.0018 - acc: 0.0057 - mae: 0.0339 - val_loss: 0.0012 - val_acc: 0.0141 - val_mae: 0.0298\n"
     ]
    }
   ],
   "source": [
    "history_CBA1p, model_CBA1p = CNN_BILSTM_AT_Generator(X_train_CBA1p, X_test_CBA1p, y_train_CBA1p, y_test_CBA1p)"
   ]
  },
  {
   "cell_type": "code",
   "execution_count": 23,
   "metadata": {},
   "outputs": [
    {
     "data": {
      "image/png": "[encoded data removed]",
      "text/plain": [
       "<Figure size 432x288 with 1 Axes>"
      ]
     },
     "metadata": {
      "needs_background": "light"
     },
     "output_type": "display_data"
    }
   ],
   "source": [
    "drawLossGraph(history_CBA1p, title='CNN_BILSTM_AT_1Y Loss Graph for Stock Prices without Emotions', num='20')"
   ]
  },
  {
   "cell_type": "code",
   "execution_count": 24,
   "metadata": {},
   "outputs": [
    {
     "data": {
      "image/png": "[encoded data removed]",
      "text/plain": [
       "<Figure size 432x288 with 1 Axes>"
      ]
     },
     "metadata": {
      "needs_background": "light"
     },
     "output_type": "display_data"
    }
   ],
   "source": [
    "# 由X_test前日股票指标预测当天股票close值\n",
    "# 注：predict生成的array需降维成 shape=(n_samples, )\n",
    "y_predict_CBA1p = model_CBA1p.predict(X_test_CBA1p)[:,0]\n",
    "\n",
    "# 反归一化\n",
    "# 重新读取 TSLA股票价格.csv\n",
    "CBA1p = pd.read_csv('file/one_year/one_result/TSLA_stockprice_1Y.csv')\n",
    "col_n_CBA1p = CBA1p.shape[1]-2\n",
    "# 预测结果反归一化\n",
    "inv_yPredict_CBA1p = inverse_transform_col(scaler_CBA1p, y_predict_CBA1p, col_n_CBA1p)\n",
    "# 真实结果反归一化\n",
    "inv_yTest_CBA1p = inverse_transform_col(scaler_CBA1p, y_test_CBA1p, col_n_CBA1p)\n",
    "# 训练集结果反归一化（以绘制完整图像）\n",
    "inv_yTrain_CBA1p = inverse_transform_col(scaler_CBA1p, y_train_CBA1p, col_n_CBA1p)\n",
    "# 绘图\n",
    "predictGraph(inv_yTrain_CBA1p, inv_yPredict_CBA1p, inv_yTest_CBA1p, timelabels = CBA1p['Date'].values, title='CNN_BILSTM_AT_1Y Prediction of Stock Prices without Emotions', num='21')"
   ]
  },
  {
   "cell_type": "code",
   "execution_count": 25,
   "metadata": {},
   "outputs": [
    {
     "name": "stdout",
     "output_type": "stream",
     "text": [
      "The Mean Squared Error is 0.0011961408476944444\n",
      "The Root Mean Squared Error is:\n",
      "0.0345852692297522\n",
      "The Mean Absolute Error is: 0.029847288359953483\n",
      "R Square is 0.9442714714626544\n"
     ]
    }
   ],
   "source": [
    "# 输出MSE MAE R方评估值\n",
    "MSE_error_CBA1p = mean_squared_error(y_test_CBA1p, y_predict_CBA1p)\n",
    "RMSE_CBA1p = math.sqrt(MSE_error_CBA1p)\n",
    "MAE_CBA1p = mean_absolute_error(y_test_CBA1p, y_predict_CBA1p)\n",
    "R_square_CBA1p = r2_score(y_test_CBA1p, y_predict_CBA1p)\n",
    "print('The Mean Squared Error is {}'.format(MSE_error_CBA1p))\n",
    "print('The Root Mean Squared Error is:')\n",
    "print(RMSE_CBA1p)\n",
    "print('The Mean Absolute Error is:',MAE_CBA1p)\n",
    "print('R Square is {}'.format(R_square_CBA1p))"
   ]
  },
  {
   "cell_type": "code",
   "execution_count": 26,
   "metadata": {},
   "outputs": [
    {
     "name": "stdout",
     "output_type": "stream",
     "text": [
      "Model: \"model_1\"\n",
      "__________________________________________________________________________________________________\n",
      "Layer (type)                    Output Shape         Param #     Connected to                     \n",
      "==================================================================================================\n",
      "input_2 (InputLayer)            [(None, 5, 6)]       0                                            \n",
      "__________________________________________________________________________________________________\n",
      "conv1d_1 (Conv1D)               (None, 5, 64)        1216        input_2[0][0]                    \n",
      "__________________________________________________________________________________________________\n",
      "dropout_2 (Dropout)             (None, 5, 64)        0           conv1d_1[0][0]                   \n",
      "__________________________________________________________________________________________________\n",
      "bilstm (Bidirectional)          (None, 5, 128)       66048       dropout_2[0][0]                  \n",
      "__________________________________________________________________________________________________\n",
      "dropout_3 (Dropout)             (None, 5, 128)       0           bilstm[0][0]                     \n",
      "__________________________________________________________________________________________________\n",
      "attention_vec (Dense)           (None, 5, 128)       16512       dropout_3[0][0]                  \n",
      "__________________________________________________________________________________________________\n",
      "multiply_1 (Multiply)           (None, 5, 128)       0           dropout_3[0][0]                  \n",
      "                                                                 attention_vec[0][0]              \n",
      "__________________________________________________________________________________________________\n",
      "flatten_1 (Flatten)             (None, 640)          0           multiply_1[0][0]                 \n",
      "__________________________________________________________________________________________________\n",
      "dense_1 (Dense)                 (None, 1)            641         flatten_1[0][0]                  \n",
      "==================================================================================================\n",
      "Total params: 84,417\n",
      "Trainable params: 84,417\n",
      "Non-trainable params: 0\n",
      "__________________________________________________________________________________________________\n",
      "None\n"
     ]
    }
   ],
   "source": [
    "print(model_CBA1p.summary())"
   ]
  },
  {
   "cell_type": "markdown",
   "metadata": {},
   "source": [
    "## 4.2 (五年数据) 情感数据CNN_BILSTM_AT v.s. 纯技术指标CNN_BILSTM_AT"
   ]
  },
  {
   "cell_type": "markdown",
   "metadata": {},
   "source": [
    "### （五年）情感数据影响下的CNN_BILSTM_AT"
   ]
  },
  {
   "cell_type": "code",
   "execution_count": 27,
   "metadata": {},
   "outputs": [
    {
     "data": {
      "text/plain": [
       "array([[2.09733330e+01, 2.11320000e+01, 2.07506680e+01, ...,\n",
       "        0.00000000e+00, 8.33333333e-02, 2.10086670e+01],\n",
       "       [2.09753320e+01, 2.19340000e+01, 2.09166680e+01, ...,\n",
       "        0.00000000e+00, 0.00000000e+00, 2.19273340e+01],\n",
       "       [2.20300010e+01, 2.27626670e+01, 2.20020010e+01, ...,\n",
       "        1.00000000e-01, 0.00000000e+00, 2.27353320e+01],\n",
       "       ...,\n",
       "       [1.90779999e+02, 1.95889999e+02, 1.77119995e+02, ...,\n",
       "        2.63888889e-02, 1.08966426e-01, 1.77589996e+02],\n",
       "       [1.89899994e+02, 1.91000000e+02, 1.80029999e+02, ...,\n",
       "        3.01587302e-01, 8.33333333e-02, 1.90720001e+02],\n",
       "       [1.86000000e+02, 1.96520004e+02, 1.82589996e+02, ...,\n",
       "        7.80380334e-02, 3.33951763e-02, 1.95970001e+02]])"
      ]
     },
     "execution_count": 27,
     "metadata": {},
     "output_type": "execute_result"
    }
   ],
   "source": [
    "# 读取数据\n",
    "CBA5Emo = pd.read_csv('file/five_year/five_result/TSLA_stockwithEmo_5Y.csv', parse_dates=['Date'], index_col='Date').values\n",
    "CBA5Emo"
   ]
  },
  {
   "cell_type": "code",
   "execution_count": 28,
   "metadata": {},
   "outputs": [],
   "source": [
    "# 生成归一化容器\n",
    "# feature_range参数沿用默认(0,1)\n",
    "scaler_CBA5Emo = MinMaxScaler(feature_range=(0,1))\n",
    "# 训练模型\n",
    "scaler_CBA5Emo = scaler_CBA5Emo.fit(CBA5Emo)\n",
    "# 归一化\n",
    "CBA5Emo = scaler_CBA5Emo.fit_transform(CBA5Emo)\n",
    "# 使用series_to_supervised函数构建有监督数据集\n",
    "CBA5Emo = series_to_supervised(CBA5Emo)\n",
    "# 必须规定ndarray的dtype为float32（默认float64），否则后续输入模型报错\n",
    "CBA5Emo = CBA5Emo.values.astype(np.float32)"
   ]
  },
  {
   "cell_type": "code",
   "execution_count": 29,
   "metadata": {},
   "outputs": [
    {
     "name": "stdout",
     "output_type": "stream",
     "text": [
      "(1240,)\n",
      "(1240, 8)\n"
     ]
    }
   ],
   "source": [
    "future_days = 0\n",
    "yyy = CBA5Emo[future_days:, 6]\n",
    "print(yyy.shape)\n",
    "XXX = CBA5Emo[:len(CBA5Emo) - future_days, :]\n",
    "print(XXX.shape)"
   ]
  },
  {
   "cell_type": "code",
   "execution_count": 30,
   "metadata": {},
   "outputs": [
    {
     "name": "stdout",
     "output_type": "stream",
     "text": [
      "(1221, 20, 8) (1221, 1)\n"
     ]
    }
   ],
   "source": [
    "#time_steps = 10\n",
    "time_steps = 20\n",
    "XXX_new = np.zeros((XXX.shape[0] - time_steps + 1, time_steps, XXX.shape[1]))\n",
    "yyy_new = np.zeros((yyy.shape[0] - time_steps + 1, 1))\n",
    "for ix in range(XXX_new.shape[0]):\n",
    "    for jx in range(time_steps):\n",
    "        XXX_new[ix, jx, :] = XXX[ix + jx, :]\n",
    "    yyy_new[ix] = yyy[ix + time_steps -1]\n",
    "print(XXX_new.shape, yyy_new.shape)"
   ]
  },
  {
   "cell_type": "code",
   "execution_count": 31,
   "metadata": {},
   "outputs": [
    {
     "name": "stdout",
     "output_type": "stream",
     "text": [
      "(1116, 20, 8) (1116, 1)\n",
      "(105, 20, 8) (105, 1)\n",
      "20 8\n"
     ]
    }
   ],
   "source": [
    "#划分训练集和测试集 9:1\n",
    "split = int(0.9 * CBA5Emo.shape[0])\n",
    "X_train_CBA5Emo = XXX_new[:split]\n",
    "X_test_CBA5Emo = XXX_new[split:]\n",
    "\n",
    "y_train_CBA5Emo = yyy_new[:split]\n",
    "y_test_CBA5Emo = yyy_new[split:]\n",
    "\n",
    "print(X_train_CBA5Emo.shape, y_train_CBA5Emo.shape)\n",
    "print(X_test_CBA5Emo.shape, y_test_CBA5Emo.shape)\n",
    "print(X_train_CBA5Emo.shape[1], X_train_CBA5Emo.shape[2])"
   ]
  },
  {
   "cell_type": "code",
   "execution_count": 32,
   "metadata": {},
   "outputs": [
    {
     "name": "stdout",
     "output_type": "stream",
     "text": [
      "Train on 1116 samples, validate on 105 samples\n",
      "Epoch 1/150\n",
      "1116/1116 - 2s - loss: 0.0652 - acc: 0.0018 - mae: 0.1951 - val_loss: 0.0067 - val_acc: 0.0000e+00 - val_mae: 0.0664\n",
      "Epoch 2/150\n",
      "1116/1116 - 1s - loss: 0.0049 - acc: 0.0018 - mae: 0.0482 - val_loss: 0.0062 - val_acc: 0.0000e+00 - val_mae: 0.0639\n",
      "Epoch 3/150\n",
      "1116/1116 - 1s - loss: 0.0023 - acc: 0.0018 - mae: 0.0330 - val_loss: 0.0037 - val_acc: 0.0000e+00 - val_mae: 0.0472\n",
      "Epoch 4/150\n",
      "1116/1116 - 1s - loss: 0.0018 - acc: 0.0018 - mae: 0.0273 - val_loss: 0.0025 - val_acc: 0.0000e+00 - val_mae: 0.0403\n",
      "Epoch 5/150\n",
      "1116/1116 - 1s - loss: 0.0016 - acc: 0.0018 - mae: 0.0251 - val_loss: 0.0028 - val_acc: 0.0000e+00 - val_mae: 0.0422\n",
      "Epoch 6/150\n",
      "1116/1116 - 1s - loss: 0.0011 - acc: 0.0018 - mae: 0.0207 - val_loss: 0.0025 - val_acc: 0.0000e+00 - val_mae: 0.0398\n",
      "Epoch 7/150\n",
      "1116/1116 - 1s - loss: 9.6753e-04 - acc: 0.0018 - mae: 0.0199 - val_loss: 0.0025 - val_acc: 0.0000e+00 - val_mae: 0.0407\n",
      "Epoch 8/150\n",
      "1116/1116 - 1s - loss: 8.2707e-04 - acc: 0.0018 - mae: 0.0185 - val_loss: 0.0013 - val_acc: 0.0000e+00 - val_mae: 0.0299\n",
      "Epoch 9/150\n",
      "1116/1116 - 1s - loss: 7.8232e-04 - acc: 0.0018 - mae: 0.0177 - val_loss: 0.0012 - val_acc: 0.0000e+00 - val_mae: 0.0279\n",
      "Epoch 10/150\n",
      "1116/1116 - 1s - loss: 7.8676e-04 - acc: 0.0018 - mae: 0.0175 - val_loss: 0.0014 - val_acc: 0.0000e+00 - val_mae: 0.0304\n",
      "Epoch 11/150\n",
      "1116/1116 - 1s - loss: 7.5932e-04 - acc: 0.0018 - mae: 0.0174 - val_loss: 0.0012 - val_acc: 0.0000e+00 - val_mae: 0.0280\n",
      "Epoch 12/150\n",
      "1116/1116 - 1s - loss: 6.9371e-04 - acc: 0.0018 - mae: 0.0166 - val_loss: 0.0013 - val_acc: 0.0000e+00 - val_mae: 0.0293\n",
      "Epoch 13/150\n",
      "1116/1116 - 1s - loss: 5.7610e-04 - acc: 0.0018 - mae: 0.0154 - val_loss: 8.2520e-04 - val_acc: 0.0000e+00 - val_mae: 0.0243\n",
      "Epoch 14/150\n",
      "1116/1116 - 1s - loss: 7.2231e-04 - acc: 0.0018 - mae: 0.0168 - val_loss: 0.0031 - val_acc: 0.0000e+00 - val_mae: 0.0491\n",
      "Epoch 15/150\n",
      "1116/1116 - 1s - loss: 7.2073e-04 - acc: 0.0018 - mae: 0.0173 - val_loss: 8.3758e-04 - val_acc: 0.0000e+00 - val_mae: 0.0239\n",
      "Epoch 16/150\n",
      "1116/1116 - 1s - loss: 7.4265e-04 - acc: 0.0018 - mae: 0.0171 - val_loss: 7.4029e-04 - val_acc: 0.0000e+00 - val_mae: 0.0225\n",
      "Epoch 17/150\n",
      "1116/1116 - 1s - loss: 6.9542e-04 - acc: 0.0018 - mae: 0.0159 - val_loss: 0.0012 - val_acc: 0.0000e+00 - val_mae: 0.0284\n",
      "Epoch 18/150\n",
      "1116/1116 - 1s - loss: 4.9126e-04 - acc: 0.0018 - mae: 0.0136 - val_loss: 0.0012 - val_acc: 0.0000e+00 - val_mae: 0.0287\n",
      "Epoch 19/150\n",
      "1116/1116 - 1s - loss: 4.6551e-04 - acc: 0.0018 - mae: 0.0137 - val_loss: 5.5367e-04 - val_acc: 0.0000e+00 - val_mae: 0.0195\n",
      "Epoch 20/150\n",
      "1116/1116 - 1s - loss: 5.0265e-04 - acc: 0.0018 - mae: 0.0143 - val_loss: 6.7058e-04 - val_acc: 0.0000e+00 - val_mae: 0.0211\n",
      "Epoch 21/150\n",
      "1116/1116 - 1s - loss: 5.0733e-04 - acc: 0.0018 - mae: 0.0138 - val_loss: 5.4676e-04 - val_acc: 0.0000e+00 - val_mae: 0.0193\n",
      "Epoch 22/150\n",
      "1116/1116 - 1s - loss: 4.3263e-04 - acc: 0.0018 - mae: 0.0128 - val_loss: 6.4696e-04 - val_acc: 0.0000e+00 - val_mae: 0.0214\n",
      "Epoch 23/150\n",
      "1116/1116 - 1s - loss: 4.6585e-04 - acc: 0.0018 - mae: 0.0135 - val_loss: 0.0024 - val_acc: 0.0000e+00 - val_mae: 0.0443\n",
      "Epoch 24/150\n",
      "1116/1116 - 1s - loss: 5.7063e-04 - acc: 0.0018 - mae: 0.0146 - val_loss: 5.5068e-04 - val_acc: 0.0000e+00 - val_mae: 0.0191\n",
      "Epoch 25/150\n",
      "1116/1116 - 1s - loss: 5.3269e-04 - acc: 0.0018 - mae: 0.0145 - val_loss: 6.8856e-04 - val_acc: 0.0000e+00 - val_mae: 0.0209\n",
      "Epoch 26/150\n",
      "1116/1116 - 1s - loss: 4.3774e-04 - acc: 0.0018 - mae: 0.0131 - val_loss: 7.6568e-04 - val_acc: 0.0000e+00 - val_mae: 0.0234\n",
      "Epoch 27/150\n",
      "1116/1116 - 1s - loss: 3.2032e-04 - acc: 0.0018 - mae: 0.0115 - val_loss: 4.8645e-04 - val_acc: 0.0000e+00 - val_mae: 0.0179\n",
      "Epoch 28/150\n",
      "1116/1116 - 1s - loss: 4.5925e-04 - acc: 0.0018 - mae: 0.0137 - val_loss: 8.0067e-04 - val_acc: 0.0000e+00 - val_mae: 0.0237\n",
      "Epoch 29/150\n",
      "1116/1116 - 1s - loss: 3.6080e-04 - acc: 0.0018 - mae: 0.0120 - val_loss: 4.8267e-04 - val_acc: 0.0000e+00 - val_mae: 0.0178\n",
      "Epoch 30/150\n",
      "1116/1116 - 1s - loss: 3.2699e-04 - acc: 0.0018 - mae: 0.0115 - val_loss: 3.7760e-04 - val_acc: 0.0000e+00 - val_mae: 0.0159\n",
      "Epoch 31/150\n",
      "1116/1116 - 1s - loss: 3.1617e-04 - acc: 0.0018 - mae: 0.0112 - val_loss: 8.2438e-04 - val_acc: 0.0000e+00 - val_mae: 0.0240\n",
      "Epoch 32/150\n",
      "1116/1116 - 1s - loss: 3.2953e-04 - acc: 0.0018 - mae: 0.0117 - val_loss: 4.0608e-04 - val_acc: 0.0000e+00 - val_mae: 0.0164\n",
      "Epoch 33/150\n",
      "1116/1116 - 1s - loss: 3.1932e-04 - acc: 0.0018 - mae: 0.0110 - val_loss: 4.0591e-04 - val_acc: 0.0000e+00 - val_mae: 0.0161\n",
      "Epoch 34/150\n",
      "1116/1116 - 1s - loss: 2.8480e-04 - acc: 0.0018 - mae: 0.0111 - val_loss: 2.8549e-04 - val_acc: 0.0000e+00 - val_mae: 0.0133\n",
      "Epoch 35/150\n",
      "1116/1116 - 1s - loss: 3.1429e-04 - acc: 0.0018 - mae: 0.0116 - val_loss: 7.7510e-04 - val_acc: 0.0000e+00 - val_mae: 0.0232\n",
      "Epoch 36/150\n",
      "1116/1116 - 1s - loss: 2.4417e-04 - acc: 0.0018 - mae: 0.0100 - val_loss: 5.1813e-04 - val_acc: 0.0000e+00 - val_mae: 0.0185\n",
      "Epoch 37/150\n",
      "1116/1116 - 1s - loss: 3.0178e-04 - acc: 0.0018 - mae: 0.0109 - val_loss: 6.1521e-04 - val_acc: 0.0000e+00 - val_mae: 0.0208\n",
      "Epoch 38/150\n",
      "1116/1116 - 1s - loss: 2.8994e-04 - acc: 0.0018 - mae: 0.0108 - val_loss: 5.0070e-04 - val_acc: 0.0000e+00 - val_mae: 0.0186\n",
      "Epoch 39/150\n",
      "1116/1116 - 1s - loss: 2.9040e-04 - acc: 0.0018 - mae: 0.0110 - val_loss: 4.2150e-04 - val_acc: 0.0000e+00 - val_mae: 0.0166\n",
      "Epoch 40/150\n",
      "1116/1116 - 1s - loss: 2.4569e-04 - acc: 0.0018 - mae: 0.0102 - val_loss: 4.1285e-04 - val_acc: 0.0000e+00 - val_mae: 0.0166\n",
      "Epoch 41/150\n",
      "1116/1116 - 1s - loss: 2.8637e-04 - acc: 0.0018 - mae: 0.0108 - val_loss: 5.3824e-04 - val_acc: 0.0000e+00 - val_mae: 0.0188\n",
      "Epoch 42/150\n",
      "1116/1116 - 1s - loss: 3.8546e-04 - acc: 0.0018 - mae: 0.0129 - val_loss: 3.3930e-04 - val_acc: 0.0000e+00 - val_mae: 0.0144\n",
      "Epoch 43/150\n",
      "1116/1116 - 1s - loss: 2.1334e-04 - acc: 0.0018 - mae: 0.0096 - val_loss: 4.6530e-04 - val_acc: 0.0000e+00 - val_mae: 0.0176\n",
      "Epoch 44/150\n",
      "1116/1116 - 1s - loss: 2.9099e-04 - acc: 0.0018 - mae: 0.0108 - val_loss: 3.5528e-04 - val_acc: 0.0000e+00 - val_mae: 0.0151\n",
      "Epoch 45/150\n",
      "1116/1116 - 1s - loss: 2.0473e-04 - acc: 0.0018 - mae: 0.0095 - val_loss: 4.9697e-04 - val_acc: 0.0000e+00 - val_mae: 0.0172\n",
      "Epoch 46/150\n",
      "1116/1116 - 1s - loss: 2.0221e-04 - acc: 0.0018 - mae: 0.0093 - val_loss: 2.5919e-04 - val_acc: 0.0000e+00 - val_mae: 0.0125\n",
      "Epoch 47/150\n",
      "1116/1116 - 1s - loss: 2.5234e-04 - acc: 0.0018 - mae: 0.0100 - val_loss: 2.8158e-04 - val_acc: 0.0000e+00 - val_mae: 0.0130\n",
      "Epoch 48/150\n",
      "1116/1116 - 1s - loss: 2.3255e-04 - acc: 0.0018 - mae: 0.0096 - val_loss: 2.6727e-04 - val_acc: 0.0000e+00 - val_mae: 0.0127\n",
      "Epoch 49/150\n",
      "1116/1116 - 1s - loss: 2.1932e-04 - acc: 0.0018 - mae: 0.0093 - val_loss: 5.1256e-04 - val_acc: 0.0000e+00 - val_mae: 0.0190\n",
      "Epoch 50/150\n",
      "1116/1116 - 1s - loss: 1.8851e-04 - acc: 0.0018 - mae: 0.0087 - val_loss: 3.4581e-04 - val_acc: 0.0000e+00 - val_mae: 0.0148\n",
      "Epoch 51/150\n",
      "1116/1116 - 1s - loss: 2.1500e-04 - acc: 0.0018 - mae: 0.0095 - val_loss: 2.4030e-04 - val_acc: 0.0000e+00 - val_mae: 0.0119\n",
      "Epoch 52/150\n",
      "1116/1116 - 1s - loss: 2.1852e-04 - acc: 0.0018 - mae: 0.0094 - val_loss: 5.2974e-04 - val_acc: 0.0000e+00 - val_mae: 0.0194\n",
      "Epoch 53/150\n",
      "1116/1116 - 1s - loss: 3.3768e-04 - acc: 0.0018 - mae: 0.0120 - val_loss: 5.2819e-04 - val_acc: 0.0000e+00 - val_mae: 0.0188\n",
      "Epoch 54/150\n",
      "1116/1116 - 1s - loss: 3.5662e-04 - acc: 0.0018 - mae: 0.0122 - val_loss: 3.5992e-04 - val_acc: 0.0000e+00 - val_mae: 0.0151\n",
      "Epoch 55/150\n",
      "1116/1116 - 1s - loss: 2.1707e-04 - acc: 0.0018 - mae: 0.0092 - val_loss: 2.9019e-04 - val_acc: 0.0000e+00 - val_mae: 0.0134\n",
      "Epoch 56/150\n",
      "1116/1116 - 1s - loss: 1.9800e-04 - acc: 0.0018 - mae: 0.0091 - val_loss: 8.1163e-04 - val_acc: 0.0000e+00 - val_mae: 0.0253\n",
      "Epoch 57/150\n",
      "1116/1116 - 1s - loss: 1.9999e-04 - acc: 0.0018 - mae: 0.0090 - val_loss: 3.6881e-04 - val_acc: 0.0000e+00 - val_mae: 0.0160\n",
      "Epoch 58/150\n",
      "1116/1116 - 1s - loss: 1.8927e-04 - acc: 0.0018 - mae: 0.0087 - val_loss: 3.9756e-04 - val_acc: 0.0000e+00 - val_mae: 0.0155\n",
      "Epoch 59/150\n",
      "1116/1116 - 1s - loss: 1.7980e-04 - acc: 0.0018 - mae: 0.0089 - val_loss: 1.9323e-04 - val_acc: 0.0000e+00 - val_mae: 0.0106\n",
      "Epoch 60/150\n",
      "1116/1116 - 1s - loss: 1.5666e-04 - acc: 0.0018 - mae: 0.0082 - val_loss: 2.2686e-04 - val_acc: 0.0000e+00 - val_mae: 0.0119\n"
     ]
    },
    {
     "name": "stdout",
     "output_type": "stream",
     "text": [
      "Epoch 61/150\n",
      "1116/1116 - 1s - loss: 1.7006e-04 - acc: 0.0018 - mae: 0.0087 - val_loss: 2.7411e-04 - val_acc: 0.0000e+00 - val_mae: 0.0134\n",
      "Epoch 62/150\n",
      "1116/1116 - 1s - loss: 1.9744e-04 - acc: 0.0018 - mae: 0.0092 - val_loss: 3.1643e-04 - val_acc: 0.0000e+00 - val_mae: 0.0147\n",
      "Epoch 63/150\n",
      "1116/1116 - 1s - loss: 1.6106e-04 - acc: 0.0018 - mae: 0.0081 - val_loss: 2.5668e-04 - val_acc: 0.0000e+00 - val_mae: 0.0130\n",
      "Epoch 64/150\n",
      "1116/1116 - 1s - loss: 3.1695e-04 - acc: 0.0018 - mae: 0.0114 - val_loss: 3.2336e-04 - val_acc: 0.0000e+00 - val_mae: 0.0134\n",
      "Epoch 65/150\n",
      "1116/1116 - 1s - loss: 1.6724e-04 - acc: 0.0018 - mae: 0.0083 - val_loss: 2.2552e-04 - val_acc: 0.0000e+00 - val_mae: 0.0115\n",
      "Epoch 66/150\n",
      "1116/1116 - 1s - loss: 2.1040e-04 - acc: 0.0018 - mae: 0.0093 - val_loss: 3.1642e-04 - val_acc: 0.0000e+00 - val_mae: 0.0135\n",
      "Epoch 67/150\n",
      "1116/1116 - 1s - loss: 1.8977e-04 - acc: 0.0018 - mae: 0.0090 - val_loss: 5.6634e-04 - val_acc: 0.0000e+00 - val_mae: 0.0205\n",
      "Epoch 68/150\n",
      "1116/1116 - 1s - loss: 1.6510e-04 - acc: 0.0018 - mae: 0.0082 - val_loss: 3.0444e-04 - val_acc: 0.0000e+00 - val_mae: 0.0147\n",
      "Epoch 69/150\n",
      "1116/1116 - 1s - loss: 1.6269e-04 - acc: 0.0018 - mae: 0.0082 - val_loss: 2.3234e-04 - val_acc: 0.0000e+00 - val_mae: 0.0118\n",
      "Epoch 70/150\n",
      "1116/1116 - 1s - loss: 1.6869e-04 - acc: 0.0018 - mae: 0.0082 - val_loss: 1.9042e-04 - val_acc: 0.0000e+00 - val_mae: 0.0100\n",
      "Epoch 71/150\n",
      "1116/1116 - 1s - loss: 1.4566e-04 - acc: 0.0018 - mae: 0.0080 - val_loss: 2.9420e-04 - val_acc: 0.0000e+00 - val_mae: 0.0145\n",
      "Epoch 72/150\n",
      "1116/1116 - 1s - loss: 2.2623e-04 - acc: 0.0018 - mae: 0.0098 - val_loss: 7.5753e-04 - val_acc: 0.0000e+00 - val_mae: 0.0250\n",
      "Epoch 73/150\n",
      "1116/1116 - 1s - loss: 2.9957e-04 - acc: 0.0018 - mae: 0.0113 - val_loss: 4.9742e-04 - val_acc: 0.0000e+00 - val_mae: 0.0186\n",
      "Epoch 74/150\n",
      "1116/1116 - 1s - loss: 1.8920e-04 - acc: 0.0018 - mae: 0.0087 - val_loss: 2.5506e-04 - val_acc: 0.0000e+00 - val_mae: 0.0131\n",
      "Epoch 75/150\n",
      "1116/1116 - 1s - loss: 1.4788e-04 - acc: 0.0018 - mae: 0.0079 - val_loss: 3.6590e-04 - val_acc: 0.0000e+00 - val_mae: 0.0142\n",
      "Epoch 76/150\n",
      "1116/1116 - 1s - loss: 1.6979e-04 - acc: 0.0018 - mae: 0.0083 - val_loss: 3.6660e-04 - val_acc: 0.0000e+00 - val_mae: 0.0160\n",
      "Epoch 77/150\n",
      "1116/1116 - 1s - loss: 1.3076e-04 - acc: 0.0018 - mae: 0.0075 - val_loss: 2.7643e-04 - val_acc: 0.0000e+00 - val_mae: 0.0142\n",
      "Epoch 78/150\n",
      "1116/1116 - 1s - loss: 1.3981e-04 - acc: 0.0018 - mae: 0.0074 - val_loss: 1.9946e-04 - val_acc: 0.0000e+00 - val_mae: 0.0117\n",
      "Epoch 79/150\n",
      "1116/1116 - 1s - loss: 1.4317e-04 - acc: 0.0018 - mae: 0.0077 - val_loss: 3.0874e-04 - val_acc: 0.0000e+00 - val_mae: 0.0149\n",
      "Epoch 80/150\n",
      "1116/1116 - 1s - loss: 1.4941e-04 - acc: 0.0018 - mae: 0.0083 - val_loss: 2.4114e-04 - val_acc: 0.0000e+00 - val_mae: 0.0120\n",
      "Epoch 81/150\n",
      "1116/1116 - 1s - loss: 1.5219e-04 - acc: 0.0018 - mae: 0.0080 - val_loss: 3.6363e-04 - val_acc: 0.0000e+00 - val_mae: 0.0163\n",
      "Epoch 82/150\n",
      "1116/1116 - 1s - loss: 1.8844e-04 - acc: 0.0018 - mae: 0.0092 - val_loss: 2.7108e-04 - val_acc: 0.0000e+00 - val_mae: 0.0140\n",
      "Epoch 83/150\n",
      "1116/1116 - 1s - loss: 1.7382e-04 - acc: 0.0018 - mae: 0.0087 - val_loss: 2.9650e-04 - val_acc: 0.0000e+00 - val_mae: 0.0144\n",
      "Epoch 00083: early stopping\n"
     ]
    }
   ],
   "source": [
    "def CNN_BILSTM_AT_GeneratorEX(Xtrain, Xtest, ytrain, ytest):\n",
    "  \n",
    "   # 搭建模型\n",
    "    inputs = Input(shape = (Xtrain.shape[1], Xtrain.shape[2]))   \n",
    "    x = Conv1D(filters = 128, kernel_size = 3, activation = 'relu', padding=\"same\")(inputs)\n",
    "    #x = MaxPooling1D(pool_size = 2)(x)\n",
    "    x = Dropout(0.2)(x)\n",
    "    x = Bidirectional(LSTM(128, return_sequences=True,activation='relu'),name='bilstm')(x)\n",
    "    previous_out = Dropout(0.2)(x)\n",
    "    \n",
    "    # ATTENTION PART STARTS HERE\n",
    "    attention_probs = Dense(256, activation='sigmoid', name='attention_vec')(previous_out)\n",
    "\n",
    "    attention_mul =Multiply()([previous_out, attention_probs])\n",
    "    \n",
    "    attention_mul = Flatten()(attention_mul)\n",
    "\n",
    "    output = Dense(1, activation='sigmoid')(attention_mul)\n",
    "    _model = Model(inputs=inputs, outputs=output)\n",
    "    \n",
    "    # 模型编译\n",
    "    _model.compile(loss='mse', optimizer='adam', metrics=['acc', 'mae'])\n",
    "    # 模型训练\n",
    "    es_cb = EarlyStopping(monitor='val_loss', patience=13, verbose=1, mode='auto')\n",
    "    _history = _model.fit(Xtrain, ytrain, batch_size=40, epochs=150, validation_data=(Xtest, ytest), callbacks=[es_cb], verbose=2)\n",
    "    return _history,_model\n",
    "  \n",
    "history_CBA5Emo, model_CBA5Emo = CNN_BILSTM_AT_GeneratorEX(X_train_CBA5Emo, X_test_CBA5Emo, y_train_CBA5Emo, y_test_CBA5Emo)"
   ]
  },
  {
   "cell_type": "code",
   "execution_count": 33,
   "metadata": {},
   "outputs": [
    {
     "data": {
      "image/png": "[encoded data removed]",
      "text/plain": [
       "<Figure size 432x288 with 1 Axes>"
      ]
     },
     "metadata": {
      "needs_background": "light"
     },
     "output_type": "display_data"
    }
   ],
   "source": [
    "drawLossGraph(history_CBA5Emo, title='CNN_BILSTM_AT_5Y Loss Graph for Stock Prices with Emotions', num='22')"
   ]
  },
  {
   "cell_type": "code",
   "execution_count": 34,
   "metadata": {},
   "outputs": [
    {
     "data": {
      "image/png": "[encoded data removed]",
      "text/plain": [
       "<Figure size 432x288 with 1 Axes>"
      ]
     },
     "metadata": {
      "needs_background": "light"
     },
     "output_type": "display_data"
    }
   ],
   "source": [
    "# 由X_test前日股票指标预测当天股票close值\n",
    "# 注：predict生成的array需降维成 shape=(n_samples, )\n",
    "y_predict_CBA5Emo = model_CBA5Emo.predict(X_test_CBA5Emo)[:,0]\n",
    "\n",
    "# 反归一化\n",
    "# 重新读取 TSLA股票价格融合情感.csv\n",
    "CBA5Emo = pd.read_csv('file/five_year/five_result/TSLA_stockwithEmo_5Y.csv')\n",
    "col_n_CBA5Emo = CBA5Emo.shape[1]-2\n",
    "# 预测结果反归一化\n",
    "inv_yPredict_CBA5Emo = inverse_transform_col(scaler_CBA5Emo, y_predict_CBA5Emo, col_n_CBA5Emo)\n",
    "# 真实结果反归一化\n",
    "inv_yTest_CBA5Emo = inverse_transform_col(scaler_CBA5Emo, y_test_CBA5Emo, col_n_CBA5Emo)\n",
    "# 训练集结果反归一化（以绘制完整图像）\n",
    "inv_yTrain_CBA5Emo = inverse_transform_col(scaler_CBA5Emo, y_train_CBA5Emo, col_n_CBA5Emo)\n",
    "# 绘图\n",
    "predictGraph(inv_yTrain_CBA5Emo, inv_yPredict_CBA5Emo, inv_yTest_CBA5Emo, timelabels = CBA5Emo['Date'].values, title='CNN_BILSTM_AT_5Y Prediction of Stock Prices with Emotions', num='23')"
   ]
  },
  {
   "cell_type": "code",
   "execution_count": 35,
   "metadata": {},
   "outputs": [
    {
     "name": "stdout",
     "output_type": "stream",
     "text": [
      "The Mean Squared Error is 0.00029649640879088373\n",
      "The Root Mean Squared Error is:\n",
      "0.017219071078048424\n",
      "The Mean Absolute Error is: 0.01441243574732826\n",
      "R Square is 0.9616853607652014\n"
     ]
    }
   ],
   "source": [
    "# 输出MSE MAE R方评估值\n",
    "MSE_error_CBA5Emo = mean_squared_error(y_test_CBA5Emo, y_predict_CBA5Emo)\n",
    "RMSE_CBA5Emo = math.sqrt(MSE_error_CBA5Emo)\n",
    "MAE_CBA5Emo = mean_absolute_error(y_test_CBA5Emo, y_predict_CBA5Emo)\n",
    "R_square_CBA5Emo = r2_score(y_test_CBA5Emo, y_predict_CBA5Emo)\n",
    "print('The Mean Squared Error is {}'.format(MSE_error_CBA5Emo))\n",
    "print('The Root Mean Squared Error is:')\n",
    "print(RMSE_CBA5Emo)\n",
    "print('The Mean Absolute Error is:',MAE_CBA5Emo)\n",
    "print('R Square is {}'.format(R_square_CBA5Emo))"
   ]
  },
  {
   "cell_type": "code",
   "execution_count": 36,
   "metadata": {},
   "outputs": [
    {
     "name": "stdout",
     "output_type": "stream",
     "text": [
      "Model: \"model_2\"\n",
      "__________________________________________________________________________________________________\n",
      "Layer (type)                    Output Shape         Param #     Connected to                     \n",
      "==================================================================================================\n",
      "input_3 (InputLayer)            [(None, 20, 8)]      0                                            \n",
      "__________________________________________________________________________________________________\n",
      "conv1d_2 (Conv1D)               (None, 20, 128)      3200        input_3[0][0]                    \n",
      "__________________________________________________________________________________________________\n",
      "dropout_4 (Dropout)             (None, 20, 128)      0           conv1d_2[0][0]                   \n",
      "__________________________________________________________________________________________________\n",
      "bilstm (Bidirectional)          (None, 20, 256)      263168      dropout_4[0][0]                  \n",
      "__________________________________________________________________________________________________\n",
      "dropout_5 (Dropout)             (None, 20, 256)      0           bilstm[0][0]                     \n",
      "__________________________________________________________________________________________________\n",
      "attention_vec (Dense)           (None, 20, 256)      65792       dropout_5[0][0]                  \n",
      "__________________________________________________________________________________________________\n",
      "multiply_2 (Multiply)           (None, 20, 256)      0           dropout_5[0][0]                  \n",
      "                                                                 attention_vec[0][0]              \n",
      "__________________________________________________________________________________________________\n",
      "flatten_2 (Flatten)             (None, 5120)         0           multiply_2[0][0]                 \n",
      "__________________________________________________________________________________________________\n",
      "dense_2 (Dense)                 (None, 1)            5121        flatten_2[0][0]                  \n",
      "==================================================================================================\n",
      "Total params: 337,281\n",
      "Trainable params: 337,281\n",
      "Non-trainable params: 0\n",
      "__________________________________________________________________________________________________\n",
      "None\n"
     ]
    }
   ],
   "source": [
    "print(model_CBA5Emo.summary())"
   ]
  },
  {
   "cell_type": "markdown",
   "metadata": {},
   "source": [
    "### （五年）纯技术指标下的CNN_BILSTM_AT"
   ]
  },
  {
   "cell_type": "code",
   "execution_count": 37,
   "metadata": {},
   "outputs": [
    {
     "data": {
      "text/plain": [
       "array([[2.35126670e+01, 2.36366670e+01, 2.29559990e+01, 7.39560000e+07,\n",
       "        2.30066660e+01],\n",
       "       [2.33253330e+01, 2.33300000e+01, 2.24166680e+01, 8.62095000e+07,\n",
       "        2.24680000e+01],\n",
       "       [2.25866660e+01, 2.28533330e+01, 2.24106670e+01, 6.73755000e+07,\n",
       "        2.24893320e+01],\n",
       "       ...,\n",
       "       [1.90779999e+02, 1.95889999e+02, 1.77119995e+02, 1.27062700e+08,\n",
       "        1.77589996e+02],\n",
       "       [1.89899994e+02, 1.91000000e+02, 1.80029999e+02, 1.32703000e+08,\n",
       "        1.90720001e+02],\n",
       "       [1.86000000e+02, 1.96520004e+02, 1.82589996e+02, 1.14229200e+08,\n",
       "        1.95970001e+02]])"
      ]
     },
     "execution_count": 37,
     "metadata": {},
     "output_type": "execute_result"
    }
   ],
   "source": [
    "# 读取数据\n",
    "CBA5p = pd.read_csv('file/five_year/five_result/TSLA_stockprice_5Y.csv', parse_dates=['Date'], index_col='Date').values\n",
    "CBA5p"
   ]
  },
  {
   "cell_type": "code",
   "execution_count": 38,
   "metadata": {},
   "outputs": [],
   "source": [
    "# 生成归一化容器\n",
    "# feature_range参数沿用默认(0,1)\n",
    "scaler_CBA5p = MinMaxScaler(feature_range=(0,1))\n",
    "# 训练模型\n",
    "scaler_CBA5p = scaler_CBA5p.fit(CBA5p)\n",
    "# 归一化\n",
    "CBA5p = scaler_CBA5p.fit_transform(CBA5p)\n",
    "# 使用series_to_supervised函数构建有监督数据集\n",
    "CBA5p = series_to_supervised(CBA5p)\n",
    "# 必须规定ndarray的dtype为float32（默认float64），否则后续输入模型报错\n",
    "CBA5p = CBA5p.values.astype(np.float32)"
   ]
  },
  {
   "cell_type": "code",
   "execution_count": 39,
   "metadata": {},
   "outputs": [
    {
     "name": "stdout",
     "output_type": "stream",
     "text": [
      "(1274,)\n",
      "(1274, 6)\n"
     ]
    }
   ],
   "source": [
    "future_days = 0\n",
    "yyyy = CBA5p[future_days:, 4]\n",
    "print(yyyy.shape)\n",
    "XXXX = CBA5p[:len(CBA5p) - future_days, :]\n",
    "print(XXXX.shape)"
   ]
  },
  {
   "cell_type": "code",
   "execution_count": 40,
   "metadata": {},
   "outputs": [
    {
     "name": "stdout",
     "output_type": "stream",
     "text": [
      "(1255, 20, 6) (1255, 1)\n"
     ]
    }
   ],
   "source": [
    "#time_steps = 10\n",
    "time_steps = 20\n",
    "XXXX_new = np.zeros((XXXX.shape[0] - time_steps + 1, time_steps, XXXX.shape[1]))\n",
    "yyyy_new = np.zeros((yyyy.shape[0] - time_steps + 1, 1))\n",
    "for ix in range(XXXX_new.shape[0]):\n",
    "    for jx in range(time_steps):\n",
    "        XXXX_new[ix, jx, :] = XXXX[ix + jx, :]\n",
    "    yyyy_new[ix] = yyyy[ix + time_steps -1]\n",
    "print(XXXX_new.shape, yyyy_new.shape)\n"
   ]
  },
  {
   "cell_type": "code",
   "execution_count": 41,
   "metadata": {},
   "outputs": [
    {
     "name": "stdout",
     "output_type": "stream",
     "text": [
      "(1146, 20, 6) (1146, 1)\n",
      "(109, 20, 6) (109, 1)\n",
      "20 6\n"
     ]
    }
   ],
   "source": [
    "#划分训练集和测试集 9:1\n",
    "split = int(0.9 * CBA5p.shape[0])\n",
    "X_train_CBA5p = XXXX_new[:split]\n",
    "X_test_CBA5p = XXXX_new[split:]\n",
    "\n",
    "y_train_CBA5p = yyyy_new[:split]\n",
    "y_test_CBA5p = yyyy_new[split:]\n",
    "\n",
    "print(X_train_CBA5p.shape, y_train_CBA5p.shape)\n",
    "print(X_test_CBA5p.shape, y_test_CBA5p.shape)\n",
    "print(X_train_CBA5p.shape[1], X_train_CBA5p.shape[2])"
   ]
  },
  {
   "cell_type": "code",
   "execution_count": 42,
   "metadata": {},
   "outputs": [
    {
     "name": "stdout",
     "output_type": "stream",
     "text": [
      "Train on 1146 samples, validate on 109 samples\n",
      "Epoch 1/150\n",
      "1146/1146 - 2s - loss: 0.0608 - acc: 0.0017 - mae: 0.1844 - val_loss: 0.0215 - val_acc: 0.0000e+00 - val_mae: 0.1343\n",
      "Epoch 2/150\n",
      "1146/1146 - 1s - loss: 0.0050 - acc: 0.0017 - mae: 0.0500 - val_loss: 0.0038 - val_acc: 0.0000e+00 - val_mae: 0.0514\n",
      "Epoch 3/150\n",
      "1146/1146 - 1s - loss: 0.0025 - acc: 0.0017 - mae: 0.0333 - val_loss: 0.0042 - val_acc: 0.0000e+00 - val_mae: 0.0515\n",
      "Epoch 4/150\n",
      "1146/1146 - 1s - loss: 0.0020 - acc: 0.0017 - mae: 0.0291 - val_loss: 0.0023 - val_acc: 0.0000e+00 - val_mae: 0.0372\n",
      "Epoch 5/150\n",
      "1146/1146 - 1s - loss: 0.0012 - acc: 0.0017 - mae: 0.0220 - val_loss: 0.0018 - val_acc: 0.0000e+00 - val_mae: 0.0329\n",
      "Epoch 6/150\n",
      "1146/1146 - 1s - loss: 0.0013 - acc: 0.0017 - mae: 0.0212 - val_loss: 0.0019 - val_acc: 0.0000e+00 - val_mae: 0.0360\n",
      "Epoch 7/150\n",
      "1146/1146 - 1s - loss: 0.0011 - acc: 0.0017 - mae: 0.0198 - val_loss: 0.0014 - val_acc: 0.0000e+00 - val_mae: 0.0296\n",
      "Epoch 8/150\n",
      "1146/1146 - 1s - loss: 8.4003e-04 - acc: 0.0017 - mae: 0.0174 - val_loss: 0.0014 - val_acc: 0.0000e+00 - val_mae: 0.0300\n",
      "Epoch 9/150\n",
      "1146/1146 - 1s - loss: 8.7341e-04 - acc: 0.0017 - mae: 0.0180 - val_loss: 0.0011 - val_acc: 0.0000e+00 - val_mae: 0.0267\n",
      "Epoch 10/150\n",
      "1146/1146 - 1s - loss: 9.1454e-04 - acc: 0.0017 - mae: 0.0178 - val_loss: 8.0244e-04 - val_acc: 0.0000e+00 - val_mae: 0.0230\n",
      "Epoch 11/150\n",
      "1146/1146 - 1s - loss: 6.7249e-04 - acc: 0.0017 - mae: 0.0158 - val_loss: 0.0011 - val_acc: 0.0000e+00 - val_mae: 0.0266\n",
      "Epoch 12/150\n",
      "1146/1146 - 1s - loss: 7.1948e-04 - acc: 0.0017 - mae: 0.0158 - val_loss: 8.9070e-04 - val_acc: 0.0000e+00 - val_mae: 0.0238\n",
      "Epoch 13/150\n",
      "1146/1146 - 1s - loss: 8.3224e-04 - acc: 0.0017 - mae: 0.0175 - val_loss: 6.6274e-04 - val_acc: 0.0000e+00 - val_mae: 0.0207\n",
      "Epoch 14/150\n",
      "1146/1146 - 1s - loss: 6.4936e-04 - acc: 0.0017 - mae: 0.0153 - val_loss: 6.4333e-04 - val_acc: 0.0000e+00 - val_mae: 0.0201\n",
      "Epoch 15/150\n",
      "1146/1146 - 1s - loss: 7.3625e-04 - acc: 0.0017 - mae: 0.0163 - val_loss: 6.6174e-04 - val_acc: 0.0000e+00 - val_mae: 0.0203\n",
      "Epoch 16/150\n",
      "1146/1146 - 1s - loss: 5.9084e-04 - acc: 0.0017 - mae: 0.0145 - val_loss: 4.4955e-04 - val_acc: 0.0000e+00 - val_mae: 0.0174\n",
      "Epoch 17/150\n",
      "1146/1146 - 1s - loss: 7.2381e-04 - acc: 0.0017 - mae: 0.0164 - val_loss: 0.0015 - val_acc: 0.0000e+00 - val_mae: 0.0337\n",
      "Epoch 18/150\n",
      "1146/1146 - 1s - loss: 6.5412e-04 - acc: 0.0017 - mae: 0.0155 - val_loss: 0.0012 - val_acc: 0.0000e+00 - val_mae: 0.0293\n",
      "Epoch 19/150\n",
      "1146/1146 - 1s - loss: 5.0581e-04 - acc: 0.0017 - mae: 0.0140 - val_loss: 7.5396e-04 - val_acc: 0.0000e+00 - val_mae: 0.0225\n",
      "Epoch 20/150\n",
      "1146/1146 - 1s - loss: 6.1903e-04 - acc: 0.0017 - mae: 0.0154 - val_loss: 7.3107e-04 - val_acc: 0.0000e+00 - val_mae: 0.0227\n",
      "Epoch 21/150\n",
      "1146/1146 - 1s - loss: 5.0803e-04 - acc: 0.0017 - mae: 0.0137 - val_loss: 0.0012 - val_acc: 0.0000e+00 - val_mae: 0.0301\n",
      "Epoch 22/150\n",
      "1146/1146 - 1s - loss: 4.4960e-04 - acc: 0.0017 - mae: 0.0131 - val_loss: 4.0367e-04 - val_acc: 0.0000e+00 - val_mae: 0.0168\n",
      "Epoch 23/150\n",
      "1146/1146 - 1s - loss: 5.0681e-04 - acc: 0.0017 - mae: 0.0145 - val_loss: 8.1001e-04 - val_acc: 0.0000e+00 - val_mae: 0.0241\n",
      "Epoch 24/150\n",
      "1146/1146 - 1s - loss: 4.9546e-04 - acc: 0.0017 - mae: 0.0138 - val_loss: 2.9992e-04 - val_acc: 0.0000e+00 - val_mae: 0.0140\n",
      "Epoch 25/150\n",
      "1146/1146 - 1s - loss: 3.9994e-04 - acc: 0.0017 - mae: 0.0124 - val_loss: 1.8950e-04 - val_acc: 0.0000e+00 - val_mae: 0.0107\n",
      "Epoch 26/150\n",
      "1146/1146 - 1s - loss: 3.6981e-04 - acc: 0.0017 - mae: 0.0120 - val_loss: 4.5830e-04 - val_acc: 0.0000e+00 - val_mae: 0.0184\n",
      "Epoch 27/150\n",
      "1146/1146 - 1s - loss: 4.0544e-04 - acc: 0.0017 - mae: 0.0124 - val_loss: 3.6035e-04 - val_acc: 0.0000e+00 - val_mae: 0.0149\n",
      "Epoch 28/150\n",
      "1146/1146 - 1s - loss: 4.5925e-04 - acc: 0.0017 - mae: 0.0131 - val_loss: 2.9509e-04 - val_acc: 0.0000e+00 - val_mae: 0.0144\n",
      "Epoch 29/150\n",
      "1146/1146 - 1s - loss: 3.2581e-04 - acc: 0.0017 - mae: 0.0115 - val_loss: 0.0012 - val_acc: 0.0000e+00 - val_mae: 0.0325\n",
      "Epoch 30/150\n",
      "1146/1146 - 1s - loss: 4.6666e-04 - acc: 0.0017 - mae: 0.0137 - val_loss: 0.0012 - val_acc: 0.0000e+00 - val_mae: 0.0316\n",
      "Epoch 31/150\n",
      "1146/1146 - 1s - loss: 5.2258e-04 - acc: 0.0017 - mae: 0.0146 - val_loss: 4.1292e-04 - val_acc: 0.0000e+00 - val_mae: 0.0158\n",
      "Epoch 32/150\n",
      "1146/1146 - 1s - loss: 2.9811e-04 - acc: 0.0017 - mae: 0.0109 - val_loss: 5.5832e-04 - val_acc: 0.0000e+00 - val_mae: 0.0213\n",
      "Epoch 33/150\n",
      "1146/1146 - 1s - loss: 3.2732e-04 - acc: 0.0017 - mae: 0.0115 - val_loss: 1.7043e-04 - val_acc: 0.0000e+00 - val_mae: 0.0107\n",
      "Epoch 34/150\n",
      "1146/1146 - 1s - loss: 3.9671e-04 - acc: 0.0017 - mae: 0.0125 - val_loss: 2.9175e-04 - val_acc: 0.0000e+00 - val_mae: 0.0144\n",
      "Epoch 35/150\n",
      "1146/1146 - 1s - loss: 2.9170e-04 - acc: 0.0017 - mae: 0.0108 - val_loss: 0.0018 - val_acc: 0.0000e+00 - val_mae: 0.0381\n",
      "Epoch 36/150\n",
      "1146/1146 - 1s - loss: 3.0250e-04 - acc: 0.0017 - mae: 0.0112 - val_loss: 1.7115e-04 - val_acc: 0.0000e+00 - val_mae: 0.0108\n",
      "Epoch 37/150\n",
      "1146/1146 - 1s - loss: 2.7197e-04 - acc: 0.0017 - mae: 0.0107 - val_loss: 2.7813e-04 - val_acc: 0.0000e+00 - val_mae: 0.0146\n",
      "Epoch 38/150\n",
      "1146/1146 - 1s - loss: 3.7617e-04 - acc: 0.0017 - mae: 0.0125 - val_loss: 0.0017 - val_acc: 0.0000e+00 - val_mae: 0.0388\n",
      "Epoch 39/150\n",
      "1146/1146 - 1s - loss: 4.1650e-04 - acc: 0.0017 - mae: 0.0130 - val_loss: 3.2649e-04 - val_acc: 0.0000e+00 - val_mae: 0.0156\n",
      "Epoch 40/150\n",
      "1146/1146 - 1s - loss: 3.2076e-04 - acc: 0.0017 - mae: 0.0113 - val_loss: 1.3731e-04 - val_acc: 0.0000e+00 - val_mae: 0.0086\n",
      "Epoch 41/150\n",
      "1146/1146 - 1s - loss: 2.1640e-04 - acc: 0.0017 - mae: 0.0099 - val_loss: 3.3640e-04 - val_acc: 0.0000e+00 - val_mae: 0.0163\n",
      "Epoch 42/150\n",
      "1146/1146 - 1s - loss: 2.3764e-04 - acc: 0.0017 - mae: 0.0099 - val_loss: 5.3745e-04 - val_acc: 0.0000e+00 - val_mae: 0.0210\n",
      "Epoch 43/150\n",
      "1146/1146 - 1s - loss: 2.1868e-04 - acc: 0.0017 - mae: 0.0095 - val_loss: 1.3529e-04 - val_acc: 0.0000e+00 - val_mae: 0.0089\n",
      "Epoch 44/150\n",
      "1146/1146 - 1s - loss: 2.3275e-04 - acc: 0.0017 - mae: 0.0098 - val_loss: 0.0016 - val_acc: 0.0000e+00 - val_mae: 0.0374\n",
      "Epoch 45/150\n",
      "1146/1146 - 1s - loss: 1.9986e-04 - acc: 0.0017 - mae: 0.0094 - val_loss: 3.0631e-04 - val_acc: 0.0000e+00 - val_mae: 0.0152\n",
      "Epoch 46/150\n",
      "1146/1146 - 1s - loss: 1.9579e-04 - acc: 0.0017 - mae: 0.0091 - val_loss: 4.1367e-04 - val_acc: 0.0000e+00 - val_mae: 0.0183\n",
      "Epoch 47/150\n",
      "1146/1146 - 1s - loss: 2.1440e-04 - acc: 0.0017 - mae: 0.0094 - val_loss: 5.6832e-04 - val_acc: 0.0000e+00 - val_mae: 0.0215\n",
      "Epoch 48/150\n",
      "1146/1146 - 1s - loss: 2.6281e-04 - acc: 0.0017 - mae: 0.0103 - val_loss: 2.6839e-04 - val_acc: 0.0000e+00 - val_mae: 0.0144\n",
      "Epoch 49/150\n",
      "1146/1146 - 1s - loss: 2.0858e-04 - acc: 0.0017 - mae: 0.0093 - val_loss: 1.2886e-04 - val_acc: 0.0000e+00 - val_mae: 0.0093\n",
      "Epoch 50/150\n",
      "1146/1146 - 1s - loss: 2.3023e-04 - acc: 0.0017 - mae: 0.0095 - val_loss: 1.9780e-04 - val_acc: 0.0000e+00 - val_mae: 0.0110\n",
      "Epoch 51/150\n",
      "1146/1146 - 1s - loss: 2.3938e-04 - acc: 0.0017 - mae: 0.0101 - val_loss: 5.8757e-04 - val_acc: 0.0000e+00 - val_mae: 0.0223\n",
      "Epoch 52/150\n",
      "1146/1146 - 1s - loss: 2.2566e-04 - acc: 0.0017 - mae: 0.0096 - val_loss: 3.2608e-04 - val_acc: 0.0000e+00 - val_mae: 0.0161\n",
      "Epoch 53/150\n",
      "1146/1146 - 1s - loss: 2.5473e-04 - acc: 0.0017 - mae: 0.0100 - val_loss: 9.9928e-04 - val_acc: 0.0000e+00 - val_mae: 0.0295\n",
      "Epoch 54/150\n",
      "1146/1146 - 1s - loss: 2.2553e-04 - acc: 0.0017 - mae: 0.0096 - val_loss: 9.0231e-04 - val_acc: 0.0000e+00 - val_mae: 0.0272\n",
      "Epoch 55/150\n",
      "1146/1146 - 1s - loss: 1.7486e-04 - acc: 0.0017 - mae: 0.0087 - val_loss: 7.1519e-04 - val_acc: 0.0000e+00 - val_mae: 0.0246\n",
      "Epoch 56/150\n",
      "1146/1146 - 1s - loss: 1.7463e-04 - acc: 0.0017 - mae: 0.0084 - val_loss: 0.0018 - val_acc: 0.0000e+00 - val_mae: 0.0395\n",
      "Epoch 57/150\n",
      "1146/1146 - 1s - loss: 2.1260e-04 - acc: 0.0017 - mae: 0.0093 - val_loss: 5.4610e-04 - val_acc: 0.0000e+00 - val_mae: 0.0208\n",
      "Epoch 58/150\n",
      "1146/1146 - 1s - loss: 1.9266e-04 - acc: 0.0017 - mae: 0.0093 - val_loss: 0.0013 - val_acc: 0.0000e+00 - val_mae: 0.0327\n",
      "Epoch 59/150\n",
      "1146/1146 - 1s - loss: 2.6092e-04 - acc: 0.0017 - mae: 0.0104 - val_loss: 0.0011 - val_acc: 0.0000e+00 - val_mae: 0.0298\n",
      "Epoch 60/150\n",
      "1146/1146 - 1s - loss: 2.3006e-04 - acc: 0.0017 - mae: 0.0098 - val_loss: 2.6417e-04 - val_acc: 0.0000e+00 - val_mae: 0.0141\n"
     ]
    },
    {
     "name": "stdout",
     "output_type": "stream",
     "text": [
      "Epoch 61/150\n",
      "1146/1146 - 1s - loss: 2.3455e-04 - acc: 0.0017 - mae: 0.0104 - val_loss: 1.3557e-04 - val_acc: 0.0000e+00 - val_mae: 0.0093\n",
      "Epoch 62/150\n",
      "1146/1146 - 1s - loss: 1.9610e-04 - acc: 0.0017 - mae: 0.0094 - val_loss: 2.5969e-04 - val_acc: 0.0000e+00 - val_mae: 0.0141\n",
      "Epoch 00062: early stopping\n"
     ]
    }
   ],
   "source": [
    "history_CBA5p, model_CBA5p = CNN_BILSTM_AT_GeneratorEX(X_train_CBA5p, X_test_CBA5p, y_train_CBA5p, y_test_CBA5p)"
   ]
  },
  {
   "cell_type": "code",
   "execution_count": 43,
   "metadata": {},
   "outputs": [
    {
     "data": {
      "image/png": "[encoded data removed]",
      "text/plain": [
       "<Figure size 432x288 with 1 Axes>"
      ]
     },
     "metadata": {
      "needs_background": "light"
     },
     "output_type": "display_data"
    }
   ],
   "source": [
    "drawLossGraph(history_CBA5p, title='CNN_BILSTM_AT_5Y Loss Graph for Stock Prices without Emotions', num='24')"
   ]
  },
  {
   "cell_type": "code",
   "execution_count": 44,
   "metadata": {},
   "outputs": [
    {
     "data": {
      "image/png": "[encoded data removed]",
      "text/plain": [
       "<Figure size 432x288 with 1 Axes>"
      ]
     },
     "metadata": {
      "needs_background": "light"
     },
     "output_type": "display_data"
    }
   ],
   "source": [
    "# 由X_test前日股票指标预测当天股票close值\n",
    "# 注：predict生成的array需降维成 shape=(n_samples, )\n",
    "y_predict_CBA5p = model_CBA5p.predict(X_test_CBA5p)[:,0]\n",
    "\n",
    "# 反归一化\n",
    "# 重新读取 TSLA股票价格.csv\n",
    "CBA5p = pd.read_csv('file/five_year/five_result/TSLA_stockprice_5Y.csv')\n",
    "col_n_CBA5p = CBA5p.shape[1]-2\n",
    "# 预测结果反归一化\n",
    "inv_yPredict_CBA5p = inverse_transform_col(scaler_CBA5p, y_predict_CBA5p, col_n_CBA5p)\n",
    "# 真实结果反归一化\n",
    "inv_yTest_CBA5p = inverse_transform_col(scaler_CBA5p, y_test_CBA5p, col_n_CBA5p)\n",
    "# 训练集结果反归一化（以绘制完整图像）\n",
    "inv_yTrain_CBA5p = inverse_transform_col(scaler_CBA5p, y_train_CBA5p, col_n_CBA5p)\n",
    "# 绘图\n",
    "predictGraph(inv_yTrain_CBA5p, inv_yPredict_CBA5p, inv_yTest_CBA5p, timelabels = CBA5p['Date'].values, title='CNN_BILSTM_AT_5Y Prediction of Stock Prices without Emotions', num='25')\n"
   ]
  },
  {
   "cell_type": "code",
   "execution_count": 45,
   "metadata": {},
   "outputs": [
    {
     "name": "stdout",
     "output_type": "stream",
     "text": [
      "The Mean Squared Error is 0.00025969143678787317\n",
      "The Root Mean Squared Error is:\n",
      "0.01611494451705848\n",
      "The Mean Absolute Error is: 0.01407569947592709\n",
      "R Square is 0.9658831653932862\n"
     ]
    }
   ],
   "source": [
    "# 输出MSE MAE R方评估值\n",
    "MSE_error_CBA5p = mean_squared_error(y_test_CBA5p, y_predict_CBA5p)\n",
    "RMSE_CBA5p = math.sqrt(MSE_error_CBA5p)\n",
    "MAE_CBA5p = mean_absolute_error(y_test_CBA5p, y_predict_CBA5p)\n",
    "R_square_CBA5p = r2_score(y_test_CBA5p, y_predict_CBA5p)\n",
    "print('The Mean Squared Error is {}'.format(MSE_error_CBA5p))\n",
    "print('The Root Mean Squared Error is:')\n",
    "print(RMSE_CBA5p)\n",
    "print('The Mean Absolute Error is:',MAE_CBA5p)\n",
    "print('R Square is {}'.format(R_square_CBA5p))"
   ]
  },
  {
   "cell_type": "code",
   "execution_count": 46,
   "metadata": {},
   "outputs": [
    {
     "name": "stdout",
     "output_type": "stream",
     "text": [
      "Model: \"model_3\"\n",
      "__________________________________________________________________________________________________\n",
      "Layer (type)                    Output Shape         Param #     Connected to                     \n",
      "==================================================================================================\n",
      "input_4 (InputLayer)            [(None, 20, 6)]      0                                            \n",
      "__________________________________________________________________________________________________\n",
      "conv1d_3 (Conv1D)               (None, 20, 128)      2432        input_4[0][0]                    \n",
      "__________________________________________________________________________________________________\n",
      "dropout_6 (Dropout)             (None, 20, 128)      0           conv1d_3[0][0]                   \n",
      "__________________________________________________________________________________________________\n",
      "bilstm (Bidirectional)          (None, 20, 256)      263168      dropout_6[0][0]                  \n",
      "__________________________________________________________________________________________________\n",
      "dropout_7 (Dropout)             (None, 20, 256)      0           bilstm[0][0]                     \n",
      "__________________________________________________________________________________________________\n",
      "attention_vec (Dense)           (None, 20, 256)      65792       dropout_7[0][0]                  \n",
      "__________________________________________________________________________________________________\n",
      "multiply_3 (Multiply)           (None, 20, 256)      0           dropout_7[0][0]                  \n",
      "                                                                 attention_vec[0][0]              \n",
      "__________________________________________________________________________________________________\n",
      "flatten_3 (Flatten)             (None, 5120)         0           multiply_3[0][0]                 \n",
      "__________________________________________________________________________________________________\n",
      "dense_3 (Dense)                 (None, 1)            5121        flatten_3[0][0]                  \n",
      "==================================================================================================\n",
      "Total params: 336,513\n",
      "Trainable params: 336,513\n",
      "Non-trainable params: 0\n",
      "__________________________________________________________________________________________________\n",
      "None\n"
     ]
    }
   ],
   "source": [
    "print(model_CBA5p.summary())"
   ]
  },
  {
   "cell_type": "code",
   "execution_count": 56,
   "metadata": {},
   "outputs": [
    {
     "data": {
      "image/png": "[encoded data removed]",
      "text/plain": [
       "<Figure size 432x288 with 1 Axes>"
      ]
     },
     "metadata": {
      "needs_background": "light"
     },
     "output_type": "display_data"
    }
   ],
   "source": [
    "# 绘制CBA算法一年和五年的估值比较图\n",
    "#import matplotlib\n",
    "#import matplotlib.pyplot as plt\n",
    "#import numpy as np\n",
    "\n",
    "def drawHistogram_one_to_five(title, num):\n",
    "    matplotlib.rc(\"font\", family='MicroSoft YaHei')\n",
    "    \n",
    "    list1 = np.array([MSE_error_CBA1Emo])   # 柱状图第一组数据\n",
    "    list2 = np.array([MSE_error_CBA1p])   # 柱状图第二组数据\n",
    "    list3 = np.array([MSE_error_CBA5Emo])   # 柱状图第三组数据\n",
    "    list4 = np.array([MSE_error_CBA5p])   # 柱状图第四组数据\n",
    "    \n",
    "    length = len(list1)\n",
    "    x = np.arange(length)   # 横坐标范围\n",
    "    x_label = [\" \"]\n",
    "\n",
    "    plt.figure()\n",
    "    total_width, n = 2.4 , 6   # 柱状图总宽度，有几组数据\n",
    "    width = total_width / n   # 单个柱状图的宽度\n",
    "    x1 = x - width / 2   # 第一组数据柱状图横坐标起始位置\n",
    "    x2 = x1 + width   # 第二组数据柱状图横坐标起始位置\n",
    "    x3 = 2*width + x1\n",
    "    x4 = 3*width + x1\n",
    "    # 标题\n",
    "    plt.title('Fig'+num+'. '+title)\n",
    "\n",
    "    plt.bar(x1, list1, width=width, label=\"CBA_1Y_emo\")\n",
    "    plt.bar(x2, list2, width=width, label=\"CBA_1Y_pure\")\n",
    "    plt.bar(x3, list3, width=width, label=\"CBA_5Y_emo\")\n",
    "    plt.bar(x4, list4, width=width, label=\"CBA_5Y_pure\")\n",
    "    \n",
    "    for a, b in zip(x1, list1):\n",
    "        plt.text(a, b + 0.00002, '%.5f' % b, ha='center', va='bottom', fontsize=8)\n",
    "\n",
    "    for a, b in zip(x2, list2):\n",
    "        plt.text(a, b + 0.00002, '%.5f' % b, ha='center', va='bottom', fontsize=8)\n",
    "    \n",
    "    for a, b in zip(x3, list3):\n",
    "        plt.text(a, b + 0.00002, '%.5f' % b, ha='center', va='bottom', fontsize=8)\n",
    "\n",
    "    for a, b in zip(x4, list4):\n",
    "        plt.text(a, b + 0.00002, '%.5f' % b, ha='center', va='bottom', fontsize=8)\n",
    "    \n",
    "\n",
    "    plt.xticks(x, x_label)   \n",
    "    # 给出图例\n",
    "    plt.legend(loc=1, prop={'size': 8})\n",
    "    \n",
    "    \n",
    "    # 保存于 file/\n",
    "    #savingPath = 'file/Fig'+num+'_'+title.replace(' ', '_')+'.png'\n",
    "    #plt.savefig(savingPath, dpi=400, bbox_inches='tight')\n",
    "    plt.show()\n",
    "\n",
    "if __name__ == '__main__':\n",
    "    drawHistogram_one_to_five(title = 'Time Factor Comparison by MSE', num = '26')"
   ]
  },
  {
   "cell_type": "code",
   "execution_count": 60,
   "metadata": {},
   "outputs": [
    {
     "data": {
      "image/png": "[encoded data removed]",
      "text/plain": [
       "<Figure size 432x288 with 1 Axes>"
      ]
     },
     "metadata": {
      "needs_background": "light"
     },
     "output_type": "display_data"
    }
   ],
   "source": [
    "# 绘制CBA算法MSE差值比较图 （alpha & beta）\n",
    "#import matplotlib\n",
    "#import matplotlib.pyplot as plt\n",
    "#import numpy as np\n",
    "\n",
    "def difference_MSE(title, num):\n",
    "    matplotlib.rc(\"font\", family='MicroSoft YaHei')\n",
    "    \n",
    "    list1 = np.array([MSE_error_CBA1Emo])   # 柱状图第一组数据\n",
    "    list2 = np.array([MSE_error_CBA1p])   # 柱状图第二组数据\n",
    "    list3 = np.array([MSE_error_CBA5Emo])   # 柱状图第三组数据\n",
    "    list4 = np.array([MSE_error_CBA5p])   # 柱状图第四组数据\n",
    "    alpha = abs(list1-list2)\n",
    "    beta = abs(list3-list4)\n",
    "    \n",
    "    length = len(list1)\n",
    "    x = np.arange(length)   # 横坐标范围\n",
    "    x_label = [\" \"]\n",
    "\n",
    "    plt.figure()\n",
    "    total_width, n = 2.4 , 6   # 柱状图总宽度，有几组数据\n",
    "    width = total_width / n   # 单个柱状图的宽度\n",
    "    x1 = x - width / 2   # 第一组数据柱状图横坐标起始位置\n",
    "    x2 = x1 + width   # 第二组数据柱状图横坐标起始位置\n",
    "    #x3 = 2*width + x1\n",
    "    #x4 = 3*width + x1\n",
    "    # 标题\n",
    "    plt.title('Fig'+num+'. '+title)\n",
    "\n",
    "    plt.bar(x1, alpha, width=width, label=\"alpha difference\")\n",
    "    plt.bar(x2, beta, width=width, label=\"beta difference\")\n",
    "\n",
    "    \n",
    "    for a, b in zip(x1, alpha):\n",
    "        plt.text(a, b + 0.0000002, 'alpha =%.5f' % b, ha='center', va='bottom', fontsize=10)\n",
    "\n",
    "    for a, b in zip(x2, beta):\n",
    "        plt.text(a, b + 0.0000002, 'beta =%.5f' % b, ha='center', va='bottom', fontsize=10)\n",
    "    \n",
    "\n",
    "    plt.xticks(x, x_label)   \n",
    "    # 给出图例\n",
    "    plt.legend(loc=1, prop={'size': 11})\n",
    "    \n",
    "    \n",
    "    # 保存于 file/\n",
    "    #savingPath = 'file/Fig'+num+'_'+title.replace(' ', '_')+'.png'\n",
    "    #plt.savefig(savingPath, dpi=400, bbox_inches='tight')\n",
    "    plt.show()\n",
    "\n",
    "if __name__ == '__main__':\n",
    "    difference_MSE(title = 'Time Factor Comparison by MSE', num = '27')"
   ]
  },
  {
   "cell_type": "code",
   "execution_count": null,
   "metadata": {},
   "outputs": [],
   "source": []
  }
 ],
 "metadata": {
  "kernelspec": {
   "display_name": "Python 3",
   "language": "python",
   "name": "python3"
  },
  "language_info": {
   "codemirror_mode": {
    "name": "ipython",
    "version": 3
   },
   "file_extension": ".py",
   "mimetype": "text/x-python",
   "name": "python",
   "nbconvert_exporter": "python",
   "pygments_lexer": "ipython3",
   "version": "3.7.0"
  }
 },
 "nbformat": 4,
 "nbformat_minor": 2
}
