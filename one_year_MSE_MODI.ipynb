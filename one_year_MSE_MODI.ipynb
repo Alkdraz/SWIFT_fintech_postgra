{
 "cells": [
  {
   "cell_type": "markdown",
   "metadata": {},
   "source": [
    "# 1. 安装数据包"
   ]
  },
  {
   "cell_type": "code",
   "execution_count": 1,
   "metadata": {},
   "outputs": [
    {
     "name": "stderr",
     "output_type": "stream",
     "text": [
      "C:\\Anaconda\\lib\\site-packages\\ipykernel_launcher.py:11: FutureWarning: The pandas.datetime class is deprecated and will be removed from pandas in a future version. Import from datetime module instead.\n",
      "  # This is added back by InteractiveShellApp.init_path()\n"
     ]
    }
   ],
   "source": [
    "# 数据分析的核心库\n",
    "\n",
    "import sys\n",
    "import math\n",
    "import numpy as np\n",
    "import pandas as pd\n",
    "import matplotlib\n",
    "from matplotlib import pyplot as plt\n",
    "import seaborn as sns\n",
    "from pandas.plotting import lag_plot\n",
    "from pandas import datetime\n",
    "import random\n",
    "# 时间序列处理\n",
    "from datetime import datetime\n",
    "from dateutil.parser import parse as dt_parse\n",
    "# 正则库\n",
    "import re\n",
    "# os库\n",
    "from os import listdir\n",
    "# NLTK自然语言处理库\n",
    "import nltk\n",
    "#nltk.download('stopwords')\n",
    "#nltk.download('punkt')\n",
    "from nltk.corpus import stopwords\n",
    "# seaborn成对图矩阵生成\n",
    "from seaborn import pairplot\n",
    "# sklearn库的归一化、训练集测试集划分\n",
    "from sklearn.preprocessing import MinMaxScaler\n",
    "from sklearn.model_selection import train_test_split\n",
    "# Keras LSTM\n",
    "import tensorflow \n",
    "from tensorflow import keras\n",
    "from tensorflow.keras import backend as K\n",
    "from tensorflow.keras.layers import Layer\n",
    "from tensorflow.keras import Model, layers, initializers\n",
    "from tensorflow.keras.models import Sequential\n",
    "from tensorflow.keras.optimizers import Adam\n",
    "from tensorflow.keras.layers import MaxPooling1D, Flatten, Activation, GRU\n",
    "from tensorflow.keras.layers import Multiply, Input,Dense, Dropout, Conv1D, LSTM, Bidirectional, TimeDistributed\n",
    "from tensorflow.keras.wrappers.scikit_learn import KerasRegressor\n",
    "from tensorflow.keras.callbacks import EarlyStopping\n",
    "# ARIMA \n",
    "import statsmodels.api as sm\n",
    "import statsmodels.tsa as ts\n",
    "from statsmodels.tsa.arima_model import ARIMAResults\n",
    "from statsmodels.tsa.stattools import adfuller\n",
    "from statsmodels.graphics.tsaplots import plot_acf, plot_pacf\n",
    "from sklearn.neural_network import MLPRegressor\n",
    "from sklearn.metrics import scorer\n",
    "from sklearn.metrics import accuracy_score\n",
    "from sklearn.metrics import mean_absolute_error\n",
    "from sklearn.metrics import mean_squared_error \n",
    "from sklearn.metrics import r2_score\n",
    "from sklearn.metrics import explained_variance_score\n",
    "import itertools as it\n",
    "#from tensorflow.keras.regularizers import L1, L2\n",
    "from tensorflow.keras.metrics import Accuracy\n",
    "from tensorflow.keras.metrics import RootMeanSquaredError\n",
    "# sklearn MSE\n",
    "from sklearn import metrics\n",
    "from sklearn.metrics import mean_squared_error\n",
    "# GridSearchCV\n",
    "from sklearn.model_selection import GridSearchCV\n",
    "\n",
    "import os\n",
    " \n",
    "os.environ[\"PATH\"] += os.pathsep + 'C:/Users/Administrator/Thesis Programming/情感数据对股票模型预测的影响及神经网络设计/file'"
   ]
  },
  {
   "cell_type": "markdown",
   "metadata": {},
   "source": [
    "# 2. Pandas 显示设置"
   ]
  },
  {
   "cell_type": "code",
   "execution_count": 2,
   "metadata": {},
   "outputs": [],
   "source": [
    "# 设置pandas的最大显示行数、列数和输出宽度\n",
    "pd.set_option('display.max_rows', 30)\n",
    "pd.set_option('display.max_columns', 999)\n",
    "pd.set_option('display.max_colwidth', 50)"
   ]
  },
  {
   "cell_type": "markdown",
   "metadata": {},
   "source": [
    "# 3. 特征工程-模型预处理\n",
    "## 数据清洗已经完成"
   ]
  },
  {
   "cell_type": "code",
   "execution_count": 3,
   "metadata": {},
   "outputs": [],
   "source": [
    "#Define a series transformation func.by supervised learning\n",
    "def series_to_supervised(data, n_in=1):\n",
    "    # Default para.\n",
    "    n_out=1\n",
    "    dropnan=True\n",
    "    # Fine tune this function. Note that data is the stock data of DataFrame time series \n",
    "    # ending with the close column (the column to be predicted)\n",
    "    n_vars = 1 if type(data) is list else data.shape[1]\n",
    "    df = pd.DataFrame(data)\n",
    "    cols, names = list(), list()\n",
    "    # input sequence (t-n, ... t-1)\n",
    "    for i in range(n_in, 0, -1):\n",
    "        cols.append(df.shift(i))\n",
    "        names += [('var%d(t-%d)' % (j+1, i)) for j in range(n_vars)]\n",
    "    # forecast sequence (t, t+1, ... t+n)\n",
    "    for i in range(0, n_out):\n",
    "        cols.append(df.shift(-i))\n",
    "        if i == 0:\n",
    "            names += [('var%d(t)' % (j+1)) for j in range(n_vars)]\n",
    "        else:\n",
    "            names += [('var%d(t+%d)' % (j+1, i)) for j in range(n_vars)]\n",
    "    # put it all together\n",
    "    agg = pd.concat(cols, axis=1)\n",
    "    agg.columns = names\n",
    "    # Delete the irrelevant secondary state [t] column, leaving \n",
    "    # only the close [t] column to be predicted \n",
    "    # and the state feature [t-1] column of the previous time\n",
    "    agg.drop(agg.columns[[x for x in range(data.shape[1], 2*data.shape[1]-1)]], axis=1, inplace=True)\n",
    "    # drop rows with NaN values\n",
    "    if dropnan:\n",
    "        agg.dropna(inplace=True)\n",
    "    return agg"
   ]
  },
  {
   "cell_type": "code",
   "execution_count": 4,
   "metadata": {},
   "outputs": [],
   "source": [
    "# 损失图绘制\n",
    "def drawLossGraph(_history, title, num):\n",
    "    \n",
    "    #损失图绘制，观察最优epochs\n",
    "    #:param _history: 训练历史\n",
    "    #:param title: 图表标题\n",
    "    #:param num: 图表编号\n",
    "    #:return: 无\n",
    "    \n",
    "    plt.plot(_history.history['loss'], color='g', label='train')\n",
    "    plt.plot(_history.history['val_loss'], color='r', label='test')\n",
    "    plt.title('Fig'+num+'. '+title)\n",
    "    plt.xlabel('epochs')\n",
    "    plt.ylabel('loss')\n",
    "    plt.legend()\n",
    "    # 保存于 new_test_file/result/\n",
    "    #savingPath = 'file/Fig'+num+'_'+title.replace(' ', '_')+'.png'\n",
    "    #plt.savefig(savingPath, dpi=400, bbox_inches='tight')\n",
    "    # 展示\n",
    "    plt.show()"
   ]
  },
  {
   "cell_type": "code",
   "execution_count": 5,
   "metadata": {},
   "outputs": [],
   "source": [
    "# 定义反归一化函数\n",
    "def inverse_transform_col(_scaler, y, n_col):\n",
    "    \"\"\"\n",
    "    对某个列进行反归一化处理的函数\n",
    "    :param _scaler: sklearn归一化模型\n",
    "    :param y: 需要反归一化的数据列\n",
    "    :param n_col: y在归一化时所属的列编号\n",
    "    :return: y的反归一化结果\n",
    "    \"\"\"\n",
    "    y = y.copy()\n",
    "    y -= _scaler.min_[n_col]\n",
    "    y /= _scaler.scale_[n_col]\n",
    "    return y"
   ]
  },
  {
   "cell_type": "code",
   "execution_count": 6,
   "metadata": {},
   "outputs": [],
   "source": [
    "# 模型预测结果绘图函数\n",
    "def predictGraph(yTrain, yPredict, yTest, timelabels, title, num):\n",
    "    \"\"\"\n",
    "    预测结果图像绘制函数\n",
    "    :param yTrain: 训练集结果\n",
    "    :param yPredict: 验证集的预测结果\n",
    "    :param yTest: 验证集的真实结果\n",
    "    :param timelabels: x轴刻度标签\n",
    "    :param title: 图表标题\n",
    "    :param num: 图标编号\n",
    "    :return: 无\n",
    "    \"\"\"\n",
    "    len_yTrain = yTrain.shape[0]\n",
    "    len_y = len_yTrain+yPredict.shape[0]\n",
    "    # 真实曲线绘制\n",
    "    plt.plot(np.concatenate([yTrain,yTest]), color='r', label='sample')\n",
    "    # 预测曲线绘制\n",
    "    plt.plot([x for x in range(len_yTrain,len_y)],yPredict, color='g', label='predict')\n",
    "    # 标题和轴标签\n",
    "    plt.title('Fig'+num+'. '+title)\n",
    "    plt.xlabel('date')\n",
    "    plt.ylabel('close')\n",
    "    plt.legend()\n",
    "    # 刻度和刻度标签\n",
    "    xticks = [0,len_yTrain,len_y-1]\n",
    "    xtick_labels = [timelabels[x] for x in xticks]\n",
    "    plt.xticks(ticks=xticks, labels=xtick_labels, rotation=30)\n",
    "    # 保存于 new_test_file/result/\n",
    "    #savingPath = 'file/Fig'+num+'_'+title.replace(' ', '_')+'.png'\n",
    "    #plt.savefig(savingPath, dpi=400, bbox_inches='tight')\n",
    "    # 展示\n",
    "    plt.show()"
   ]
  },
  {
   "cell_type": "markdown",
   "metadata": {},
   "source": [
    "# 4. 循环网络的搭建\n",
    "\n",
    "## 4.1 情感数据影响下的LSTM v.s. 纯技术指标影响下的LSTM "
   ]
  },
  {
   "cell_type": "markdown",
   "metadata": {},
   "source": [
    "### 情感数据影响下的LSTM"
   ]
  },
  {
   "cell_type": "code",
   "execution_count": 7,
   "metadata": {},
   "outputs": [
    {
     "data": {
      "text/plain": [
       "array([[3.16843323e+02, 3.48339996e+02, 3.14733337e+02, ...,\n",
       "        4.88038517e-02, 7.20361750e-02, 3.41619995e+02],\n",
       "       [3.41563324e+02, 3.64980011e+02, 3.33813324e+02, ...,\n",
       "        7.68664389e-02, 8.51711347e-02, 3.39476654e+02],\n",
       "       [3.46553345e+02, 3.56959991e+02, 3.43593323e+02, ...,\n",
       "        5.11512681e-02, 8.35095523e-02, 3.45953339e+02],\n",
       "       ...,\n",
       "       [2.29500000e+02, 2.29820007e+02, 2.17250000e+02, ...,\n",
       "        6.25000000e-02, 1.60282258e-01, 2.20190002e+02],\n",
       "       [2.19800003e+02, 2.22929993e+02, 2.17779999e+02, ...,\n",
       "        1.42857143e-02, 9.02331002e-02, 2.22039993e+02],\n",
       "       [2.08279999e+02, 2.15550003e+02, 2.02000000e+02, ...,\n",
       "        6.95105820e-02, 5.45836710e-02, 2.07279999e+02]])"
      ]
     },
     "execution_count": 7,
     "metadata": {},
     "output_type": "execute_result"
    }
   ],
   "source": [
    "# 读取数据\n",
    "LSTMwithEmotion = pd.read_csv('file/one_year/one_result/TSLA_stockwithEmo_1Y.csv', parse_dates=['Date'], index_col='Date').values\n",
    "LSTMwithEmotion "
   ]
  },
  {
   "cell_type": "code",
   "execution_count": 8,
   "metadata": {},
   "outputs": [
    {
     "data": {
      "text/plain": [
       "array([[0.53504974, 0.66746527, 0.55351887, 1.        , 0.0976077 ,\n",
       "        0.27013566, 0.6665528 ],\n",
       "       [0.65651201, 0.75110585, 0.6472013 , 0.99145809, 0.15373288,\n",
       "        0.31939176, 0.65609646],\n",
       "       [0.68103059, 0.71079344, 0.69522093, 0.52462323, 0.10230254,\n",
       "        0.31316082, 0.68769312],\n",
       "       [0.72795466, 0.7277495 , 0.73355156, 0.30353597, 0.12098622,\n",
       "        0.28073713, 0.75140664],\n",
       "       [0.75014738, 0.78506798, 0.76466451, 0.35640165, 0.0975209 ,\n",
       "        0.26562413, 0.81151011],\n",
       "       [0.90651203, 0.95291869, 0.89463179, 0.44844756, 0.09171244,\n",
       "        0.14868238, 0.97389986]])"
      ]
     },
     "execution_count": 8,
     "metadata": {},
     "output_type": "execute_result"
    }
   ],
   "source": [
    "# Normalization\n",
    "# Feature_range from (0,1) in default\n",
    "scaler_LSTM = MinMaxScaler(feature_range=(0,1))\n",
    "# Fitting model\n",
    "scaler_LSTM = scaler_LSTM.fit(LSTMwithEmotion)\n",
    "# To normalize the data\n",
    "LSTMwithEmotion = scaler_LSTM.fit_transform(LSTMwithEmotion)\n",
    "\n",
    "# Partial arraries' demonstration\n",
    "LSTMwithEmotion[:6,:]"
   ]
  },
  {
   "cell_type": "code",
   "execution_count": 9,
   "metadata": {},
   "outputs": [
    {
     "data": {
      "text/html": [
       "<div>\n",
       "<style scoped>\n",
       "    .dataframe tbody tr th:only-of-type {\n",
       "        vertical-align: middle;\n",
       "    }\n",
       "\n",
       "    .dataframe tbody tr th {\n",
       "        vertical-align: top;\n",
       "    }\n",
       "\n",
       "    .dataframe thead th {\n",
       "        text-align: right;\n",
       "    }\n",
       "</style>\n",
       "<table border=\"1\" class=\"dataframe\">\n",
       "  <thead>\n",
       "    <tr style=\"text-align: right;\">\n",
       "      <th></th>\n",
       "      <th>var1(t-1)</th>\n",
       "      <th>var2(t-1)</th>\n",
       "      <th>var3(t-1)</th>\n",
       "      <th>var4(t-1)</th>\n",
       "      <th>var5(t-1)</th>\n",
       "      <th>var6(t-1)</th>\n",
       "      <th>var7(t-1)</th>\n",
       "      <th>var7(t)</th>\n",
       "    </tr>\n",
       "  </thead>\n",
       "  <tbody>\n",
       "    <tr>\n",
       "      <th>1</th>\n",
       "      <td>0.535050</td>\n",
       "      <td>0.667465</td>\n",
       "      <td>0.553519</td>\n",
       "      <td>1.000000</td>\n",
       "      <td>0.097608</td>\n",
       "      <td>0.270136</td>\n",
       "      <td>0.666553</td>\n",
       "      <td>0.656096</td>\n",
       "    </tr>\n",
       "    <tr>\n",
       "      <th>2</th>\n",
       "      <td>0.656512</td>\n",
       "      <td>0.751106</td>\n",
       "      <td>0.647201</td>\n",
       "      <td>0.991458</td>\n",
       "      <td>0.153733</td>\n",
       "      <td>0.319392</td>\n",
       "      <td>0.656096</td>\n",
       "      <td>0.687693</td>\n",
       "    </tr>\n",
       "    <tr>\n",
       "      <th>3</th>\n",
       "      <td>0.681031</td>\n",
       "      <td>0.710793</td>\n",
       "      <td>0.695221</td>\n",
       "      <td>0.524623</td>\n",
       "      <td>0.102303</td>\n",
       "      <td>0.313161</td>\n",
       "      <td>0.687693</td>\n",
       "      <td>0.751407</td>\n",
       "    </tr>\n",
       "    <tr>\n",
       "      <th>4</th>\n",
       "      <td>0.727955</td>\n",
       "      <td>0.727750</td>\n",
       "      <td>0.733552</td>\n",
       "      <td>0.303536</td>\n",
       "      <td>0.120986</td>\n",
       "      <td>0.280737</td>\n",
       "      <td>0.751407</td>\n",
       "      <td>0.811510</td>\n",
       "    </tr>\n",
       "    <tr>\n",
       "      <th>5</th>\n",
       "      <td>0.750147</td>\n",
       "      <td>0.785068</td>\n",
       "      <td>0.764665</td>\n",
       "      <td>0.356402</td>\n",
       "      <td>0.097521</td>\n",
       "      <td>0.265624</td>\n",
       "      <td>0.811510</td>\n",
       "      <td>0.973900</td>\n",
       "    </tr>\n",
       "    <tr>\n",
       "      <th>...</th>\n",
       "      <td>...</td>\n",
       "      <td>...</td>\n",
       "      <td>...</td>\n",
       "      <td>...</td>\n",
       "      <td>...</td>\n",
       "      <td>...</td>\n",
       "      <td>...</td>\n",
       "      <td>...</td>\n",
       "    </tr>\n",
       "    <tr>\n",
       "      <th>175</th>\n",
       "      <td>0.063876</td>\n",
       "      <td>0.051270</td>\n",
       "      <td>0.063830</td>\n",
       "      <td>0.273399</td>\n",
       "      <td>0.094843</td>\n",
       "      <td>0.355849</td>\n",
       "      <td>0.056152</td>\n",
       "      <td>0.000000</td>\n",
       "    </tr>\n",
       "    <tr>\n",
       "      <th>176</th>\n",
       "      <td>0.078911</td>\n",
       "      <td>0.053833</td>\n",
       "      <td>0.010606</td>\n",
       "      <td>0.383393</td>\n",
       "      <td>0.000000</td>\n",
       "      <td>0.625000</td>\n",
       "      <td>0.000000</td>\n",
       "      <td>0.070056</td>\n",
       "    </tr>\n",
       "    <tr>\n",
       "      <th>177</th>\n",
       "      <td>0.010269</td>\n",
       "      <td>0.031717</td>\n",
       "      <td>0.036579</td>\n",
       "      <td>0.289135</td>\n",
       "      <td>0.400000</td>\n",
       "      <td>0.000000</td>\n",
       "      <td>0.070056</td>\n",
       "      <td>0.074154</td>\n",
       "    </tr>\n",
       "    <tr>\n",
       "      <th>178</th>\n",
       "      <td>0.105886</td>\n",
       "      <td>0.071728</td>\n",
       "      <td>0.074877</td>\n",
       "      <td>0.266095</td>\n",
       "      <td>0.125000</td>\n",
       "      <td>0.601058</td>\n",
       "      <td>0.074154</td>\n",
       "      <td>0.083179</td>\n",
       "    </tr>\n",
       "    <tr>\n",
       "      <th>179</th>\n",
       "      <td>0.058225</td>\n",
       "      <td>0.037095</td>\n",
       "      <td>0.077480</td>\n",
       "      <td>0.205381</td>\n",
       "      <td>0.028571</td>\n",
       "      <td>0.338374</td>\n",
       "      <td>0.083179</td>\n",
       "      <td>0.011172</td>\n",
       "    </tr>\n",
       "  </tbody>\n",
       "</table>\n",
       "<p>179 rows × 8 columns</p>\n",
       "</div>"
      ],
      "text/plain": [
       "     var1(t-1)  var2(t-1)  var3(t-1)  var4(t-1)  var5(t-1)  var6(t-1)  \\\n",
       "1     0.535050   0.667465   0.553519   1.000000   0.097608   0.270136   \n",
       "2     0.656512   0.751106   0.647201   0.991458   0.153733   0.319392   \n",
       "3     0.681031   0.710793   0.695221   0.524623   0.102303   0.313161   \n",
       "4     0.727955   0.727750   0.733552   0.303536   0.120986   0.280737   \n",
       "5     0.750147   0.785068   0.764665   0.356402   0.097521   0.265624   \n",
       "..         ...        ...        ...        ...        ...        ...   \n",
       "175   0.063876   0.051270   0.063830   0.273399   0.094843   0.355849   \n",
       "176   0.078911   0.053833   0.010606   0.383393   0.000000   0.625000   \n",
       "177   0.010269   0.031717   0.036579   0.289135   0.400000   0.000000   \n",
       "178   0.105886   0.071728   0.074877   0.266095   0.125000   0.601058   \n",
       "179   0.058225   0.037095   0.077480   0.205381   0.028571   0.338374   \n",
       "\n",
       "     var7(t-1)   var7(t)  \n",
       "1     0.666553  0.656096  \n",
       "2     0.656096  0.687693  \n",
       "3     0.687693  0.751407  \n",
       "4     0.751407  0.811510  \n",
       "5     0.811510  0.973900  \n",
       "..         ...       ...  \n",
       "175   0.056152  0.000000  \n",
       "176   0.000000  0.070056  \n",
       "177   0.070056  0.074154  \n",
       "178   0.074154  0.083179  \n",
       "179   0.083179  0.011172  \n",
       "\n",
       "[179 rows x 8 columns]"
      ]
     },
     "execution_count": 9,
     "metadata": {},
     "output_type": "execute_result"
    }
   ],
   "source": [
    "# 使用series_to_supervised函数构建有监督数据集\n",
    "LSTMwithEmotion = series_to_supervised(LSTMwithEmotion)\n",
    "LSTMwithEmotion"
   ]
  },
  {
   "cell_type": "code",
   "execution_count": 10,
   "metadata": {},
   "outputs": [],
   "source": [
    "# It must be specified that the dtype of darray is float32 (default float64), \n",
    "#  otherwise the subsequent input of LSTM model will report an error\n",
    "LSTMwithEmotion = LSTMwithEmotion.values.astype(np.float32)\n",
    "# Training set: verification set=7:3\n",
    "X_train_LSTM, X_test_LSTM, y_train_LSTM, y_test_LSTM = train_test_split(LSTMwithEmotion[:,:-1], LSTMwithEmotion[:,-1], test_size=0.3, shuffle=False)\n"
   ]
  },
  {
   "cell_type": "code",
   "execution_count": 11,
   "metadata": {},
   "outputs": [
    {
     "name": "stdout",
     "output_type": "stream",
     "text": [
      "125\n",
      "54\n"
     ]
    }
   ],
   "source": [
    "# Building LSTM model based on Keras function\n",
    "# Reshape X_ Train and X_ test：\n",
    "# reshape input to be 3D [samples, timesteps, features]\n",
    "X_train_LSTM = X_train_LSTM.reshape((X_train_LSTM.shape[0], 1, X_train_LSTM.shape[1]))\n",
    "X_test_LSTM = X_test_LSTM.reshape((X_test_LSTM.shape[0], 1, X_test_LSTM.shape[1]))\n",
    "\n",
    "print(len(X_train_LSTM))\n",
    "print(len(X_test_LSTM))"
   ]
  },
  {
   "cell_type": "code",
   "execution_count": 12,
   "metadata": {},
   "outputs": [
    {
     "data": {
      "text/plain": [
       "(125, 1, 7)"
      ]
     },
     "execution_count": 12,
     "metadata": {},
     "output_type": "execute_result"
    }
   ],
   "source": [
    "X_train_LSTM.shape"
   ]
  },
  {
   "cell_type": "code",
   "execution_count": 13,
   "metadata": {},
   "outputs": [
    {
     "name": "stdout",
     "output_type": "stream",
     "text": [
      "Train on 125 samples, validate on 54 samples\n",
      "Epoch 1/35\n",
      "125/125 [==============================] - 1s 11ms/sample - loss: 0.3103 - val_loss: 0.1218\n",
      "Epoch 2/35\n",
      "125/125 [==============================] - 0s 135us/sample - loss: 0.2992 - val_loss: 0.0931\n",
      "Epoch 3/35\n",
      "125/125 [==============================] - 0s 136us/sample - loss: 0.2521 - val_loss: 0.0633\n",
      "Epoch 4/35\n",
      "125/125 [==============================] - 0s 136us/sample - loss: 0.1875 - val_loss: 0.0394\n",
      "Epoch 5/35\n",
      "125/125 [==============================] - 0s 128us/sample - loss: 0.1321 - val_loss: 0.0234\n",
      "Epoch 6/35\n",
      "125/125 [==============================] - 0s 143us/sample - loss: 0.0891 - val_loss: 0.0150\n",
      "Epoch 7/35\n",
      "125/125 [==============================] - 0s 128us/sample - loss: 0.0561 - val_loss: 0.0131\n",
      "Epoch 8/35\n",
      "125/125 [==============================] - 0s 136us/sample - loss: 0.0374 - val_loss: 0.0154\n",
      "Epoch 9/35\n",
      "125/125 [==============================] - 0s 128us/sample - loss: 0.0281 - val_loss: 0.0190\n",
      "Epoch 10/35\n",
      "125/125 [==============================] - 0s 120us/sample - loss: 0.0239 - val_loss: 0.0215\n",
      "Epoch 11/35\n",
      "125/125 [==============================] - 0s 134us/sample - loss: 0.0225 - val_loss: 0.0224\n",
      "Epoch 12/35\n",
      "125/125 [==============================] - 0s 120us/sample - loss: 0.0206 - val_loss: 0.0216\n",
      "Epoch 13/35\n",
      "125/125 [==============================] - 0s 136us/sample - loss: 0.0180 - val_loss: 0.0198\n",
      "Epoch 14/35\n",
      "125/125 [==============================] - 0s 127us/sample - loss: 0.0198 - val_loss: 0.0179\n",
      "Epoch 15/35\n",
      "125/125 [==============================] - 0s 128us/sample - loss: 0.0169 - val_loss: 0.0163\n",
      "Epoch 16/35\n",
      "125/125 [==============================] - 0s 128us/sample - loss: 0.0157 - val_loss: 0.0150\n",
      "Epoch 17/35\n",
      "125/125 [==============================] - 0s 136us/sample - loss: 0.0163 - val_loss: 0.0141\n",
      "Epoch 18/35\n",
      "125/125 [==============================] - 0s 128us/sample - loss: 0.0164 - val_loss: 0.0135\n",
      "Epoch 19/35\n",
      "125/125 [==============================] - 0s 128us/sample - loss: 0.0153 - val_loss: 0.0129\n",
      "Epoch 20/35\n",
      "125/125 [==============================] - 0s 127us/sample - loss: 0.0139 - val_loss: 0.0122\n",
      "Epoch 21/35\n",
      "125/125 [==============================] - 0s 128us/sample - loss: 0.0147 - val_loss: 0.0116\n",
      "Epoch 22/35\n",
      "125/125 [==============================] - 0s 128us/sample - loss: 0.0146 - val_loss: 0.0111\n",
      "Epoch 23/35\n",
      "125/125 [==============================] - 0s 128us/sample - loss: 0.0147 - val_loss: 0.0105\n",
      "Epoch 24/35\n",
      "125/125 [==============================] - 0s 120us/sample - loss: 0.0139 - val_loss: 0.0097\n",
      "Epoch 25/35\n",
      "125/125 [==============================] - 0s 128us/sample - loss: 0.0122 - val_loss: 0.0093\n",
      "Epoch 26/35\n",
      "125/125 [==============================] - 0s 136us/sample - loss: 0.0110 - val_loss: 0.0089\n",
      "Epoch 27/35\n",
      "125/125 [==============================] - 0s 128us/sample - loss: 0.0104 - val_loss: 0.0084\n",
      "Epoch 28/35\n",
      "125/125 [==============================] - 0s 128us/sample - loss: 0.0103 - val_loss: 0.0079\n",
      "Epoch 29/35\n",
      "125/125 [==============================] - 0s 128us/sample - loss: 0.0101 - val_loss: 0.0075\n",
      "Epoch 30/35\n",
      "125/125 [==============================] - 0s 136us/sample - loss: 0.0098 - val_loss: 0.0071\n",
      "Epoch 31/35\n",
      "125/125 [==============================] - 0s 120us/sample - loss: 0.0097 - val_loss: 0.0067\n",
      "Epoch 32/35\n",
      "125/125 [==============================] - 0s 128us/sample - loss: 0.0093 - val_loss: 0.0063\n",
      "Epoch 33/35\n",
      "125/125 [==============================] - 0s 128us/sample - loss: 0.0095 - val_loss: 0.0059\n",
      "Epoch 34/35\n",
      "125/125 [==============================] - 0s 127us/sample - loss: 0.0103 - val_loss: 0.0056\n",
      "Epoch 35/35\n",
      "125/125 [==============================] - 0s 128us/sample - loss: 0.0099 - val_loss: 0.0054\n"
     ]
    }
   ],
   "source": [
    "# Establish LSTM neural network model and train the model\n",
    "def LSTM_Generator(Xtrain, Xtest, ytrain, ytest):\n",
    "   \n",
    "    \n",
    "    _model = Sequential()\n",
    "    _model.add(LSTM(64,return_sequences=True,input_shape=(Xtrain.shape[1], Xtrain.shape[2])))\n",
    "    _model.add(Dropout(0.2))\n",
    "    \n",
    "    _model.add(Dense(1, activation='relu'))\n",
    "    # compile\n",
    "    _model.compile(loss='mse', optimizer='adam')\n",
    "    # train the model\n",
    "    _history = _model.fit(Xtrain, ytrain, epochs=35, batch_size=20, validation_data=(Xtest, ytest), shuffle=False, verbose=1)\n",
    "    return _history,_model\n",
    "  \n",
    "history_LSTM, model_LSTM = LSTM_Generator(X_train_LSTM, X_test_LSTM, y_train_LSTM, y_test_LSTM)"
   ]
  },
  {
   "cell_type": "code",
   "execution_count": 14,
   "metadata": {},
   "outputs": [
    {
     "data": {
      "image/png": "[encoded data removed]",
      "text/plain": [
       "<Figure size 432x288 with 1 Axes>"
      ]
     },
     "metadata": {
      "needs_background": "light"
     },
     "output_type": "display_data"
    }
   ],
   "source": [
    "# 绘制Loss曲线\n",
    "drawLossGraph(history_LSTM, title='LSTM_1Y Loss Graph for Stock Prices with Emotions', num='3')"
   ]
  },
  {
   "cell_type": "code",
   "execution_count": 15,
   "metadata": {},
   "outputs": [
    {
     "data": {
      "image/png": "[encoded data removed]",
      "text/plain": [
       "<Figure size 432x288 with 1 Axes>"
      ]
     },
     "metadata": {
      "needs_background": "light"
     },
     "output_type": "display_data"
    }
   ],
   "source": [
    "# 由X_test前日股票指标预测当天股票close值\n",
    "# 注：predict生成的array需降维成 shape=(n_samples, )\n",
    "y_predict_LSTM = model_LSTM.predict(X_test_LSTM)[:,0]\n",
    "\n",
    "# 反归一化\n",
    "# 重新读取 TSLA股票价格融合情感.csv\n",
    "LSTMwithEmotion = pd.read_csv('file/one_year/one_result/TSLA_stockwithEmo_1Y.csv')\n",
    "col_n_LSTM = LSTMwithEmotion.shape[1]-2\n",
    "# 预测结果反归一化\n",
    "inv_yPredict_LSTM = inverse_transform_col(scaler_LSTM, y_predict_LSTM, col_n_LSTM)\n",
    "# 真实结果反归一化\n",
    "inv_yTest_LSTM = inverse_transform_col(scaler_LSTM, y_test_LSTM, col_n_LSTM)\n",
    "# 训练集结果反归一化（以绘制完整图像）\n",
    "inv_yTrain_LSTM = inverse_transform_col(scaler_LSTM, y_train_LSTM, col_n_LSTM)\n",
    "# 绘图\n",
    "predictGraph(inv_yTrain_LSTM, inv_yPredict_LSTM, inv_yTest_LSTM, timelabels=LSTMwithEmotion['Date'].values, title='LSTM_1Y Prediction of Stock Prices with Emotions', num='4')\n"
   ]
  },
  {
   "cell_type": "code",
   "execution_count": 16,
   "metadata": {},
   "outputs": [
    {
     "name": "stdout",
     "output_type": "stream",
     "text": [
      "Model: \"sequential\"\n",
      "_________________________________________________________________\n",
      "Layer (type)                 Output Shape              Param #   \n",
      "=================================================================\n",
      "lstm (LSTM)                  (None, 1, 64)             18432     \n",
      "_________________________________________________________________\n",
      "dropout (Dropout)            (None, 1, 64)             0         \n",
      "_________________________________________________________________\n",
      "dense (Dense)                (None, 1, 1)              65        \n",
      "=================================================================\n",
      "Total params: 18,497\n",
      "Trainable params: 18,497\n",
      "Non-trainable params: 0\n",
      "_________________________________________________________________\n",
      "None\n"
     ]
    }
   ],
   "source": [
    "print(model_LSTM.summary())"
   ]
  },
  {
   "cell_type": "markdown",
   "metadata": {},
   "source": [
    "### 纯技术指标影响下的LSTM"
   ]
  },
  {
   "cell_type": "code",
   "execution_count": 17,
   "metadata": {},
   "outputs": [],
   "source": [
    "# 创建标准化功能打包函数 \n",
    "def formatData(sharePricesData):\n",
    "    \"\"\"\n",
    "    模式化样本数据的函数\n",
    "    :param sharePricesData: 样本数据的DataFrame\n",
    "    :return: X_train, X_test, y_train, y_test, scaler\n",
    "    \"\"\"\n",
    "    # 归一化\n",
    "    _scaler = MinMaxScaler()\n",
    "    _scaler = _scaler.fit(sharePricesData)\n",
    "    sharePricesData = _scaler.fit_transform(sharePricesData)\n",
    "    # 构建有监督数据集\n",
    "    sharePricesData = series_to_supervised(sharePricesData)\n",
    "    # dtype为float32\n",
    "    sharePricesData = sharePricesData.values.astype(np.float32)\n",
    "    # 训练集和验证集的划分\n",
    "    _X_train, _X_test, _y_train, _y_test = train_test_split(sharePricesData[:,:-1], sharePricesData[:,-1], test_size=0.3, shuffle=False)\n",
    "    # reshape input\n",
    "    _X_train = _X_train.reshape((_X_train.shape[0], 1, _X_train.shape[1]))\n",
    "    _X_test = _X_test.reshape((_X_test.shape[0], 1, _X_test.shape[1]))\n",
    "    return _X_train, _X_test, _y_train, _y_test, _scaler"
   ]
  },
  {
   "cell_type": "code",
   "execution_count": 18,
   "metadata": {},
   "outputs": [],
   "source": [
    "# 批量反归一化\n",
    "def invTransformMulti(_scaler, _y_predict, _y_test, _y_train, _col_n):\n",
    "    \n",
    "    _inv_yPredict = inverse_transform_col(_scaler, _y_predict, _col_n)\n",
    "    _inv_yTest = inverse_transform_col(_scaler, _y_test, _col_n)\n",
    "    _inv_yTrain = inverse_transform_col(_scaler, _y_train, _col_n)\n",
    "    return _inv_yPredict, _inv_yTest, _inv_yTrain"
   ]
  },
  {
   "cell_type": "code",
   "execution_count": 19,
   "metadata": {},
   "outputs": [],
   "source": [
    "# 读取数据\n",
    "sharePricesTSLA_pureLSTM = pd.read_csv('file/one_year/one_result/TSLA_stockprice_1Y.csv', parse_dates=['Date'], index_col='Date').values\n",
    "# 标准化数据输入\n",
    "X_train_pureLSTM, X_test_pureLSTM, y_train_pureLSTM, y_test_pureLSTM, scaler_pureLSTM = formatData(sharePricesTSLA_pureLSTM)\n"
   ]
  },
  {
   "cell_type": "code",
   "execution_count": 20,
   "metadata": {},
   "outputs": [
    {
     "name": "stdout",
     "output_type": "stream",
     "text": [
      "175\n",
      "75\n"
     ]
    }
   ],
   "source": [
    "print(len(X_train_pureLSTM))\n",
    "print(len(X_test_pureLSTM))"
   ]
  },
  {
   "cell_type": "code",
   "execution_count": 21,
   "metadata": {},
   "outputs": [
    {
     "name": "stdout",
     "output_type": "stream",
     "text": [
      "Train on 175 samples, validate on 75 samples\n",
      "Epoch 1/35\n",
      "175/175 [==============================] - 1s 7ms/sample - loss: 0.3131 - val_loss: 0.1145\n",
      "Epoch 2/35\n",
      "175/175 [==============================] - 0s 120us/sample - loss: 0.2725 - val_loss: 0.0779\n",
      "Epoch 3/35\n",
      "175/175 [==============================] - 0s 114us/sample - loss: 0.1980 - val_loss: 0.0467\n",
      "Epoch 4/35\n",
      "175/175 [==============================] - 0s 108us/sample - loss: 0.1290 - val_loss: 0.0249\n",
      "Epoch 5/35\n",
      "175/175 [==============================] - 0s 103us/sample - loss: 0.0759 - val_loss: 0.0125\n",
      "Epoch 6/35\n",
      "175/175 [==============================] - 0s 108us/sample - loss: 0.0437 - val_loss: 0.0081\n",
      "Epoch 7/35\n",
      "175/175 [==============================] - 0s 103us/sample - loss: 0.0253 - val_loss: 0.0088\n",
      "Epoch 8/35\n",
      "175/175 [==============================] - 0s 103us/sample - loss: 0.0163 - val_loss: 0.0109\n",
      "Epoch 9/35\n",
      "175/175 [==============================] - 0s 114us/sample - loss: 0.0155 - val_loss: 0.0120\n",
      "Epoch 10/35\n",
      "175/175 [==============================] - 0s 108us/sample - loss: 0.0140 - val_loss: 0.0113\n",
      "Epoch 11/35\n",
      "175/175 [==============================] - 0s 103us/sample - loss: 0.0131 - val_loss: 0.0103\n",
      "Epoch 12/35\n",
      "175/175 [==============================] - 0s 114us/sample - loss: 0.0138 - val_loss: 0.0097\n",
      "Epoch 13/35\n",
      "175/175 [==============================] - 0s 108us/sample - loss: 0.0131 - val_loss: 0.0089\n",
      "Epoch 14/35\n",
      "175/175 [==============================] - 0s 114us/sample - loss: 0.0126 - val_loss: 0.0084\n",
      "Epoch 15/35\n",
      "175/175 [==============================] - 0s 108us/sample - loss: 0.0111 - val_loss: 0.0081\n",
      "Epoch 16/35\n",
      "175/175 [==============================] - 0s 103us/sample - loss: 0.0109 - val_loss: 0.0077\n",
      "Epoch 17/35\n",
      "175/175 [==============================] - 0s 114us/sample - loss: 0.0113 - val_loss: 0.0073\n",
      "Epoch 18/35\n",
      "175/175 [==============================] - 0s 103us/sample - loss: 0.0105 - val_loss: 0.0071\n",
      "Epoch 19/35\n",
      "175/175 [==============================] - 0s 114us/sample - loss: 0.0098 - val_loss: 0.0066\n",
      "Epoch 20/35\n",
      "175/175 [==============================] - 0s 120us/sample - loss: 0.0111 - val_loss: 0.0063\n",
      "Epoch 21/35\n",
      "175/175 [==============================] - 0s 120us/sample - loss: 0.0092 - val_loss: 0.0058\n",
      "Epoch 22/35\n",
      "175/175 [==============================] - 0s 108us/sample - loss: 0.0100 - val_loss: 0.0055\n",
      "Epoch 23/35\n",
      "175/175 [==============================] - 0s 108us/sample - loss: 0.0083 - val_loss: 0.0051\n",
      "Epoch 24/35\n",
      "175/175 [==============================] - 0s 103us/sample - loss: 0.0087 - val_loss: 0.0049\n",
      "Epoch 25/35\n",
      "175/175 [==============================] - 0s 108us/sample - loss: 0.0086 - val_loss: 0.0047\n",
      "Epoch 26/35\n",
      "175/175 [==============================] - 0s 103us/sample - loss: 0.0090 - val_loss: 0.0045\n",
      "Epoch 27/35\n",
      "175/175 [==============================] - 0s 103us/sample - loss: 0.0077 - val_loss: 0.0043\n",
      "Epoch 28/35\n",
      "175/175 [==============================] - 0s 108us/sample - loss: 0.0094 - val_loss: 0.0041\n",
      "Epoch 29/35\n",
      "175/175 [==============================] - 0s 108us/sample - loss: 0.0083 - val_loss: 0.0039\n",
      "Epoch 30/35\n",
      "175/175 [==============================] - 0s 108us/sample - loss: 0.0077 - val_loss: 0.0037\n",
      "Epoch 31/35\n",
      "175/175 [==============================] - 0s 108us/sample - loss: 0.0088 - val_loss: 0.0038\n",
      "Epoch 32/35\n",
      "175/175 [==============================] - 0s 103us/sample - loss: 0.0074 - val_loss: 0.0036\n",
      "Epoch 33/35\n",
      "175/175 [==============================] - 0s 103us/sample - loss: 0.0087 - val_loss: 0.0035\n",
      "Epoch 34/35\n",
      "175/175 [==============================] - 0s 103us/sample - loss: 0.0076 - val_loss: 0.0034\n",
      "Epoch 35/35\n",
      "175/175 [==============================] - 0s 114us/sample - loss: 0.0071 - val_loss: 0.0033\n"
     ]
    }
   ],
   "source": [
    "# 建模\n",
    "history_pureLSTM, model_pureLSTM = LSTM_Generator(X_train_pureLSTM, X_test_pureLSTM, y_train_pureLSTM, y_test_pureLSTM)\n"
   ]
  },
  {
   "cell_type": "code",
   "execution_count": 22,
   "metadata": {
    "scrolled": true
   },
   "outputs": [
    {
     "data": {
      "image/png": "[encoded data removed]",
      "text/plain": [
       "<Figure size 432x288 with 1 Axes>"
      ]
     },
     "metadata": {
      "needs_background": "light"
     },
     "output_type": "display_data"
    }
   ],
   "source": [
    "# 纯技术指标的LSTM损失函数绘图\n",
    "drawLossGraph(history_pureLSTM, title='LSTM_1Y Loss Graph for Stock Prices without Emotions', num='5')"
   ]
  },
  {
   "cell_type": "code",
   "execution_count": 23,
   "metadata": {},
   "outputs": [
    {
     "data": {
      "image/png": "[encoded data removed]",
      "text/plain": [
       "<Figure size 432x288 with 1 Axes>"
      ]
     },
     "metadata": {
      "needs_background": "light"
     },
     "output_type": "display_data"
    }
   ],
   "source": [
    "# 预测\n",
    "y_predict_pureLSTM = model_pureLSTM.predict(X_test_pureLSTM)[:,0]\n",
    "# 反归一化\n",
    "sharePricesTSLA_pureLSTM = pd.read_csv('file/one_year/one_result/TSLA_stockprice_1Y.csv')\n",
    "col_n_pureLSTM = sharePricesTSLA_pureLSTM.shape[1]-2\n",
    "inv_yPredict_pureLSTM, inv_yTest_pureLSTM, inv_yTrain_pureLSTM = invTransformMulti(scaler_pureLSTM, y_predict_pureLSTM, y_test_pureLSTM, y_train_pureLSTM, col_n_pureLSTM)\n",
    "# 绘图\n",
    "predictGraph(inv_yTrain_pureLSTM, inv_yPredict_pureLSTM, inv_yTest_pureLSTM, timelabels=sharePricesTSLA_pureLSTM['Date'].values, title='LSTM_1Y Prediction of Stock Prices without Emotions', num='6')\n"
   ]
  },
  {
   "cell_type": "code",
   "execution_count": 24,
   "metadata": {},
   "outputs": [
    {
     "name": "stdout",
     "output_type": "stream",
     "text": [
      "Model: \"sequential_1\"\n",
      "_________________________________________________________________\n",
      "Layer (type)                 Output Shape              Param #   \n",
      "=================================================================\n",
      "lstm_1 (LSTM)                (None, 1, 64)             17920     \n",
      "_________________________________________________________________\n",
      "dropout_1 (Dropout)          (None, 1, 64)             0         \n",
      "_________________________________________________________________\n",
      "dense_1 (Dense)              (None, 1, 1)              65        \n",
      "=================================================================\n",
      "Total params: 17,985\n",
      "Trainable params: 17,985\n",
      "Non-trainable params: 0\n",
      "_________________________________________________________________\n",
      "None\n"
     ]
    }
   ],
   "source": [
    "print(model_pureLSTM.summary())"
   ]
  },
  {
   "cell_type": "markdown",
   "metadata": {},
   "source": [
    "### MSE MAE R_square 估值"
   ]
  },
  {
   "cell_type": "code",
   "execution_count": 25,
   "metadata": {},
   "outputs": [
    {
     "name": "stdout",
     "output_type": "stream",
     "text": [
      "The Mean Squared Error is 0.0054155089892446995\n",
      "The Root Mean Squared Error is:\n",
      "0.07359014192977684\n",
      "The Mean Absolute Error is: 0.060900193\n",
      "R Square is 0.7564973970982726\n"
     ]
    }
   ],
   "source": [
    "# 含情感数据的LSTM---输出MSE MAE R方评估值\n",
    "MSE_error_LSTM = mean_squared_error(y_test_LSTM, y_predict_LSTM)  \n",
    "print('The Mean Squared Error is {}'.format(MSE_error_LSTM))\n",
    "print('The Root Mean Squared Error is:')\n",
    "print(math.sqrt(MSE_error_LSTM))\n",
    "print('The Mean Absolute Error is:',mean_absolute_error(y_test_LSTM, y_predict_LSTM))\n",
    "print('R Square is {}'.format(r2_score(y_test_LSTM, y_predict_LSTM)))"
   ]
  },
  {
   "cell_type": "code",
   "execution_count": 26,
   "metadata": {},
   "outputs": [
    {
     "name": "stdout",
     "output_type": "stream",
     "text": [
      "The Mean Squared Error is 0.0032669513020664454\n",
      "The Root Mean Squared Error is:\n",
      "0.05715725065174536\n",
      "The Mean Absolute Error is: 0.048129715\n",
      "R Square is 0.8542329812104463\n"
     ]
    }
   ],
   "source": [
    "# 纯技术指标影响的LSTM——输出MSE MAE R方评估值\n",
    "MSE_error_pureLSTM = mean_squared_error(y_test_pureLSTM, y_predict_pureLSTM) \n",
    "print('The Mean Squared Error is {}'.format(MSE_error_pureLSTM))\n",
    "print('The Root Mean Squared Error is:')\n",
    "print(math.sqrt(MSE_error_pureLSTM))\n",
    "print('The Mean Absolute Error is:',mean_absolute_error(y_test_pureLSTM, y_predict_pureLSTM))\n",
    "print('R Square is {}'.format(r2_score(y_test_pureLSTM, y_predict_pureLSTM)))"
   ]
  },
  {
   "cell_type": "code",
   "execution_count": 27,
   "metadata": {},
   "outputs": [],
   "source": [
    "MSE_error_LSTM = mean_squared_error(y_test_LSTM, y_predict_LSTM)\n",
    "RMSE_LSTM = math.sqrt(MSE_error_LSTM)\n",
    "MAE_LSTM = mean_absolute_error(y_test_LSTM, y_predict_LSTM)\n"
   ]
  },
  {
   "cell_type": "code",
   "execution_count": 28,
   "metadata": {},
   "outputs": [],
   "source": [
    "MSE_error_pureLSTM = mean_squared_error(y_test_pureLSTM, y_predict_pureLSTM)\n",
    "RMSE_pureLSTM = math.sqrt(MSE_error_pureLSTM)\n",
    "MAE_pureLSTM = mean_absolute_error(y_test_pureLSTM, y_predict_pureLSTM)\n"
   ]
  },
  {
   "cell_type": "code",
   "execution_count": 29,
   "metadata": {},
   "outputs": [
    {
     "data": {
      "image/png": "[encoded data removed]",
      "text/plain": [
       "<Figure size 432x288 with 1 Axes>"
      ]
     },
     "metadata": {
      "needs_background": "light"
     },
     "output_type": "display_data"
    }
   ],
   "source": [
    "# 绘制估值比较图\n",
    "x = np.arange(3)\n",
    "emo_lstm = [MSE_error_LSTM,RMSE_LSTM,MAE_LSTM]\n",
    "pure_lstm = [MSE_error_pureLSTM,RMSE_pureLSTM,MAE_pureLSTM]\n",
    " \n",
    "bar_width = 0.4\n",
    "tick_label = [\"MSE\", \"RMSE\", \"MAE\"]\n",
    "plt.bar(x, emo_lstm, align=\"center\", color=\"c\",width=bar_width,label=\"Emo_LSTM\",alpha=0.5)\n",
    "plt.bar(x+bar_width, pure_lstm, align=\"center\",color=\"b\",width=bar_width,label=\"Pure_LSTM\",alpha=0.5)\n",
    "plt.xticks(x+bar_width/2, tick_label)\n",
    "plt.legend()\n",
    "plt.show()"
   ]
  },
  {
   "cell_type": "code",
   "execution_count": 30,
   "metadata": {},
   "outputs": [
    {
     "data": {
      "image/png": "[encoded data removed]",
      "text/plain": [
       "<Figure size 432x288 with 1 Axes>"
      ]
     },
     "metadata": {
      "needs_background": "light"
     },
     "output_type": "display_data"
    }
   ],
   "source": [
    "# 绘制估值比较图\n",
    "#import matplotlib\n",
    "#import matplotlib.pyplot as plt\n",
    "#import numpy as np\n",
    "\n",
    "def drawHistogram(title, num):\n",
    "    matplotlib.rc(\"font\", family='MicroSoft YaHei')\n",
    "    list1 = np.array([MSE_error_LSTM,RMSE_LSTM,MAE_LSTM])   # 柱状图第一组数据\n",
    "    list2 = np.array([MSE_error_pureLSTM,RMSE_pureLSTM,MAE_pureLSTM])   # 柱状图第二组数据\n",
    "    length = len(list1)\n",
    "    x = np.arange(length)   # 横坐标范围\n",
    "    x_label = [\"MSE\", \"RMSE\", \"MAE\"]\n",
    "\n",
    "    plt.figure()\n",
    "    total_width, n = 0.8, 2   # 柱状图总宽度，有几组数据\n",
    "    width = total_width / n   # 单个柱状图的宽度\n",
    "    x1 = x - width / 2   # 第一组数据柱状图横坐标起始位置\n",
    "    x2 = x1 + width   # 第二组数据柱状图横坐标起始位置\n",
    "    # 标题\n",
    "    plt.title('Fig'+num+'. '+title)\n",
    "\n",
    "    \n",
    "    # plt.xlabel(\"星期\")   # 横坐标label 此处可以不添加\n",
    "    plt.bar(x1, list1, width=width, label=\"Emo_LSTM\")\n",
    "    plt.bar(x2, list2, width=width, label=\"Pure_LSTM\")\n",
    "    for a, b in zip(x1, list1):\n",
    "        plt.text(a, b + 0.1, '%.0f' % b, ha='center', va='bottom', fontsize=7)\n",
    "\n",
    "    for a, b in zip(x2, list2):\n",
    "        plt.text(a, b + 0.1, '%.0f' % b, ha='center', va='bottom', fontsize=7)\n",
    "\n",
    "    plt.xticks(x, x_label)   \n",
    "    plt.legend()   # 给出图例\n",
    "    \n",
    "    # 保存于 file/\n",
    "    #savingPath = 'file/Fig'+num+'_'+title.replace(' ', '_')+'.png'\n",
    "    #plt.savefig(savingPath, dpi=400, bbox_inches='tight')\n",
    "    plt.show()\n",
    "\n",
    "if __name__ == '__main__':\n",
    "    drawHistogram(title = 'LSTM comparison: MSE/RMSE/R_squre', num = '7')\n"
   ]
  },
  {
   "cell_type": "markdown",
   "metadata": {},
   "source": [
    "## 4.2 含情感数据的股票模型搭建"
   ]
  },
  {
   "cell_type": "markdown",
   "metadata": {},
   "source": [
    "### 4.2.1 含情感数据的BI-LSTM建模及预测"
   ]
  },
  {
   "cell_type": "code",
   "execution_count": 31,
   "metadata": {},
   "outputs": [
    {
     "data": {
      "text/plain": [
       "array([[3.16843323e+02, 3.48339996e+02, 3.14733337e+02, ...,\n",
       "        4.88038517e-02, 7.20361750e-02, 3.41619995e+02],\n",
       "       [3.41563324e+02, 3.64980011e+02, 3.33813324e+02, ...,\n",
       "        7.68664389e-02, 8.51711347e-02, 3.39476654e+02],\n",
       "       [3.46553345e+02, 3.56959991e+02, 3.43593323e+02, ...,\n",
       "        5.11512681e-02, 8.35095523e-02, 3.45953339e+02],\n",
       "       ...,\n",
       "       [2.29500000e+02, 2.29820007e+02, 2.17250000e+02, ...,\n",
       "        6.25000000e-02, 1.60282258e-01, 2.20190002e+02],\n",
       "       [2.19800003e+02, 2.22929993e+02, 2.17779999e+02, ...,\n",
       "        1.42857143e-02, 9.02331002e-02, 2.22039993e+02],\n",
       "       [2.08279999e+02, 2.15550003e+02, 2.02000000e+02, ...,\n",
       "        6.95105820e-02, 5.45836710e-02, 2.07279999e+02]])"
      ]
     },
     "execution_count": 31,
     "metadata": {},
     "output_type": "execute_result"
    }
   ],
   "source": [
    "# 读取数据\n",
    "BIwithEmotion = pd.read_csv('file/one_year/one_result/TSLA_stockwithEmo_1Y.csv', parse_dates=['Date'], index_col='Date').values\n",
    "BIwithEmotion"
   ]
  },
  {
   "cell_type": "code",
   "execution_count": 32,
   "metadata": {},
   "outputs": [
    {
     "data": {
      "text/plain": [
       "array([[0.53504974, 0.66746527, 0.55351887, 1.        , 0.0976077 ,\n",
       "        0.27013566, 0.6665528 ],\n",
       "       [0.65651201, 0.75110585, 0.6472013 , 0.99145809, 0.15373288,\n",
       "        0.31939176, 0.65609646],\n",
       "       [0.68103059, 0.71079344, 0.69522093, 0.52462323, 0.10230254,\n",
       "        0.31316082, 0.68769312],\n",
       "       [0.72795466, 0.7277495 , 0.73355156, 0.30353597, 0.12098622,\n",
       "        0.28073713, 0.75140664],\n",
       "       [0.75014738, 0.78506798, 0.76466451, 0.35640165, 0.0975209 ,\n",
       "        0.26562413, 0.81151011],\n",
       "       [0.90651203, 0.95291869, 0.89463179, 0.44844756, 0.09171244,\n",
       "        0.14868238, 0.97389986]])"
      ]
     },
     "execution_count": 32,
     "metadata": {},
     "output_type": "execute_result"
    }
   ],
   "source": [
    "# 生成归一化容器\n",
    "# feature_range参数沿用默认(0,1)\n",
    "scaler_BI = MinMaxScaler(feature_range=(0,1))\n",
    "# 训练模型\n",
    "scaler_BI = scaler_BI.fit(BIwithEmotion)\n",
    "# 归一化\n",
    "BIwithEmotion = scaler_BI.fit_transform(BIwithEmotion)\n",
    "\n",
    "# 部分结果展示\n",
    "BIwithEmotion[:6,:]"
   ]
  },
  {
   "cell_type": "code",
   "execution_count": 33,
   "metadata": {},
   "outputs": [
    {
     "data": {
      "text/html": [
       "<div>\n",
       "<style scoped>\n",
       "    .dataframe tbody tr th:only-of-type {\n",
       "        vertical-align: middle;\n",
       "    }\n",
       "\n",
       "    .dataframe tbody tr th {\n",
       "        vertical-align: top;\n",
       "    }\n",
       "\n",
       "    .dataframe thead th {\n",
       "        text-align: right;\n",
       "    }\n",
       "</style>\n",
       "<table border=\"1\" class=\"dataframe\">\n",
       "  <thead>\n",
       "    <tr style=\"text-align: right;\">\n",
       "      <th></th>\n",
       "      <th>var1(t-1)</th>\n",
       "      <th>var2(t-1)</th>\n",
       "      <th>var3(t-1)</th>\n",
       "      <th>var4(t-1)</th>\n",
       "      <th>var5(t-1)</th>\n",
       "      <th>var6(t-1)</th>\n",
       "      <th>var7(t-1)</th>\n",
       "      <th>var7(t)</th>\n",
       "    </tr>\n",
       "  </thead>\n",
       "  <tbody>\n",
       "    <tr>\n",
       "      <th>1</th>\n",
       "      <td>0.535050</td>\n",
       "      <td>0.667465</td>\n",
       "      <td>0.553519</td>\n",
       "      <td>1.000000</td>\n",
       "      <td>0.097608</td>\n",
       "      <td>0.270136</td>\n",
       "      <td>0.666553</td>\n",
       "      <td>0.656096</td>\n",
       "    </tr>\n",
       "    <tr>\n",
       "      <th>2</th>\n",
       "      <td>0.656512</td>\n",
       "      <td>0.751106</td>\n",
       "      <td>0.647201</td>\n",
       "      <td>0.991458</td>\n",
       "      <td>0.153733</td>\n",
       "      <td>0.319392</td>\n",
       "      <td>0.656096</td>\n",
       "      <td>0.687693</td>\n",
       "    </tr>\n",
       "    <tr>\n",
       "      <th>3</th>\n",
       "      <td>0.681031</td>\n",
       "      <td>0.710793</td>\n",
       "      <td>0.695221</td>\n",
       "      <td>0.524623</td>\n",
       "      <td>0.102303</td>\n",
       "      <td>0.313161</td>\n",
       "      <td>0.687693</td>\n",
       "      <td>0.751407</td>\n",
       "    </tr>\n",
       "    <tr>\n",
       "      <th>4</th>\n",
       "      <td>0.727955</td>\n",
       "      <td>0.727750</td>\n",
       "      <td>0.733552</td>\n",
       "      <td>0.303536</td>\n",
       "      <td>0.120986</td>\n",
       "      <td>0.280737</td>\n",
       "      <td>0.751407</td>\n",
       "      <td>0.811510</td>\n",
       "    </tr>\n",
       "    <tr>\n",
       "      <th>5</th>\n",
       "      <td>0.750147</td>\n",
       "      <td>0.785068</td>\n",
       "      <td>0.764665</td>\n",
       "      <td>0.356402</td>\n",
       "      <td>0.097521</td>\n",
       "      <td>0.265624</td>\n",
       "      <td>0.811510</td>\n",
       "      <td>0.973900</td>\n",
       "    </tr>\n",
       "    <tr>\n",
       "      <th>...</th>\n",
       "      <td>...</td>\n",
       "      <td>...</td>\n",
       "      <td>...</td>\n",
       "      <td>...</td>\n",
       "      <td>...</td>\n",
       "      <td>...</td>\n",
       "      <td>...</td>\n",
       "      <td>...</td>\n",
       "    </tr>\n",
       "    <tr>\n",
       "      <th>175</th>\n",
       "      <td>0.063876</td>\n",
       "      <td>0.051270</td>\n",
       "      <td>0.063830</td>\n",
       "      <td>0.273399</td>\n",
       "      <td>0.094843</td>\n",
       "      <td>0.355849</td>\n",
       "      <td>0.056152</td>\n",
       "      <td>0.000000</td>\n",
       "    </tr>\n",
       "    <tr>\n",
       "      <th>176</th>\n",
       "      <td>0.078911</td>\n",
       "      <td>0.053833</td>\n",
       "      <td>0.010606</td>\n",
       "      <td>0.383393</td>\n",
       "      <td>0.000000</td>\n",
       "      <td>0.625000</td>\n",
       "      <td>0.000000</td>\n",
       "      <td>0.070056</td>\n",
       "    </tr>\n",
       "    <tr>\n",
       "      <th>177</th>\n",
       "      <td>0.010269</td>\n",
       "      <td>0.031717</td>\n",
       "      <td>0.036579</td>\n",
       "      <td>0.289135</td>\n",
       "      <td>0.400000</td>\n",
       "      <td>0.000000</td>\n",
       "      <td>0.070056</td>\n",
       "      <td>0.074154</td>\n",
       "    </tr>\n",
       "    <tr>\n",
       "      <th>178</th>\n",
       "      <td>0.105886</td>\n",
       "      <td>0.071728</td>\n",
       "      <td>0.074877</td>\n",
       "      <td>0.266095</td>\n",
       "      <td>0.125000</td>\n",
       "      <td>0.601058</td>\n",
       "      <td>0.074154</td>\n",
       "      <td>0.083179</td>\n",
       "    </tr>\n",
       "    <tr>\n",
       "      <th>179</th>\n",
       "      <td>0.058225</td>\n",
       "      <td>0.037095</td>\n",
       "      <td>0.077480</td>\n",
       "      <td>0.205381</td>\n",
       "      <td>0.028571</td>\n",
       "      <td>0.338374</td>\n",
       "      <td>0.083179</td>\n",
       "      <td>0.011172</td>\n",
       "    </tr>\n",
       "  </tbody>\n",
       "</table>\n",
       "<p>179 rows × 8 columns</p>\n",
       "</div>"
      ],
      "text/plain": [
       "     var1(t-1)  var2(t-1)  var3(t-1)  var4(t-1)  var5(t-1)  var6(t-1)  \\\n",
       "1     0.535050   0.667465   0.553519   1.000000   0.097608   0.270136   \n",
       "2     0.656512   0.751106   0.647201   0.991458   0.153733   0.319392   \n",
       "3     0.681031   0.710793   0.695221   0.524623   0.102303   0.313161   \n",
       "4     0.727955   0.727750   0.733552   0.303536   0.120986   0.280737   \n",
       "5     0.750147   0.785068   0.764665   0.356402   0.097521   0.265624   \n",
       "..         ...        ...        ...        ...        ...        ...   \n",
       "175   0.063876   0.051270   0.063830   0.273399   0.094843   0.355849   \n",
       "176   0.078911   0.053833   0.010606   0.383393   0.000000   0.625000   \n",
       "177   0.010269   0.031717   0.036579   0.289135   0.400000   0.000000   \n",
       "178   0.105886   0.071728   0.074877   0.266095   0.125000   0.601058   \n",
       "179   0.058225   0.037095   0.077480   0.205381   0.028571   0.338374   \n",
       "\n",
       "     var7(t-1)   var7(t)  \n",
       "1     0.666553  0.656096  \n",
       "2     0.656096  0.687693  \n",
       "3     0.687693  0.751407  \n",
       "4     0.751407  0.811510  \n",
       "5     0.811510  0.973900  \n",
       "..         ...       ...  \n",
       "175   0.056152  0.000000  \n",
       "176   0.000000  0.070056  \n",
       "177   0.070056  0.074154  \n",
       "178   0.074154  0.083179  \n",
       "179   0.083179  0.011172  \n",
       "\n",
       "[179 rows x 8 columns]"
      ]
     },
     "execution_count": 33,
     "metadata": {},
     "output_type": "execute_result"
    }
   ],
   "source": [
    "#使用series_to_supervised函数构建有监督数据集\n",
    "BIwithEmotion = series_to_supervised(BIwithEmotion)\n",
    "BIwithEmotion"
   ]
  },
  {
   "cell_type": "code",
   "execution_count": 34,
   "metadata": {},
   "outputs": [],
   "source": [
    "# 必须规定ndarray的dtype为float32（默认float64），否则后续输入LSTM模型报错\n",
    "BIwithEmotion = BIwithEmotion.values.astype(np.float32)\n",
    "# 训练集:验证集=7:3\n",
    "X_train_BI, X_test_BI, y_train_BI, y_test_BI = train_test_split(BIwithEmotion[:,:-1], BIwithEmotion[:,-1], test_size=0.3, shuffle=False)\n"
   ]
  },
  {
   "cell_type": "code",
   "execution_count": 35,
   "metadata": {
    "scrolled": true
   },
   "outputs": [
    {
     "name": "stdout",
     "output_type": "stream",
     "text": [
      "125\n",
      "54\n"
     ]
    }
   ],
   "source": [
    "#基于Keras函数的BILSTM模型搭建\n",
    "#重塑X_train和X_test：\n",
    "# reshape input to be 3D [samples, timesteps, features]\n",
    "X_train_BI = X_train_BI.reshape((X_train_BI.shape[0], 1, X_train_BI.shape[1]))\n",
    "X_test_BI = X_test_BI.reshape((X_test_BI.shape[0], 1, X_test_BI.shape[1]))\n",
    "\n",
    "print(len(X_train_BI))\n",
    "print(len(X_test_BI))"
   ]
  },
  {
   "cell_type": "code",
   "execution_count": 36,
   "metadata": {},
   "outputs": [
    {
     "name": "stdout",
     "output_type": "stream",
     "text": [
      "Train on 125 samples, validate on 54 samples\n",
      "Epoch 1/35\n",
      "125/125 [==============================] - 2s 17ms/sample - loss: 0.2733 - val_loss: 0.0740\n",
      "Epoch 2/35\n",
      "125/125 [==============================] - 0s 160us/sample - loss: 0.1789 - val_loss: 0.0382\n",
      "Epoch 3/35\n",
      "125/125 [==============================] - 0s 120us/sample - loss: 0.1046 - val_loss: 0.0172\n",
      "Epoch 4/35\n",
      "125/125 [==============================] - 0s 127us/sample - loss: 0.0578 - val_loss: 0.0090\n",
      "Epoch 5/35\n",
      "125/125 [==============================] - 0s 143us/sample - loss: 0.0299 - val_loss: 0.0097\n",
      "Epoch 6/35\n",
      "125/125 [==============================] - 0s 215us/sample - loss: 0.0181 - val_loss: 0.0135\n",
      "Epoch 7/35\n",
      "125/125 [==============================] - 0s 152us/sample - loss: 0.0168 - val_loss: 0.0158\n",
      "Epoch 8/35\n",
      "125/125 [==============================] - 0s 176us/sample - loss: 0.0159 - val_loss: 0.0147\n",
      "Epoch 9/35\n",
      "125/125 [==============================] - 0s 152us/sample - loss: 0.0138 - val_loss: 0.0124\n",
      "Epoch 10/35\n",
      "125/125 [==============================] - 0s 152us/sample - loss: 0.0132 - val_loss: 0.0102\n",
      "Epoch 11/35\n",
      "125/125 [==============================] - 0s 152us/sample - loss: 0.0124 - val_loss: 0.0086\n",
      "Epoch 12/35\n",
      "125/125 [==============================] - 0s 168us/sample - loss: 0.0119 - val_loss: 0.0077\n",
      "Epoch 13/35\n",
      "125/125 [==============================] - 0s 176us/sample - loss: 0.0122 - val_loss: 0.0072\n",
      "Epoch 14/35\n",
      "125/125 [==============================] - 0s 160us/sample - loss: 0.0128 - val_loss: 0.0070\n",
      "Epoch 15/35\n",
      "125/125 [==============================] - 0s 144us/sample - loss: 0.0091 - val_loss: 0.0067\n",
      "Epoch 16/35\n",
      "125/125 [==============================] - 0s 144us/sample - loss: 0.0104 - val_loss: 0.0065\n",
      "Epoch 17/35\n",
      "125/125 [==============================] - 0s 152us/sample - loss: 0.0094 - val_loss: 0.0061\n",
      "Epoch 18/35\n",
      "125/125 [==============================] - 0s 160us/sample - loss: 0.0099 - val_loss: 0.0057\n",
      "Epoch 19/35\n",
      "125/125 [==============================] - 0s 152us/sample - loss: 0.0102 - val_loss: 0.0052\n",
      "Epoch 20/35\n",
      "125/125 [==============================] - 0s 144us/sample - loss: 0.0091 - val_loss: 0.0047\n",
      "Epoch 21/35\n",
      "125/125 [==============================] - 0s 144us/sample - loss: 0.0087 - val_loss: 0.0044\n",
      "Epoch 22/35\n",
      "125/125 [==============================] - 0s 144us/sample - loss: 0.0091 - val_loss: 0.0043\n",
      "Epoch 23/35\n",
      "125/125 [==============================] - 0s 136us/sample - loss: 0.0086 - val_loss: 0.0042\n",
      "Epoch 24/35\n",
      "125/125 [==============================] - 0s 152us/sample - loss: 0.0092 - val_loss: 0.0042\n",
      "Epoch 25/35\n",
      "125/125 [==============================] - 0s 152us/sample - loss: 0.0082 - val_loss: 0.0040\n",
      "Epoch 26/35\n",
      "125/125 [==============================] - 0s 136us/sample - loss: 0.0084 - val_loss: 0.0038\n",
      "Epoch 27/35\n",
      "125/125 [==============================] - 0s 144us/sample - loss: 0.0080 - val_loss: 0.0036\n",
      "Epoch 28/35\n",
      "125/125 [==============================] - 0s 144us/sample - loss: 0.0080 - val_loss: 0.0034\n",
      "Epoch 29/35\n",
      "125/125 [==============================] - 0s 144us/sample - loss: 0.0078 - val_loss: 0.0034\n",
      "Epoch 30/35\n",
      "125/125 [==============================] - 0s 144us/sample - loss: 0.0084 - val_loss: 0.0034\n",
      "Epoch 31/35\n",
      "125/125 [==============================] - 0s 152us/sample - loss: 0.0083 - val_loss: 0.0033\n",
      "Epoch 32/35\n",
      "125/125 [==============================] - 0s 144us/sample - loss: 0.0080 - val_loss: 0.0032\n",
      "Epoch 33/35\n",
      "125/125 [==============================] - 0s 152us/sample - loss: 0.0079 - val_loss: 0.0032\n",
      "Epoch 34/35\n",
      "125/125 [==============================] - 0s 160us/sample - loss: 0.0088 - val_loss: 0.0031\n",
      "Epoch 35/35\n",
      "125/125 [==============================] - 0s 144us/sample - loss: 0.0083 - val_loss: 0.0031\n"
     ]
    }
   ],
   "source": [
    "def BILSTM_Generator(Xtrain, Xtest, ytrain, ytest):\n",
    "   \n",
    "    # Build BILSTM model\n",
    "    _model = Sequential()\n",
    "    _model.add(Bidirectional(LSTM(64,return_sequences=True,input_shape=(Xtrain.shape[1], Xtrain.shape[2]))))\n",
    "    _model.add(Dropout(0.2))\n",
    "    \n",
    "    _model.add(Dense(1, activation='relu'))\n",
    "    # compile\n",
    "    _model.compile(loss='mse', optimizer='adam')\n",
    "    # train the model\n",
    "    _history = _model.fit(Xtrain, ytrain, epochs=35, batch_size=20, validation_data=(Xtest, ytest), shuffle=False, verbose=1)\n",
    "    return _history,_model\n",
    "  \n",
    "history_BI, model_BI = BILSTM_Generator(X_train_BI, X_test_BI, y_train_BI, y_test_BI)"
   ]
  },
  {
   "cell_type": "code",
   "execution_count": 37,
   "metadata": {},
   "outputs": [
    {
     "data": {
      "image/png": "[encoded data removed]",
      "text/plain": [
       "<Figure size 432x288 with 1 Axes>"
      ]
     },
     "metadata": {
      "needs_background": "light"
     },
     "output_type": "display_data"
    }
   ],
   "source": [
    "#绘制BILSTM损失图\n",
    "drawLossGraph(history_BI, title='BILSTM_1Y Loss Graph for Stock Prices with Emotions', num='8')"
   ]
  },
  {
   "cell_type": "code",
   "execution_count": 38,
   "metadata": {},
   "outputs": [
    {
     "data": {
      "image/png": "[encoded data removed]",
      "text/plain": [
       "<Figure size 432x288 with 1 Axes>"
      ]
     },
     "metadata": {
      "needs_background": "light"
     },
     "output_type": "display_data"
    }
   ],
   "source": [
    "# 由X_test前日股票指标预测当天股票close值\n",
    "# 注：predict生成的array需降维成 shape=(n_samples, )\n",
    "y_predict_BI = model_BI.predict(X_test_BI)[:,0]\n",
    "\n",
    "# 反归一化\n",
    "# 重新读取 TSLA股票价格融合情感.csv\n",
    "BIwithEmotion = pd.read_csv('file/one_year/one_result/TSLA_stockwithEmo_1Y.csv')\n",
    "col_n_BI = BIwithEmotion.shape[1]-2\n",
    "# 预测结果反归一化\n",
    "inv_yPredict_BI = inverse_transform_col(scaler_BI, y_predict_BI, col_n_BI)\n",
    "# 真实结果反归一化\n",
    "inv_yTest_BI = inverse_transform_col(scaler_BI, y_test_BI, col_n_BI)\n",
    "# 训练集结果反归一化（以绘制完整图像）\n",
    "inv_yTrain_BI = inverse_transform_col(scaler_BI, y_train_BI, col_n_BI)\n",
    "# 绘图\n",
    "predictGraph(inv_yTrain_BI, inv_yPredict_BI, inv_yTest_BI, timelabels=BIwithEmotion['Date'].values, title='BILSTM_1Y Prediction of Stock Prices with Emotions', num='9')\n"
   ]
  },
  {
   "cell_type": "code",
   "execution_count": 39,
   "metadata": {},
   "outputs": [
    {
     "name": "stdout",
     "output_type": "stream",
     "text": [
      "The Mean Squared Error is 0.0031142609659582376\n",
      "The Root Mean Squared Error is:\n",
      "0.055805563933699634\n",
      "The Mean Absolute Error is: 0.045127004\n",
      "R Square is 0.8599705768965753\n"
     ]
    }
   ],
   "source": [
    "# 输出MSE MAE R方评估值\n",
    "MSE_error_BI = mean_squared_error(y_test_BI,y_predict_BI)\n",
    "RMSE_BI = math.sqrt(MSE_error_BI)\n",
    "MAE_BI = mean_absolute_error(y_test_BI,y_predict_BI)\n",
    "R_square_BI = r2_score(y_test_BI,y_predict_BI)\n",
    "print('The Mean Squared Error is {}'.format(MSE_error_BI))\n",
    "print('The Root Mean Squared Error is:')\n",
    "print(RMSE_BI)\n",
    "print('The Mean Absolute Error is:',MAE_BI)\n",
    "print('R Square is {}'.format(R_square_BI))"
   ]
  },
  {
   "cell_type": "code",
   "execution_count": 40,
   "metadata": {},
   "outputs": [
    {
     "name": "stdout",
     "output_type": "stream",
     "text": [
      "Model: \"sequential_2\"\n",
      "_________________________________________________________________\n",
      "Layer (type)                 Output Shape              Param #   \n",
      "=================================================================\n",
      "bidirectional (Bidirectional multiple                  36864     \n",
      "_________________________________________________________________\n",
      "dropout_2 (Dropout)          multiple                  0         \n",
      "_________________________________________________________________\n",
      "dense_2 (Dense)              multiple                  129       \n",
      "=================================================================\n",
      "Total params: 36,993\n",
      "Trainable params: 36,993\n",
      "Non-trainable params: 0\n",
      "_________________________________________________________________\n",
      "None\n"
     ]
    }
   ],
   "source": [
    "print(model_BI.summary())"
   ]
  },
  {
   "cell_type": "markdown",
   "metadata": {},
   "source": [
    "### 4.2.2 建立CNN_LSTM机制的预测模型"
   ]
  },
  {
   "cell_type": "code",
   "execution_count": 41,
   "metadata": {},
   "outputs": [
    {
     "data": {
      "text/plain": [
       "array([[3.16843323e+02, 3.48339996e+02, 3.14733337e+02, ...,\n",
       "        4.88038517e-02, 7.20361750e-02, 3.41619995e+02],\n",
       "       [3.41563324e+02, 3.64980011e+02, 3.33813324e+02, ...,\n",
       "        7.68664389e-02, 8.51711347e-02, 3.39476654e+02],\n",
       "       [3.46553345e+02, 3.56959991e+02, 3.43593323e+02, ...,\n",
       "        5.11512681e-02, 8.35095523e-02, 3.45953339e+02],\n",
       "       ...,\n",
       "       [2.29500000e+02, 2.29820007e+02, 2.17250000e+02, ...,\n",
       "        6.25000000e-02, 1.60282258e-01, 2.20190002e+02],\n",
       "       [2.19800003e+02, 2.22929993e+02, 2.17779999e+02, ...,\n",
       "        1.42857143e-02, 9.02331002e-02, 2.22039993e+02],\n",
       "       [2.08279999e+02, 2.15550003e+02, 2.02000000e+02, ...,\n",
       "        6.95105820e-02, 5.45836710e-02, 2.07279999e+02]])"
      ]
     },
     "execution_count": 41,
     "metadata": {},
     "output_type": "execute_result"
    }
   ],
   "source": [
    "# 读取数据\n",
    "CLwithEmotion = pd.read_csv('file/one_year/one_result/TSLA_stockwithEmo_1Y.csv', parse_dates=['Date'], index_col='Date').values\n",
    "CLwithEmotion"
   ]
  },
  {
   "cell_type": "code",
   "execution_count": 42,
   "metadata": {},
   "outputs": [],
   "source": [
    "# 生成归一化容器\n",
    "# feature_range参数沿用默认(0,1)\n",
    "scaler_CL = MinMaxScaler(feature_range=(0,1))\n",
    "# 训练模型\n",
    "scaler_CL = scaler_CL.fit(CLwithEmotion)\n",
    "# 归一化\n",
    "CLwithEmotion = scaler_CL.fit_transform(CLwithEmotion)"
   ]
  },
  {
   "cell_type": "code",
   "execution_count": 43,
   "metadata": {},
   "outputs": [
    {
     "data": {
      "text/plain": [
       "array([[0.53504974, 0.66746527, 0.55351887, 1.        , 0.0976077 ,\n",
       "        0.27013566, 0.6665528 ],\n",
       "       [0.65651201, 0.75110585, 0.6472013 , 0.99145809, 0.15373288,\n",
       "        0.31939176, 0.65609646],\n",
       "       [0.68103059, 0.71079344, 0.69522093, 0.52462323, 0.10230254,\n",
       "        0.31316082, 0.68769312],\n",
       "       [0.72795466, 0.7277495 , 0.73355156, 0.30353597, 0.12098622,\n",
       "        0.28073713, 0.75140664],\n",
       "       [0.75014738, 0.78506798, 0.76466451, 0.35640165, 0.0975209 ,\n",
       "        0.26562413, 0.81151011],\n",
       "       [0.90651203, 0.95291869, 0.89463179, 0.44844756, 0.09171244,\n",
       "        0.14868238, 0.97389986]])"
      ]
     },
     "execution_count": 43,
     "metadata": {},
     "output_type": "execute_result"
    }
   ],
   "source": [
    "# 部分结果展示\n",
    "CLwithEmotion[:6,:]"
   ]
  },
  {
   "cell_type": "code",
   "execution_count": 44,
   "metadata": {},
   "outputs": [
    {
     "data": {
      "text/html": [
       "<div>\n",
       "<style scoped>\n",
       "    .dataframe tbody tr th:only-of-type {\n",
       "        vertical-align: middle;\n",
       "    }\n",
       "\n",
       "    .dataframe tbody tr th {\n",
       "        vertical-align: top;\n",
       "    }\n",
       "\n",
       "    .dataframe thead th {\n",
       "        text-align: right;\n",
       "    }\n",
       "</style>\n",
       "<table border=\"1\" class=\"dataframe\">\n",
       "  <thead>\n",
       "    <tr style=\"text-align: right;\">\n",
       "      <th></th>\n",
       "      <th>var1(t-1)</th>\n",
       "      <th>var2(t-1)</th>\n",
       "      <th>var3(t-1)</th>\n",
       "      <th>var4(t-1)</th>\n",
       "      <th>var5(t-1)</th>\n",
       "      <th>var6(t-1)</th>\n",
       "      <th>var7(t-1)</th>\n",
       "      <th>var7(t)</th>\n",
       "    </tr>\n",
       "  </thead>\n",
       "  <tbody>\n",
       "    <tr>\n",
       "      <th>1</th>\n",
       "      <td>0.535050</td>\n",
       "      <td>0.667465</td>\n",
       "      <td>0.553519</td>\n",
       "      <td>1.000000</td>\n",
       "      <td>0.097608</td>\n",
       "      <td>0.270136</td>\n",
       "      <td>0.666553</td>\n",
       "      <td>0.656096</td>\n",
       "    </tr>\n",
       "    <tr>\n",
       "      <th>2</th>\n",
       "      <td>0.656512</td>\n",
       "      <td>0.751106</td>\n",
       "      <td>0.647201</td>\n",
       "      <td>0.991458</td>\n",
       "      <td>0.153733</td>\n",
       "      <td>0.319392</td>\n",
       "      <td>0.656096</td>\n",
       "      <td>0.687693</td>\n",
       "    </tr>\n",
       "    <tr>\n",
       "      <th>3</th>\n",
       "      <td>0.681031</td>\n",
       "      <td>0.710793</td>\n",
       "      <td>0.695221</td>\n",
       "      <td>0.524623</td>\n",
       "      <td>0.102303</td>\n",
       "      <td>0.313161</td>\n",
       "      <td>0.687693</td>\n",
       "      <td>0.751407</td>\n",
       "    </tr>\n",
       "    <tr>\n",
       "      <th>4</th>\n",
       "      <td>0.727955</td>\n",
       "      <td>0.727750</td>\n",
       "      <td>0.733552</td>\n",
       "      <td>0.303536</td>\n",
       "      <td>0.120986</td>\n",
       "      <td>0.280737</td>\n",
       "      <td>0.751407</td>\n",
       "      <td>0.811510</td>\n",
       "    </tr>\n",
       "    <tr>\n",
       "      <th>5</th>\n",
       "      <td>0.750147</td>\n",
       "      <td>0.785068</td>\n",
       "      <td>0.764665</td>\n",
       "      <td>0.356402</td>\n",
       "      <td>0.097521</td>\n",
       "      <td>0.265624</td>\n",
       "      <td>0.811510</td>\n",
       "      <td>0.973900</td>\n",
       "    </tr>\n",
       "    <tr>\n",
       "      <th>...</th>\n",
       "      <td>...</td>\n",
       "      <td>...</td>\n",
       "      <td>...</td>\n",
       "      <td>...</td>\n",
       "      <td>...</td>\n",
       "      <td>...</td>\n",
       "      <td>...</td>\n",
       "      <td>...</td>\n",
       "    </tr>\n",
       "    <tr>\n",
       "      <th>175</th>\n",
       "      <td>0.063876</td>\n",
       "      <td>0.051270</td>\n",
       "      <td>0.063830</td>\n",
       "      <td>0.273399</td>\n",
       "      <td>0.094843</td>\n",
       "      <td>0.355849</td>\n",
       "      <td>0.056152</td>\n",
       "      <td>0.000000</td>\n",
       "    </tr>\n",
       "    <tr>\n",
       "      <th>176</th>\n",
       "      <td>0.078911</td>\n",
       "      <td>0.053833</td>\n",
       "      <td>0.010606</td>\n",
       "      <td>0.383393</td>\n",
       "      <td>0.000000</td>\n",
       "      <td>0.625000</td>\n",
       "      <td>0.000000</td>\n",
       "      <td>0.070056</td>\n",
       "    </tr>\n",
       "    <tr>\n",
       "      <th>177</th>\n",
       "      <td>0.010269</td>\n",
       "      <td>0.031717</td>\n",
       "      <td>0.036579</td>\n",
       "      <td>0.289135</td>\n",
       "      <td>0.400000</td>\n",
       "      <td>0.000000</td>\n",
       "      <td>0.070056</td>\n",
       "      <td>0.074154</td>\n",
       "    </tr>\n",
       "    <tr>\n",
       "      <th>178</th>\n",
       "      <td>0.105886</td>\n",
       "      <td>0.071728</td>\n",
       "      <td>0.074877</td>\n",
       "      <td>0.266095</td>\n",
       "      <td>0.125000</td>\n",
       "      <td>0.601058</td>\n",
       "      <td>0.074154</td>\n",
       "      <td>0.083179</td>\n",
       "    </tr>\n",
       "    <tr>\n",
       "      <th>179</th>\n",
       "      <td>0.058225</td>\n",
       "      <td>0.037095</td>\n",
       "      <td>0.077480</td>\n",
       "      <td>0.205381</td>\n",
       "      <td>0.028571</td>\n",
       "      <td>0.338374</td>\n",
       "      <td>0.083179</td>\n",
       "      <td>0.011172</td>\n",
       "    </tr>\n",
       "  </tbody>\n",
       "</table>\n",
       "<p>179 rows × 8 columns</p>\n",
       "</div>"
      ],
      "text/plain": [
       "     var1(t-1)  var2(t-1)  var3(t-1)  var4(t-1)  var5(t-1)  var6(t-1)  \\\n",
       "1     0.535050   0.667465   0.553519   1.000000   0.097608   0.270136   \n",
       "2     0.656512   0.751106   0.647201   0.991458   0.153733   0.319392   \n",
       "3     0.681031   0.710793   0.695221   0.524623   0.102303   0.313161   \n",
       "4     0.727955   0.727750   0.733552   0.303536   0.120986   0.280737   \n",
       "5     0.750147   0.785068   0.764665   0.356402   0.097521   0.265624   \n",
       "..         ...        ...        ...        ...        ...        ...   \n",
       "175   0.063876   0.051270   0.063830   0.273399   0.094843   0.355849   \n",
       "176   0.078911   0.053833   0.010606   0.383393   0.000000   0.625000   \n",
       "177   0.010269   0.031717   0.036579   0.289135   0.400000   0.000000   \n",
       "178   0.105886   0.071728   0.074877   0.266095   0.125000   0.601058   \n",
       "179   0.058225   0.037095   0.077480   0.205381   0.028571   0.338374   \n",
       "\n",
       "     var7(t-1)   var7(t)  \n",
       "1     0.666553  0.656096  \n",
       "2     0.656096  0.687693  \n",
       "3     0.687693  0.751407  \n",
       "4     0.751407  0.811510  \n",
       "5     0.811510  0.973900  \n",
       "..         ...       ...  \n",
       "175   0.056152  0.000000  \n",
       "176   0.000000  0.070056  \n",
       "177   0.070056  0.074154  \n",
       "178   0.074154  0.083179  \n",
       "179   0.083179  0.011172  \n",
       "\n",
       "[179 rows x 8 columns]"
      ]
     },
     "execution_count": 44,
     "metadata": {},
     "output_type": "execute_result"
    }
   ],
   "source": [
    "# 使用series_to_supervised函数构建有监督数据集\n",
    "CLwithEmotion = series_to_supervised(CLwithEmotion)\n",
    "CLwithEmotion"
   ]
  },
  {
   "cell_type": "code",
   "execution_count": 45,
   "metadata": {},
   "outputs": [
    {
     "name": "stdout",
     "output_type": "stream",
     "text": [
      "(179,)\n",
      "(179, 8)\n"
     ]
    }
   ],
   "source": [
    "# 必须规定ndarray的dtype为float32（默认float64），否则后续输入LSTM模型报错\n",
    "CLwithEmotion = CLwithEmotion.values.astype(np.float32)\n",
    "\n",
    "future_days = 0\n",
    "y = CLwithEmotion[future_days:, 6]\n",
    "print(y.shape)\n",
    "X = CLwithEmotion[:len(CLwithEmotion) - future_days, :]\n",
    "print(X.shape)"
   ]
  },
  {
   "cell_type": "code",
   "execution_count": 46,
   "metadata": {},
   "outputs": [
    {
     "name": "stdout",
     "output_type": "stream",
     "text": [
      "(175, 5, 8) (175, 1)\n"
     ]
    }
   ],
   "source": [
    "#time_steps = 10\n",
    "time_steps = 5\n",
    "X_new = np.zeros((X.shape[0] - time_steps + 1, time_steps, X.shape[1]))\n",
    "y_new = np.zeros((y.shape[0] - time_steps + 1, 1))\n",
    "for ix in range(X_new.shape[0]):\n",
    "    for jx in range(time_steps):\n",
    "        X_new[ix, jx, :] = X[ix + jx, :]\n",
    "    y_new[ix] = y[ix + time_steps -1]\n",
    "print(X_new.shape, y_new.shape)"
   ]
  },
  {
   "cell_type": "code",
   "execution_count": 47,
   "metadata": {},
   "outputs": [
    {
     "name": "stdout",
     "output_type": "stream",
     "text": [
      "(125, 5, 8) (125, 1)\n",
      "(50, 5, 8) (50, 1)\n"
     ]
    }
   ],
   "source": [
    "split = int(0.7 * CLwithEmotion.shape[0])\n",
    "X_train_CL = X_new[:split]\n",
    "X_test_CL = X_new[split:]\n",
    "\n",
    "y_train_CL = y_new[:split]\n",
    "y_test_CL = y_new[split:]\n",
    "\n",
    "print(X_train_CL.shape, y_train_CL.shape)\n",
    "print(X_test_CL.shape, y_test_CL.shape)"
   ]
  },
  {
   "cell_type": "code",
   "execution_count": 48,
   "metadata": {},
   "outputs": [
    {
     "name": "stdout",
     "output_type": "stream",
     "text": [
      "5 8\n"
     ]
    }
   ],
   "source": [
    "print(X_train_CL.shape[1], X_train_CL.shape[2])"
   ]
  },
  {
   "cell_type": "code",
   "execution_count": 49,
   "metadata": {},
   "outputs": [
    {
     "name": "stdout",
     "output_type": "stream",
     "text": [
      "Train on 125 samples, validate on 50 samples\n",
      "Epoch 1/50\n",
      "125/125 - 1s - loss: 0.3686 - acc: 0.0000e+00 - mae: 0.5198 - val_loss: 0.0268 - val_acc: 0.0200 - val_mae: 0.1421\n",
      "Epoch 2/50\n",
      "125/125 - 0s - loss: 0.0398 - acc: 0.0000e+00 - mae: 0.1544 - val_loss: 0.0230 - val_acc: 0.0200 - val_mae: 0.1290\n",
      "Epoch 3/50\n",
      "125/125 - 0s - loss: 0.0472 - acc: 0.0080 - mae: 0.1845 - val_loss: 0.0335 - val_acc: 0.0200 - val_mae: 0.1614\n",
      "Epoch 4/50\n",
      "125/125 - 0s - loss: 0.0325 - acc: 0.0080 - mae: 0.1430 - val_loss: 0.0089 - val_acc: 0.0200 - val_mae: 0.0788\n",
      "Epoch 5/50\n",
      "125/125 - 0s - loss: 0.0187 - acc: 0.0080 - mae: 0.1064 - val_loss: 0.0069 - val_acc: 0.0200 - val_mae: 0.0676\n",
      "Epoch 6/50\n",
      "125/125 - 0s - loss: 0.0242 - acc: 0.0000e+00 - mae: 0.1141 - val_loss: 0.0065 - val_acc: 0.0200 - val_mae: 0.0657\n",
      "Epoch 7/50\n",
      "125/125 - 0s - loss: 0.0177 - acc: 0.0000e+00 - mae: 0.0984 - val_loss: 0.0077 - val_acc: 0.0200 - val_mae: 0.0726\n",
      "Epoch 8/50\n",
      "125/125 - 0s - loss: 0.0166 - acc: 0.0080 - mae: 0.0982 - val_loss: 0.0087 - val_acc: 0.0200 - val_mae: 0.0770\n",
      "Epoch 9/50\n",
      "125/125 - 0s - loss: 0.0152 - acc: 0.0080 - mae: 0.0972 - val_loss: 0.0077 - val_acc: 0.0200 - val_mae: 0.0723\n",
      "Epoch 10/50\n",
      "125/125 - 0s - loss: 0.0156 - acc: 0.0080 - mae: 0.0989 - val_loss: 0.0067 - val_acc: 0.0200 - val_mae: 0.0674\n",
      "Epoch 11/50\n",
      "125/125 - 0s - loss: 0.0155 - acc: 0.0080 - mae: 0.0966 - val_loss: 0.0060 - val_acc: 0.0200 - val_mae: 0.0635\n",
      "Epoch 12/50\n",
      "125/125 - 0s - loss: 0.0173 - acc: 0.0080 - mae: 0.1001 - val_loss: 0.0058 - val_acc: 0.0200 - val_mae: 0.0623\n",
      "Epoch 13/50\n",
      "125/125 - 0s - loss: 0.0157 - acc: 0.0080 - mae: 0.0972 - val_loss: 0.0059 - val_acc: 0.0200 - val_mae: 0.0629\n",
      "Epoch 14/50\n",
      "125/125 - 0s - loss: 0.0165 - acc: 0.0080 - mae: 0.0997 - val_loss: 0.0059 - val_acc: 0.0200 - val_mae: 0.0631\n",
      "Epoch 15/50\n",
      "125/125 - 0s - loss: 0.0117 - acc: 0.0080 - mae: 0.0856 - val_loss: 0.0057 - val_acc: 0.0200 - val_mae: 0.0623\n",
      "Epoch 16/50\n",
      "125/125 - 0s - loss: 0.0157 - acc: 0.0080 - mae: 0.0943 - val_loss: 0.0055 - val_acc: 0.0200 - val_mae: 0.0609\n",
      "Epoch 17/50\n",
      "125/125 - 0s - loss: 0.0172 - acc: 0.0080 - mae: 0.1014 - val_loss: 0.0057 - val_acc: 0.0200 - val_mae: 0.0624\n",
      "Epoch 18/50\n",
      "125/125 - 0s - loss: 0.0151 - acc: 0.0080 - mae: 0.1015 - val_loss: 0.0055 - val_acc: 0.0200 - val_mae: 0.0614\n",
      "Epoch 19/50\n",
      "125/125 - 0s - loss: 0.0153 - acc: 0.0000e+00 - mae: 0.0962 - val_loss: 0.0051 - val_acc: 0.0200 - val_mae: 0.0591\n",
      "Epoch 20/50\n",
      "125/125 - 0s - loss: 0.0120 - acc: 0.0080 - mae: 0.0869 - val_loss: 0.0050 - val_acc: 0.0200 - val_mae: 0.0589\n",
      "Epoch 21/50\n",
      "125/125 - 0s - loss: 0.0106 - acc: 0.0080 - mae: 0.0801 - val_loss: 0.0048 - val_acc: 0.0200 - val_mae: 0.0575\n",
      "Epoch 22/50\n",
      "125/125 - 0s - loss: 0.0115 - acc: 0.0080 - mae: 0.0842 - val_loss: 0.0050 - val_acc: 0.0200 - val_mae: 0.0590\n",
      "Epoch 23/50\n",
      "125/125 - 0s - loss: 0.0120 - acc: 0.0080 - mae: 0.0877 - val_loss: 0.0046 - val_acc: 0.0200 - val_mae: 0.0563\n",
      "Epoch 24/50\n",
      "125/125 - 0s - loss: 0.0114 - acc: 0.0080 - mae: 0.0873 - val_loss: 0.0046 - val_acc: 0.0200 - val_mae: 0.0562\n",
      "Epoch 25/50\n",
      "125/125 - 0s - loss: 0.0118 - acc: 0.0080 - mae: 0.0865 - val_loss: 0.0047 - val_acc: 0.0200 - val_mae: 0.0567\n",
      "Epoch 26/50\n",
      "125/125 - 0s - loss: 0.0104 - acc: 0.0080 - mae: 0.0821 - val_loss: 0.0042 - val_acc: 0.0200 - val_mae: 0.0530\n",
      "Epoch 27/50\n",
      "125/125 - 0s - loss: 0.0111 - acc: 0.0080 - mae: 0.0845 - val_loss: 0.0042 - val_acc: 0.0200 - val_mae: 0.0533\n",
      "Epoch 28/50\n",
      "125/125 - 0s - loss: 0.0093 - acc: 0.0080 - mae: 0.0757 - val_loss: 0.0045 - val_acc: 0.0200 - val_mae: 0.0552\n",
      "Epoch 29/50\n",
      "125/125 - 0s - loss: 0.0122 - acc: 0.0080 - mae: 0.0865 - val_loss: 0.0040 - val_acc: 0.0200 - val_mae: 0.0519\n",
      "Epoch 30/50\n",
      "125/125 - 0s - loss: 0.0096 - acc: 0.0080 - mae: 0.0774 - val_loss: 0.0038 - val_acc: 0.0200 - val_mae: 0.0506\n",
      "Epoch 31/50\n",
      "125/125 - 0s - loss: 0.0098 - acc: 0.0080 - mae: 0.0759 - val_loss: 0.0038 - val_acc: 0.0200 - val_mae: 0.0512\n",
      "Epoch 32/50\n",
      "125/125 - 0s - loss: 0.0089 - acc: 0.0080 - mae: 0.0750 - val_loss: 0.0039 - val_acc: 0.0200 - val_mae: 0.0518\n",
      "Epoch 33/50\n",
      "125/125 - 0s - loss: 0.0116 - acc: 0.0080 - mae: 0.0818 - val_loss: 0.0037 - val_acc: 0.0200 - val_mae: 0.0504\n",
      "Epoch 34/50\n",
      "125/125 - 0s - loss: 0.0107 - acc: 0.0080 - mae: 0.0774 - val_loss: 0.0036 - val_acc: 0.0200 - val_mae: 0.0494\n",
      "Epoch 35/50\n",
      "125/125 - 0s - loss: 0.0089 - acc: 0.0080 - mae: 0.0746 - val_loss: 0.0035 - val_acc: 0.0200 - val_mae: 0.0491\n",
      "Epoch 36/50\n",
      "125/125 - 0s - loss: 0.0109 - acc: 0.0080 - mae: 0.0793 - val_loss: 0.0035 - val_acc: 0.0200 - val_mae: 0.0489\n",
      "Epoch 37/50\n",
      "125/125 - 0s - loss: 0.0090 - acc: 0.0080 - mae: 0.0733 - val_loss: 0.0036 - val_acc: 0.0200 - val_mae: 0.0496\n",
      "Epoch 38/50\n",
      "125/125 - 0s - loss: 0.0076 - acc: 0.0080 - mae: 0.0701 - val_loss: 0.0033 - val_acc: 0.0200 - val_mae: 0.0471\n",
      "Epoch 39/50\n",
      "125/125 - 0s - loss: 0.0101 - acc: 0.0080 - mae: 0.0785 - val_loss: 0.0033 - val_acc: 0.0200 - val_mae: 0.0465\n",
      "Epoch 40/50\n",
      "125/125 - 0s - loss: 0.0071 - acc: 0.0080 - mae: 0.0665 - val_loss: 0.0033 - val_acc: 0.0200 - val_mae: 0.0468\n",
      "Epoch 41/50\n",
      "125/125 - 0s - loss: 0.0081 - acc: 0.0080 - mae: 0.0717 - val_loss: 0.0033 - val_acc: 0.0200 - val_mae: 0.0465\n",
      "Epoch 42/50\n",
      "125/125 - 0s - loss: 0.0079 - acc: 0.0080 - mae: 0.0706 - val_loss: 0.0031 - val_acc: 0.0200 - val_mae: 0.0455\n",
      "Epoch 43/50\n",
      "125/125 - 0s - loss: 0.0082 - acc: 0.0080 - mae: 0.0709 - val_loss: 0.0031 - val_acc: 0.0200 - val_mae: 0.0454\n",
      "Epoch 44/50\n",
      "125/125 - 0s - loss: 0.0080 - acc: 0.0080 - mae: 0.0704 - val_loss: 0.0031 - val_acc: 0.0200 - val_mae: 0.0457\n",
      "Epoch 45/50\n",
      "125/125 - 0s - loss: 0.0078 - acc: 0.0080 - mae: 0.0686 - val_loss: 0.0030 - val_acc: 0.0200 - val_mae: 0.0444\n",
      "Epoch 46/50\n",
      "125/125 - 0s - loss: 0.0073 - acc: 0.0080 - mae: 0.0673 - val_loss: 0.0029 - val_acc: 0.0200 - val_mae: 0.0439\n",
      "Epoch 47/50\n",
      "125/125 - 0s - loss: 0.0070 - acc: 0.0080 - mae: 0.0628 - val_loss: 0.0029 - val_acc: 0.0200 - val_mae: 0.0429\n",
      "Epoch 48/50\n",
      "125/125 - 0s - loss: 0.0073 - acc: 0.0080 - mae: 0.0639 - val_loss: 0.0028 - val_acc: 0.0200 - val_mae: 0.0423\n",
      "Epoch 49/50\n",
      "125/125 - 0s - loss: 0.0077 - acc: 0.0080 - mae: 0.0657 - val_loss: 0.0028 - val_acc: 0.0200 - val_mae: 0.0425\n",
      "Epoch 50/50\n",
      "125/125 - 0s - loss: 0.0080 - acc: 0.0080 - mae: 0.0740 - val_loss: 0.0028 - val_acc: 0.0200 - val_mae: 0.0425\n"
     ]
    }
   ],
   "source": [
    "def CNN_LSTM_Generator(Xtrain, Xtest, ytrain, ytest):\n",
    "    \n",
    "   # Build CNN_LSTM Model\n",
    "    _model = Sequential()\n",
    "    \n",
    "    _model.add(Conv1D(32, 1, input_shape=(Xtrain.shape[1], Xtrain.shape[2]), padding=\"same\"))\n",
    "    #_model.add(MaxPooling1D(pool_size=2))\n",
    "    _model.add(Dropout(0.2))\n",
    "    _model.add(LSTM(32, return_sequences=True))\n",
    "    _model.add(Dropout(0.2))\n",
    "    #_model.add(Conv1D(16, 3, padding=\"same\"))\n",
    "    #_model.add(MaxPooling1D(pool_size=2))\n",
    "    _model.add(Flatten())\n",
    "    _model.add(Dense(units=1))\n",
    "    _model.add(Activation('linear'))\n",
    "    \n",
    "    # compile\n",
    "    _model.compile(loss='mse', optimizer='adam', metrics=['acc', 'mae'])\n",
    "    # train the model\n",
    "    es_cb = EarlyStopping(monitor='val_loss', patience=10, verbose=1, mode='auto')\n",
    "    _history = _model.fit(Xtrain, ytrain, batch_size=20, epochs=50, validation_data=(Xtest, ytest), callbacks=[es_cb], verbose=2)\n",
    "    return _history,_model\n",
    "  \n",
    "history_CL, model_CL = CNN_LSTM_Generator(X_train_CL, X_test_CL, y_train_CL, y_test_CL)"
   ]
  },
  {
   "cell_type": "code",
   "execution_count": 50,
   "metadata": {},
   "outputs": [
    {
     "data": {
      "image/png": "[encoded data removed]",
      "text/plain": [
       "<Figure size 432x288 with 1 Axes>"
      ]
     },
     "metadata": {
      "needs_background": "light"
     },
     "output_type": "display_data"
    }
   ],
   "source": [
    "drawLossGraph(history_CL, title='CNN_LSTM_1Y Loss Graph for Stock Prices with Emotions', num='10')"
   ]
  },
  {
   "cell_type": "code",
   "execution_count": 51,
   "metadata": {},
   "outputs": [
    {
     "data": {
      "image/png": "[encoded data removed]",
      "text/plain": [
       "<Figure size 432x288 with 1 Axes>"
      ]
     },
     "metadata": {
      "needs_background": "light"
     },
     "output_type": "display_data"
    }
   ],
   "source": [
    "# 由X_test前日股票指标预测当天股票close值\n",
    "# 注：predict生成的array需降维成 shape=(n_samples, )\n",
    "y_predict_CL = model_CL.predict(X_test_CL)[:,0]\n",
    "\n",
    "# 反归一化\n",
    "# 重新读取 TSLA股票价格融合情感.csv\n",
    "CLwithEmotion = pd.read_csv('file/one_year/one_result/TSLA_stockwithEmo_1Y.csv')\n",
    "col_n_CL = CLwithEmotion.shape[1]-2\n",
    "# 预测结果反归一化\n",
    "inv_yPredict_CL = inverse_transform_col(scaler_CL, y_predict_CL, col_n_CL)\n",
    "# 真实结果反归一化\n",
    "inv_yTest_CL = inverse_transform_col(scaler_CL, y_test_CL, col_n_CL)\n",
    "# 训练集结果反归一化（以绘制完整图像）\n",
    "inv_yTrain_CL = inverse_transform_col(scaler_CL, y_train_CL, col_n_CL)\n",
    "# 绘图\n",
    "predictGraph(inv_yTrain_CL, inv_yPredict_CL, inv_yTest_CL, timelabels=CLwithEmotion['Date'].values, title='CNN_LSTM_1Y Prediction of Stock Prices with Emotions', num='11')"
   ]
  },
  {
   "cell_type": "code",
   "execution_count": 52,
   "metadata": {},
   "outputs": [
    {
     "name": "stdout",
     "output_type": "stream",
     "text": [
      "The Mean Squared Error is 0.0027778864445172995\n",
      "The Root Mean Squared Error is:\n",
      "0.052705658562599324\n",
      "The Mean Absolute Error is: 0.04250401884317398\n",
      "R Square is 0.8636005709520653\n"
     ]
    }
   ],
   "source": [
    "# 输出MSE MAE R方评估值\n",
    "MSE_error_CL = mean_squared_error(y_test_CL, y_predict_CL)\n",
    "RMSE_CL = math.sqrt(MSE_error_CL)\n",
    "MAE_CL = mean_absolute_error(y_test_CL, y_predict_CL)\n",
    "R_square_CL = r2_score(y_test_CL, y_predict_CL)\n",
    "print('The Mean Squared Error is {}'.format(MSE_error_CL))\n",
    "print('The Root Mean Squared Error is:')\n",
    "print(RMSE_CL)\n",
    "print('The Mean Absolute Error is:',MAE_CL)\n",
    "print('R Square is {}'.format(R_square_CL))"
   ]
  },
  {
   "cell_type": "code",
   "execution_count": 53,
   "metadata": {},
   "outputs": [
    {
     "name": "stdout",
     "output_type": "stream",
     "text": [
      "Model: \"sequential_3\"\n",
      "_________________________________________________________________\n",
      "Layer (type)                 Output Shape              Param #   \n",
      "=================================================================\n",
      "conv1d (Conv1D)              (None, 5, 32)             288       \n",
      "_________________________________________________________________\n",
      "dropout_3 (Dropout)          (None, 5, 32)             0         \n",
      "_________________________________________________________________\n",
      "lstm_3 (LSTM)                (None, 5, 32)             8320      \n",
      "_________________________________________________________________\n",
      "dropout_4 (Dropout)          (None, 5, 32)             0         \n",
      "_________________________________________________________________\n",
      "flatten (Flatten)            (None, 160)               0         \n",
      "_________________________________________________________________\n",
      "dense_3 (Dense)              (None, 1)                 161       \n",
      "_________________________________________________________________\n",
      "activation (Activation)      (None, 1)                 0         \n",
      "=================================================================\n",
      "Total params: 8,769\n",
      "Trainable params: 8,769\n",
      "Non-trainable params: 0\n",
      "_________________________________________________________________\n",
      "None\n"
     ]
    }
   ],
   "source": [
    "print(model_CL.summary())"
   ]
  },
  {
   "cell_type": "markdown",
   "metadata": {},
   "source": [
    "### 4.2.3 在CNN_LSTM机制中添加Attention机制的预测模型"
   ]
  },
  {
   "cell_type": "code",
   "execution_count": 54,
   "metadata": {},
   "outputs": [
    {
     "name": "stdout",
     "output_type": "stream",
     "text": [
      "Train on 125 samples, validate on 50 samples\n",
      "Epoch 1/50\n",
      "125/125 - 1s - loss: 0.0574 - acc: 0.0080 - mae: 0.2039 - val_loss: 0.0484 - val_acc: 0.0200 - val_mae: 0.1724\n",
      "Epoch 2/50\n",
      "125/125 - 0s - loss: 0.0539 - acc: 0.0080 - mae: 0.1977 - val_loss: 0.0482 - val_acc: 0.0200 - val_mae: 0.1757\n",
      "Epoch 3/50\n",
      "125/125 - 0s - loss: 0.0496 - acc: 0.0080 - mae: 0.1887 - val_loss: 0.0479 - val_acc: 0.0200 - val_mae: 0.1808\n",
      "Epoch 4/50\n",
      "125/125 - 0s - loss: 0.0428 - acc: 0.0080 - mae: 0.1721 - val_loss: 0.0464 - val_acc: 0.0200 - val_mae: 0.1845\n",
      "Epoch 5/50\n",
      "125/125 - 0s - loss: 0.0351 - acc: 0.0080 - mae: 0.1564 - val_loss: 0.0319 - val_acc: 0.0200 - val_mae: 0.1408\n",
      "Epoch 6/50\n",
      "125/125 - 0s - loss: 0.0247 - acc: 0.0080 - mae: 0.1292 - val_loss: 0.0176 - val_acc: 0.0200 - val_mae: 0.0970\n",
      "Epoch 7/50\n",
      "125/125 - 0s - loss: 0.0194 - acc: 0.0080 - mae: 0.1135 - val_loss: 0.0121 - val_acc: 0.0200 - val_mae: 0.0915\n",
      "Epoch 8/50\n",
      "125/125 - 0s - loss: 0.0152 - acc: 0.0080 - mae: 0.0946 - val_loss: 0.0100 - val_acc: 0.0200 - val_mae: 0.0834\n",
      "Epoch 9/50\n",
      "125/125 - 0s - loss: 0.0110 - acc: 0.0080 - mae: 0.0830 - val_loss: 0.0086 - val_acc: 0.0200 - val_mae: 0.0769\n",
      "Epoch 10/50\n",
      "125/125 - 0s - loss: 0.0103 - acc: 0.0080 - mae: 0.0802 - val_loss: 0.0079 - val_acc: 0.0200 - val_mae: 0.0705\n",
      "Epoch 11/50\n",
      "125/125 - 0s - loss: 0.0087 - acc: 0.0080 - mae: 0.0773 - val_loss: 0.0068 - val_acc: 0.0200 - val_mae: 0.0679\n",
      "Epoch 12/50\n",
      "125/125 - 0s - loss: 0.0089 - acc: 0.0080 - mae: 0.0742 - val_loss: 0.0069 - val_acc: 0.0200 - val_mae: 0.0682\n",
      "Epoch 13/50\n",
      "125/125 - 0s - loss: 0.0094 - acc: 0.0080 - mae: 0.0757 - val_loss: 0.0059 - val_acc: 0.0200 - val_mae: 0.0624\n",
      "Epoch 14/50\n",
      "125/125 - 0s - loss: 0.0071 - acc: 0.0080 - mae: 0.0664 - val_loss: 0.0055 - val_acc: 0.0200 - val_mae: 0.0591\n",
      "Epoch 15/50\n",
      "125/125 - 0s - loss: 0.0079 - acc: 0.0080 - mae: 0.0714 - val_loss: 0.0052 - val_acc: 0.0200 - val_mae: 0.0586\n",
      "Epoch 16/50\n",
      "125/125 - 0s - loss: 0.0074 - acc: 0.0080 - mae: 0.0698 - val_loss: 0.0047 - val_acc: 0.0200 - val_mae: 0.0562\n",
      "Epoch 17/50\n",
      "125/125 - 0s - loss: 0.0078 - acc: 0.0080 - mae: 0.0697 - val_loss: 0.0043 - val_acc: 0.0200 - val_mae: 0.0518\n",
      "Epoch 18/50\n",
      "125/125 - 0s - loss: 0.0058 - acc: 0.0080 - mae: 0.0612 - val_loss: 0.0042 - val_acc: 0.0200 - val_mae: 0.0498\n",
      "Epoch 19/50\n",
      "125/125 - 0s - loss: 0.0065 - acc: 0.0080 - mae: 0.0632 - val_loss: 0.0044 - val_acc: 0.0200 - val_mae: 0.0545\n",
      "Epoch 20/50\n",
      "125/125 - 0s - loss: 0.0045 - acc: 0.0080 - mae: 0.0547 - val_loss: 0.0041 - val_acc: 0.0200 - val_mae: 0.0526\n",
      "Epoch 21/50\n",
      "125/125 - 0s - loss: 0.0055 - acc: 0.0080 - mae: 0.0593 - val_loss: 0.0041 - val_acc: 0.0200 - val_mae: 0.0539\n",
      "Epoch 22/50\n",
      "125/125 - 0s - loss: 0.0067 - acc: 0.0080 - mae: 0.0637 - val_loss: 0.0041 - val_acc: 0.0200 - val_mae: 0.0480\n",
      "Epoch 23/50\n",
      "125/125 - 0s - loss: 0.0065 - acc: 0.0080 - mae: 0.0634 - val_loss: 0.0035 - val_acc: 0.0200 - val_mae: 0.0465\n",
      "Epoch 24/50\n",
      "125/125 - 0s - loss: 0.0049 - acc: 0.0080 - mae: 0.0569 - val_loss: 0.0038 - val_acc: 0.0200 - val_mae: 0.0486\n",
      "Epoch 25/50\n",
      "125/125 - 0s - loss: 0.0055 - acc: 0.0080 - mae: 0.0611 - val_loss: 0.0040 - val_acc: 0.0200 - val_mae: 0.0523\n",
      "Epoch 26/50\n",
      "125/125 - 0s - loss: 0.0071 - acc: 0.0080 - mae: 0.0664 - val_loss: 0.0034 - val_acc: 0.0200 - val_mae: 0.0444\n",
      "Epoch 27/50\n",
      "125/125 - 0s - loss: 0.0071 - acc: 0.0080 - mae: 0.0657 - val_loss: 0.0033 - val_acc: 0.0200 - val_mae: 0.0459\n",
      "Epoch 28/50\n",
      "125/125 - 0s - loss: 0.0054 - acc: 0.0080 - mae: 0.0595 - val_loss: 0.0033 - val_acc: 0.0200 - val_mae: 0.0464\n",
      "Epoch 29/50\n",
      "125/125 - 0s - loss: 0.0051 - acc: 0.0080 - mae: 0.0538 - val_loss: 0.0034 - val_acc: 0.0200 - val_mae: 0.0471\n",
      "Epoch 30/50\n",
      "125/125 - 0s - loss: 0.0051 - acc: 0.0080 - mae: 0.0580 - val_loss: 0.0034 - val_acc: 0.0200 - val_mae: 0.0454\n",
      "Epoch 31/50\n",
      "125/125 - 0s - loss: 0.0054 - acc: 0.0080 - mae: 0.0597 - val_loss: 0.0034 - val_acc: 0.0200 - val_mae: 0.0474\n",
      "Epoch 32/50\n",
      "125/125 - 0s - loss: 0.0045 - acc: 0.0080 - mae: 0.0556 - val_loss: 0.0039 - val_acc: 0.0200 - val_mae: 0.0482\n",
      "Epoch 33/50\n",
      "125/125 - 0s - loss: 0.0056 - acc: 0.0080 - mae: 0.0596 - val_loss: 0.0037 - val_acc: 0.0200 - val_mae: 0.0510\n",
      "Epoch 34/50\n",
      "125/125 - 0s - loss: 0.0053 - acc: 0.0080 - mae: 0.0574 - val_loss: 0.0032 - val_acc: 0.0200 - val_mae: 0.0437\n",
      "Epoch 35/50\n",
      "125/125 - 0s - loss: 0.0047 - acc: 0.0080 - mae: 0.0562 - val_loss: 0.0032 - val_acc: 0.0200 - val_mae: 0.0461\n",
      "Epoch 36/50\n",
      "125/125 - 0s - loss: 0.0048 - acc: 0.0080 - mae: 0.0549 - val_loss: 0.0030 - val_acc: 0.0200 - val_mae: 0.0437\n",
      "Epoch 37/50\n",
      "125/125 - 0s - loss: 0.0035 - acc: 0.0080 - mae: 0.0467 - val_loss: 0.0028 - val_acc: 0.0200 - val_mae: 0.0433\n",
      "Epoch 38/50\n",
      "125/125 - 0s - loss: 0.0041 - acc: 0.0080 - mae: 0.0513 - val_loss: 0.0027 - val_acc: 0.0200 - val_mae: 0.0396\n",
      "Epoch 39/50\n",
      "125/125 - 0s - loss: 0.0034 - acc: 0.0080 - mae: 0.0465 - val_loss: 0.0025 - val_acc: 0.0200 - val_mae: 0.0393\n",
      "Epoch 40/50\n",
      "125/125 - 0s - loss: 0.0035 - acc: 0.0080 - mae: 0.0476 - val_loss: 0.0024 - val_acc: 0.0200 - val_mae: 0.0389\n",
      "Epoch 41/50\n",
      "125/125 - 0s - loss: 0.0044 - acc: 0.0080 - mae: 0.0533 - val_loss: 0.0028 - val_acc: 0.0200 - val_mae: 0.0425\n",
      "Epoch 42/50\n",
      "125/125 - 0s - loss: 0.0043 - acc: 0.0080 - mae: 0.0519 - val_loss: 0.0023 - val_acc: 0.0200 - val_mae: 0.0376\n",
      "Epoch 43/50\n",
      "125/125 - 0s - loss: 0.0032 - acc: 0.0080 - mae: 0.0463 - val_loss: 0.0025 - val_acc: 0.0200 - val_mae: 0.0402\n",
      "Epoch 44/50\n",
      "125/125 - 0s - loss: 0.0039 - acc: 0.0080 - mae: 0.0514 - val_loss: 0.0021 - val_acc: 0.0200 - val_mae: 0.0369\n",
      "Epoch 45/50\n",
      "125/125 - 0s - loss: 0.0036 - acc: 0.0080 - mae: 0.0479 - val_loss: 0.0022 - val_acc: 0.0200 - val_mae: 0.0379\n",
      "Epoch 46/50\n",
      "125/125 - 0s - loss: 0.0035 - acc: 0.0080 - mae: 0.0449 - val_loss: 0.0022 - val_acc: 0.0200 - val_mae: 0.0359\n",
      "Epoch 47/50\n",
      "125/125 - 0s - loss: 0.0034 - acc: 0.0080 - mae: 0.0472 - val_loss: 0.0023 - val_acc: 0.0200 - val_mae: 0.0383\n",
      "Epoch 48/50\n",
      "125/125 - 0s - loss: 0.0038 - acc: 0.0080 - mae: 0.0511 - val_loss: 0.0022 - val_acc: 0.0200 - val_mae: 0.0372\n",
      "Epoch 49/50\n",
      "125/125 - 0s - loss: 0.0033 - acc: 0.0080 - mae: 0.0441 - val_loss: 0.0022 - val_acc: 0.0200 - val_mae: 0.0360\n",
      "Epoch 50/50\n",
      "125/125 - 0s - loss: 0.0041 - acc: 0.0080 - mae: 0.0502 - val_loss: 0.0021 - val_acc: 0.0200 - val_mae: 0.0359\n"
     ]
    }
   ],
   "source": [
    "def CNN_LSTM_AT_Generator(Xtrain, Xtest, ytrain, ytest):\n",
    "   \n",
    "   # Build CLA Model\n",
    "    inputs = Input(shape = (Xtrain.shape[1], Xtrain.shape[2]))   \n",
    "    x = Conv1D(filters = 64, kernel_size = 1, activation = 'relu', padding=\"same\")(inputs)\n",
    "    x = Dropout(0.2)(x)\n",
    "    x = LSTM(64, return_sequences=True,activation='relu')(x)\n",
    "    previous_out = Dropout(0.2)(x)\n",
    "    \n",
    "    \n",
    "    # ATTENTION PART STARTS HERE\n",
    "    attention_probs = Dense(64, activation='sigmoid', name='attention_vec')(previous_out)\n",
    "\n",
    "    attention_mul =Multiply()([previous_out, attention_probs])\n",
    "    \n",
    "    attention_mul = Flatten()(attention_mul)\n",
    "\n",
    "    output = Dense(1, activation='sigmoid')(attention_mul)\n",
    "    _model = Model(inputs=inputs, outputs=output)\n",
    "    \n",
    "    # Compile\n",
    "    _model.compile(loss='mse', optimizer='adam', metrics=['acc', 'mae'])\n",
    "    # train the model\n",
    "    es_cb = EarlyStopping(monitor='val_loss', patience=10, verbose=1, mode='auto')\n",
    "    _history = _model.fit(Xtrain, ytrain, batch_size=20, epochs=50, validation_data=(Xtest, ytest), callbacks=[es_cb], verbose=2)\n",
    "    return _history,_model\n",
    "  \n",
    "history_CLA, model_CLA = CNN_LSTM_AT_Generator(X_train_CL, X_test_CL, y_train_CL, y_test_CL)"
   ]
  },
  {
   "cell_type": "code",
   "execution_count": 55,
   "metadata": {},
   "outputs": [
    {
     "data": {
      "image/png": "[encoded data removed]",
      "text/plain": [
       "<Figure size 432x288 with 1 Axes>"
      ]
     },
     "metadata": {
      "needs_background": "light"
     },
     "output_type": "display_data"
    }
   ],
   "source": [
    "drawLossGraph(history_CLA, title='CNN_LSTM_AT_1Y Loss Graph for Stock Prices with Emotions', num='12')"
   ]
  },
  {
   "cell_type": "code",
   "execution_count": 56,
   "metadata": {},
   "outputs": [
    {
     "data": {
      "image/png": "[encoded data removed]",
      "text/plain": [
       "<Figure size 432x288 with 1 Axes>"
      ]
     },
     "metadata": {
      "needs_background": "light"
     },
     "output_type": "display_data"
    }
   ],
   "source": [
    "# 由X_test前日股票指标预测当天股票close值\n",
    "# 注：predict生成的array需降维成 shape=(n_samples, )\n",
    "y_predict_CLA = model_CLA.predict(X_test_CL)[:,0]\n",
    "\n",
    "# 反归一化\n",
    "# 重新读取 TSLA股票价格融合情感.csv\n",
    "CLAwithEmotion = pd.read_csv('file/one_year/one_result/TSLA_stockwithEmo_1Y.csv')\n",
    "col_n_CLA = CLAwithEmotion.shape[1]-2\n",
    "# 预测结果反归一化\n",
    "inv_yPredict_CLA = inverse_transform_col(scaler_CL, y_predict_CLA, col_n_CLA)\n",
    "# 真实结果反归一化\n",
    "inv_yTest_CLA = inverse_transform_col(scaler_CL, y_test_CL, col_n_CLA)\n",
    "# 训练集结果反归一化（以绘制完整图像）\n",
    "inv_yTrain_CLA = inverse_transform_col(scaler_CL, y_train_CL, col_n_CLA)\n",
    "# 绘图\n",
    "predictGraph(inv_yTrain_CLA, inv_yPredict_CLA, inv_yTest_CLA, timelabels=CLAwithEmotion['Date'].values, title='CNN_LSTM_AT_1Y Prediction of Stock Prices with Emotions', num='13')"
   ]
  },
  {
   "cell_type": "code",
   "execution_count": 57,
   "metadata": {},
   "outputs": [
    {
     "name": "stdout",
     "output_type": "stream",
     "text": [
      "The Mean Squared Error is 0.0021427401409643302\n",
      "The Root Mean Squared Error is:\n",
      "0.04628974120649553\n",
      "The Mean Absolute Error is: 0.03588237695395947\n",
      "R Square is 0.894787444460707\n"
     ]
    }
   ],
   "source": [
    "# 输出MSE MAE R方评估值\n",
    "MSE_error_CLA = mean_squared_error(y_test_CL, y_predict_CLA)\n",
    "RMSE_CLA = math.sqrt(MSE_error_CLA)\n",
    "MAE_CLA = mean_absolute_error(y_test_CL, y_predict_CLA)\n",
    "R_square_CLA = r2_score(y_test_CL, y_predict_CLA)\n",
    "print('The Mean Squared Error is {}'.format(MSE_error_CLA))\n",
    "print('The Root Mean Squared Error is:')\n",
    "print(RMSE_CLA)\n",
    "print('The Mean Absolute Error is:',MAE_CLA)\n",
    "print('R Square is {}'.format(R_square_CLA))"
   ]
  },
  {
   "cell_type": "markdown",
   "metadata": {},
   "source": [
    "### 4.2.4 建立CNN_BILSTM机制的预测模型"
   ]
  },
  {
   "cell_type": "code",
   "execution_count": 58,
   "metadata": {},
   "outputs": [
    {
     "data": {
      "text/plain": [
       "array([[3.16843323e+02, 3.48339996e+02, 3.14733337e+02, ...,\n",
       "        4.88038517e-02, 7.20361750e-02, 3.41619995e+02],\n",
       "       [3.41563324e+02, 3.64980011e+02, 3.33813324e+02, ...,\n",
       "        7.68664389e-02, 8.51711347e-02, 3.39476654e+02],\n",
       "       [3.46553345e+02, 3.56959991e+02, 3.43593323e+02, ...,\n",
       "        5.11512681e-02, 8.35095523e-02, 3.45953339e+02],\n",
       "       ...,\n",
       "       [2.29500000e+02, 2.29820007e+02, 2.17250000e+02, ...,\n",
       "        6.25000000e-02, 1.60282258e-01, 2.20190002e+02],\n",
       "       [2.19800003e+02, 2.22929993e+02, 2.17779999e+02, ...,\n",
       "        1.42857143e-02, 9.02331002e-02, 2.22039993e+02],\n",
       "       [2.08279999e+02, 2.15550003e+02, 2.02000000e+02, ...,\n",
       "        6.95105820e-02, 5.45836710e-02, 2.07279999e+02]])"
      ]
     },
     "execution_count": 58,
     "metadata": {},
     "output_type": "execute_result"
    }
   ],
   "source": [
    "# 读取数据\n",
    "CBwithEmotion = pd.read_csv('file/one_year/one_result/TSLA_stockwithEmo_1Y.csv', parse_dates=['Date'], index_col='Date').values\n",
    "CBwithEmotion"
   ]
  },
  {
   "cell_type": "code",
   "execution_count": 59,
   "metadata": {},
   "outputs": [
    {
     "data": {
      "text/plain": [
       "array([[0.53504974, 0.66746527, 0.55351887, 1.        , 0.0976077 ,\n",
       "        0.27013566, 0.6665528 ],\n",
       "       [0.65651201, 0.75110585, 0.6472013 , 0.99145809, 0.15373288,\n",
       "        0.31939176, 0.65609646],\n",
       "       [0.68103059, 0.71079344, 0.69522093, 0.52462323, 0.10230254,\n",
       "        0.31316082, 0.68769312],\n",
       "       [0.72795466, 0.7277495 , 0.73355156, 0.30353597, 0.12098622,\n",
       "        0.28073713, 0.75140664],\n",
       "       [0.75014738, 0.78506798, 0.76466451, 0.35640165, 0.0975209 ,\n",
       "        0.26562413, 0.81151011],\n",
       "       [0.90651203, 0.95291869, 0.89463179, 0.44844756, 0.09171244,\n",
       "        0.14868238, 0.97389986]])"
      ]
     },
     "execution_count": 59,
     "metadata": {},
     "output_type": "execute_result"
    }
   ],
   "source": [
    "# 生成归一化容器\n",
    "# feature_range参数沿用默认(0,1)\n",
    "scaler_CB = MinMaxScaler(feature_range=(0,1))\n",
    "# 训练模型\n",
    "scaler_CB = scaler_CB.fit(CBwithEmotion)\n",
    "# 归一化\n",
    "CBwithEmotion = scaler_CB.fit_transform(CBwithEmotion)\n",
    "# 部分结果展示\n",
    "CBwithEmotion[:6,:]"
   ]
  },
  {
   "cell_type": "code",
   "execution_count": 60,
   "metadata": {},
   "outputs": [
    {
     "data": {
      "text/html": [
       "<div>\n",
       "<style scoped>\n",
       "    .dataframe tbody tr th:only-of-type {\n",
       "        vertical-align: middle;\n",
       "    }\n",
       "\n",
       "    .dataframe tbody tr th {\n",
       "        vertical-align: top;\n",
       "    }\n",
       "\n",
       "    .dataframe thead th {\n",
       "        text-align: right;\n",
       "    }\n",
       "</style>\n",
       "<table border=\"1\" class=\"dataframe\">\n",
       "  <thead>\n",
       "    <tr style=\"text-align: right;\">\n",
       "      <th></th>\n",
       "      <th>var1(t-1)</th>\n",
       "      <th>var2(t-1)</th>\n",
       "      <th>var3(t-1)</th>\n",
       "      <th>var4(t-1)</th>\n",
       "      <th>var5(t-1)</th>\n",
       "      <th>var6(t-1)</th>\n",
       "      <th>var7(t-1)</th>\n",
       "      <th>var7(t)</th>\n",
       "    </tr>\n",
       "  </thead>\n",
       "  <tbody>\n",
       "    <tr>\n",
       "      <th>1</th>\n",
       "      <td>0.535050</td>\n",
       "      <td>0.667465</td>\n",
       "      <td>0.553519</td>\n",
       "      <td>1.000000</td>\n",
       "      <td>0.097608</td>\n",
       "      <td>0.270136</td>\n",
       "      <td>0.666553</td>\n",
       "      <td>0.656096</td>\n",
       "    </tr>\n",
       "    <tr>\n",
       "      <th>2</th>\n",
       "      <td>0.656512</td>\n",
       "      <td>0.751106</td>\n",
       "      <td>0.647201</td>\n",
       "      <td>0.991458</td>\n",
       "      <td>0.153733</td>\n",
       "      <td>0.319392</td>\n",
       "      <td>0.656096</td>\n",
       "      <td>0.687693</td>\n",
       "    </tr>\n",
       "    <tr>\n",
       "      <th>3</th>\n",
       "      <td>0.681031</td>\n",
       "      <td>0.710793</td>\n",
       "      <td>0.695221</td>\n",
       "      <td>0.524623</td>\n",
       "      <td>0.102303</td>\n",
       "      <td>0.313161</td>\n",
       "      <td>0.687693</td>\n",
       "      <td>0.751407</td>\n",
       "    </tr>\n",
       "    <tr>\n",
       "      <th>4</th>\n",
       "      <td>0.727955</td>\n",
       "      <td>0.727750</td>\n",
       "      <td>0.733552</td>\n",
       "      <td>0.303536</td>\n",
       "      <td>0.120986</td>\n",
       "      <td>0.280737</td>\n",
       "      <td>0.751407</td>\n",
       "      <td>0.811510</td>\n",
       "    </tr>\n",
       "    <tr>\n",
       "      <th>5</th>\n",
       "      <td>0.750147</td>\n",
       "      <td>0.785068</td>\n",
       "      <td>0.764665</td>\n",
       "      <td>0.356402</td>\n",
       "      <td>0.097521</td>\n",
       "      <td>0.265624</td>\n",
       "      <td>0.811510</td>\n",
       "      <td>0.973900</td>\n",
       "    </tr>\n",
       "    <tr>\n",
       "      <th>...</th>\n",
       "      <td>...</td>\n",
       "      <td>...</td>\n",
       "      <td>...</td>\n",
       "      <td>...</td>\n",
       "      <td>...</td>\n",
       "      <td>...</td>\n",
       "      <td>...</td>\n",
       "      <td>...</td>\n",
       "    </tr>\n",
       "    <tr>\n",
       "      <th>175</th>\n",
       "      <td>0.063876</td>\n",
       "      <td>0.051270</td>\n",
       "      <td>0.063830</td>\n",
       "      <td>0.273399</td>\n",
       "      <td>0.094843</td>\n",
       "      <td>0.355849</td>\n",
       "      <td>0.056152</td>\n",
       "      <td>0.000000</td>\n",
       "    </tr>\n",
       "    <tr>\n",
       "      <th>176</th>\n",
       "      <td>0.078911</td>\n",
       "      <td>0.053833</td>\n",
       "      <td>0.010606</td>\n",
       "      <td>0.383393</td>\n",
       "      <td>0.000000</td>\n",
       "      <td>0.625000</td>\n",
       "      <td>0.000000</td>\n",
       "      <td>0.070056</td>\n",
       "    </tr>\n",
       "    <tr>\n",
       "      <th>177</th>\n",
       "      <td>0.010269</td>\n",
       "      <td>0.031717</td>\n",
       "      <td>0.036579</td>\n",
       "      <td>0.289135</td>\n",
       "      <td>0.400000</td>\n",
       "      <td>0.000000</td>\n",
       "      <td>0.070056</td>\n",
       "      <td>0.074154</td>\n",
       "    </tr>\n",
       "    <tr>\n",
       "      <th>178</th>\n",
       "      <td>0.105886</td>\n",
       "      <td>0.071728</td>\n",
       "      <td>0.074877</td>\n",
       "      <td>0.266095</td>\n",
       "      <td>0.125000</td>\n",
       "      <td>0.601058</td>\n",
       "      <td>0.074154</td>\n",
       "      <td>0.083179</td>\n",
       "    </tr>\n",
       "    <tr>\n",
       "      <th>179</th>\n",
       "      <td>0.058225</td>\n",
       "      <td>0.037095</td>\n",
       "      <td>0.077480</td>\n",
       "      <td>0.205381</td>\n",
       "      <td>0.028571</td>\n",
       "      <td>0.338374</td>\n",
       "      <td>0.083179</td>\n",
       "      <td>0.011172</td>\n",
       "    </tr>\n",
       "  </tbody>\n",
       "</table>\n",
       "<p>179 rows × 8 columns</p>\n",
       "</div>"
      ],
      "text/plain": [
       "     var1(t-1)  var2(t-1)  var3(t-1)  var4(t-1)  var5(t-1)  var6(t-1)  \\\n",
       "1     0.535050   0.667465   0.553519   1.000000   0.097608   0.270136   \n",
       "2     0.656512   0.751106   0.647201   0.991458   0.153733   0.319392   \n",
       "3     0.681031   0.710793   0.695221   0.524623   0.102303   0.313161   \n",
       "4     0.727955   0.727750   0.733552   0.303536   0.120986   0.280737   \n",
       "5     0.750147   0.785068   0.764665   0.356402   0.097521   0.265624   \n",
       "..         ...        ...        ...        ...        ...        ...   \n",
       "175   0.063876   0.051270   0.063830   0.273399   0.094843   0.355849   \n",
       "176   0.078911   0.053833   0.010606   0.383393   0.000000   0.625000   \n",
       "177   0.010269   0.031717   0.036579   0.289135   0.400000   0.000000   \n",
       "178   0.105886   0.071728   0.074877   0.266095   0.125000   0.601058   \n",
       "179   0.058225   0.037095   0.077480   0.205381   0.028571   0.338374   \n",
       "\n",
       "     var7(t-1)   var7(t)  \n",
       "1     0.666553  0.656096  \n",
       "2     0.656096  0.687693  \n",
       "3     0.687693  0.751407  \n",
       "4     0.751407  0.811510  \n",
       "5     0.811510  0.973900  \n",
       "..         ...       ...  \n",
       "175   0.056152  0.000000  \n",
       "176   0.000000  0.070056  \n",
       "177   0.070056  0.074154  \n",
       "178   0.074154  0.083179  \n",
       "179   0.083179  0.011172  \n",
       "\n",
       "[179 rows x 8 columns]"
      ]
     },
     "execution_count": 60,
     "metadata": {},
     "output_type": "execute_result"
    }
   ],
   "source": [
    "# 使用series_to_supervised函数构建有监督数据集\n",
    "CBwithEmotion = series_to_supervised(CBwithEmotion)\n",
    "CBwithEmotion"
   ]
  },
  {
   "cell_type": "code",
   "execution_count": 61,
   "metadata": {},
   "outputs": [],
   "source": [
    "# 必须规定ndarray的dtype为float32（默认float64），否则后续输入模型报错\n",
    "CBwithEmotion = CBwithEmotion.values.astype(np.float32)"
   ]
  },
  {
   "cell_type": "code",
   "execution_count": 62,
   "metadata": {},
   "outputs": [
    {
     "name": "stdout",
     "output_type": "stream",
     "text": [
      "(179,)\n",
      "(179, 8)\n"
     ]
    }
   ],
   "source": [
    "future_days = 0\n",
    "y = CBwithEmotion[future_days:, 6]\n",
    "print(y.shape)\n",
    "X = CBwithEmotion[:len(CBwithEmotion) - future_days, :]\n",
    "print(X.shape)"
   ]
  },
  {
   "cell_type": "code",
   "execution_count": 63,
   "metadata": {},
   "outputs": [
    {
     "name": "stdout",
     "output_type": "stream",
     "text": [
      "(175, 5, 8) (175, 1)\n"
     ]
    }
   ],
   "source": [
    "#time_steps = 10\n",
    "time_steps = 5\n",
    "X_new = np.zeros((X.shape[0] - time_steps + 1, time_steps, X.shape[1]))\n",
    "y_new = np.zeros((y.shape[0] - time_steps + 1, 1))\n",
    "for ix in range(X_new.shape[0]):\n",
    "    for jx in range(time_steps):\n",
    "        X_new[ix, jx, :] = X[ix + jx, :]\n",
    "    y_new[ix] = y[ix + time_steps -1]\n",
    "print(X_new.shape, y_new.shape)"
   ]
  },
  {
   "cell_type": "code",
   "execution_count": 64,
   "metadata": {},
   "outputs": [
    {
     "name": "stdout",
     "output_type": "stream",
     "text": [
      "(125, 5, 8) (125, 1)\n",
      "(50, 5, 8) (50, 1)\n",
      "5 8\n"
     ]
    }
   ],
   "source": [
    "split = int(0.7 * CBwithEmotion.shape[0])\n",
    "X_train_CB = X_new[:split]\n",
    "X_test_CB = X_new[split:]\n",
    "\n",
    "y_train_CB = y_new[:split]\n",
    "y_test_CB = y_new[split:]\n",
    "\n",
    "print(X_train_CB.shape, y_train_CB.shape)\n",
    "print(X_test_CB.shape, y_test_CB.shape)\n",
    "print(X_train_CB.shape[1], X_train_CB.shape[2])"
   ]
  },
  {
   "cell_type": "code",
   "execution_count": 65,
   "metadata": {},
   "outputs": [
    {
     "name": "stdout",
     "output_type": "stream",
     "text": [
      "Train on 125 samples, validate on 50 samples\n",
      "Epoch 1/50\n",
      "125/125 - 2s - loss: 0.2361 - acc: 0.0000e+00 - mae: 0.4282 - val_loss: 0.0266 - val_acc: 0.0200 - val_mae: 0.1467\n",
      "Epoch 2/50\n",
      "125/125 - 0s - loss: 0.0349 - acc: 0.0080 - mae: 0.1435 - val_loss: 0.0131 - val_acc: 0.0200 - val_mae: 0.0973\n",
      "Epoch 3/50\n",
      "125/125 - 0s - loss: 0.0386 - acc: 0.0080 - mae: 0.1633 - val_loss: 0.0238 - val_acc: 0.0200 - val_mae: 0.1407\n",
      "Epoch 4/50\n",
      "125/125 - 0s - loss: 0.0241 - acc: 0.0080 - mae: 0.1283 - val_loss: 0.0062 - val_acc: 0.0200 - val_mae: 0.0603\n",
      "Epoch 5/50\n",
      "125/125 - 0s - loss: 0.0163 - acc: 0.0080 - mae: 0.0993 - val_loss: 0.0047 - val_acc: 0.0200 - val_mae: 0.0541\n",
      "Epoch 6/50\n",
      "125/125 - 0s - loss: 0.0160 - acc: 0.0080 - mae: 0.0978 - val_loss: 0.0045 - val_acc: 0.0200 - val_mae: 0.0518\n",
      "Epoch 7/50\n",
      "125/125 - 0s - loss: 0.0131 - acc: 0.0080 - mae: 0.0915 - val_loss: 0.0048 - val_acc: 0.0200 - val_mae: 0.0526\n",
      "Epoch 8/50\n",
      "125/125 - 0s - loss: 0.0134 - acc: 0.0080 - mae: 0.0933 - val_loss: 0.0051 - val_acc: 0.0200 - val_mae: 0.0545\n",
      "Epoch 9/50\n",
      "125/125 - 0s - loss: 0.0141 - acc: 0.0080 - mae: 0.0961 - val_loss: 0.0043 - val_acc: 0.0200 - val_mae: 0.0493\n",
      "Epoch 10/50\n",
      "125/125 - 0s - loss: 0.0125 - acc: 0.0080 - mae: 0.0885 - val_loss: 0.0040 - val_acc: 0.0200 - val_mae: 0.0497\n",
      "Epoch 11/50\n",
      "125/125 - 0s - loss: 0.0140 - acc: 0.0080 - mae: 0.0898 - val_loss: 0.0040 - val_acc: 0.0200 - val_mae: 0.0491\n",
      "Epoch 12/50\n",
      "125/125 - 0s - loss: 0.0129 - acc: 0.0080 - mae: 0.0894 - val_loss: 0.0043 - val_acc: 0.0200 - val_mae: 0.0496\n",
      "Epoch 13/50\n",
      "125/125 - 0s - loss: 0.0150 - acc: 0.0080 - mae: 0.0936 - val_loss: 0.0037 - val_acc: 0.0200 - val_mae: 0.0454\n",
      "Epoch 14/50\n",
      "125/125 - 0s - loss: 0.0116 - acc: 0.0080 - mae: 0.0832 - val_loss: 0.0042 - val_acc: 0.0200 - val_mae: 0.0531\n",
      "Epoch 15/50\n",
      "125/125 - 0s - loss: 0.0141 - acc: 0.0080 - mae: 0.0906 - val_loss: 0.0034 - val_acc: 0.0200 - val_mae: 0.0441\n",
      "Epoch 16/50\n",
      "125/125 - 0s - loss: 0.0115 - acc: 0.0080 - mae: 0.0845 - val_loss: 0.0037 - val_acc: 0.0200 - val_mae: 0.0444\n",
      "Epoch 17/50\n",
      "125/125 - 0s - loss: 0.0130 - acc: 0.0080 - mae: 0.0903 - val_loss: 0.0034 - val_acc: 0.0200 - val_mae: 0.0422\n",
      "Epoch 18/50\n",
      "125/125 - 0s - loss: 0.0136 - acc: 0.0080 - mae: 0.0892 - val_loss: 0.0033 - val_acc: 0.0200 - val_mae: 0.0457\n",
      "Epoch 19/50\n",
      "125/125 - 0s - loss: 0.0125 - acc: 0.0080 - mae: 0.0839 - val_loss: 0.0031 - val_acc: 0.0200 - val_mae: 0.0429\n",
      "Epoch 20/50\n",
      "125/125 - 0s - loss: 0.0093 - acc: 0.0080 - mae: 0.0739 - val_loss: 0.0029 - val_acc: 0.0200 - val_mae: 0.0394\n",
      "Epoch 21/50\n",
      "125/125 - 0s - loss: 0.0098 - acc: 0.0080 - mae: 0.0751 - val_loss: 0.0028 - val_acc: 0.0200 - val_mae: 0.0379\n",
      "Epoch 22/50\n",
      "125/125 - 0s - loss: 0.0097 - acc: 0.0080 - mae: 0.0770 - val_loss: 0.0027 - val_acc: 0.0200 - val_mae: 0.0373\n",
      "Epoch 23/50\n",
      "125/125 - 0s - loss: 0.0099 - acc: 0.0080 - mae: 0.0779 - val_loss: 0.0032 - val_acc: 0.0200 - val_mae: 0.0469\n",
      "Epoch 24/50\n",
      "125/125 - 0s - loss: 0.0111 - acc: 0.0080 - mae: 0.0837 - val_loss: 0.0026 - val_acc: 0.0200 - val_mae: 0.0371\n",
      "Epoch 25/50\n",
      "125/125 - 0s - loss: 0.0113 - acc: 0.0080 - mae: 0.0815 - val_loss: 0.0026 - val_acc: 0.0200 - val_mae: 0.0359\n",
      "Epoch 26/50\n",
      "125/125 - 0s - loss: 0.0098 - acc: 0.0080 - mae: 0.0741 - val_loss: 0.0027 - val_acc: 0.0200 - val_mae: 0.0420\n",
      "Epoch 27/50\n",
      "125/125 - 0s - loss: 0.0099 - acc: 0.0080 - mae: 0.0787 - val_loss: 0.0024 - val_acc: 0.0200 - val_mae: 0.0354\n",
      "Epoch 28/50\n",
      "125/125 - 0s - loss: 0.0111 - acc: 0.0080 - mae: 0.0811 - val_loss: 0.0026 - val_acc: 0.0200 - val_mae: 0.0360\n",
      "Epoch 29/50\n",
      "125/125 - 0s - loss: 0.0112 - acc: 0.0080 - mae: 0.0808 - val_loss: 0.0028 - val_acc: 0.0200 - val_mae: 0.0438\n",
      "Epoch 30/50\n",
      "125/125 - 0s - loss: 0.0105 - acc: 0.0080 - mae: 0.0764 - val_loss: 0.0028 - val_acc: 0.0200 - val_mae: 0.0441\n",
      "Epoch 31/50\n",
      "125/125 - 0s - loss: 0.0104 - acc: 0.0080 - mae: 0.0781 - val_loss: 0.0025 - val_acc: 0.0200 - val_mae: 0.0349\n",
      "Epoch 32/50\n",
      "125/125 - 0s - loss: 0.0090 - acc: 0.0080 - mae: 0.0720 - val_loss: 0.0025 - val_acc: 0.0200 - val_mae: 0.0406\n",
      "Epoch 33/50\n",
      "125/125 - 0s - loss: 0.0075 - acc: 0.0080 - mae: 0.0697 - val_loss: 0.0021 - val_acc: 0.0200 - val_mae: 0.0351\n",
      "Epoch 34/50\n",
      "125/125 - 0s - loss: 0.0072 - acc: 0.0080 - mae: 0.0663 - val_loss: 0.0021 - val_acc: 0.0200 - val_mae: 0.0353\n",
      "Epoch 35/50\n",
      "125/125 - 0s - loss: 0.0075 - acc: 0.0080 - mae: 0.0679 - val_loss: 0.0023 - val_acc: 0.0200 - val_mae: 0.0388\n",
      "Epoch 36/50\n",
      "125/125 - 0s - loss: 0.0090 - acc: 0.0080 - mae: 0.0747 - val_loss: 0.0020 - val_acc: 0.0200 - val_mae: 0.0341\n",
      "Epoch 37/50\n",
      "125/125 - 0s - loss: 0.0070 - acc: 0.0080 - mae: 0.0645 - val_loss: 0.0019 - val_acc: 0.0200 - val_mae: 0.0324\n",
      "Epoch 38/50\n",
      "125/125 - 0s - loss: 0.0079 - acc: 0.0080 - mae: 0.0667 - val_loss: 0.0021 - val_acc: 0.0200 - val_mae: 0.0370\n",
      "Epoch 39/50\n",
      "125/125 - 0s - loss: 0.0082 - acc: 0.0080 - mae: 0.0701 - val_loss: 0.0020 - val_acc: 0.0200 - val_mae: 0.0358\n",
      "Epoch 40/50\n",
      "125/125 - 0s - loss: 0.0081 - acc: 0.0080 - mae: 0.0684 - val_loss: 0.0019 - val_acc: 0.0200 - val_mae: 0.0336\n",
      "Epoch 41/50\n",
      "125/125 - 0s - loss: 0.0086 - acc: 0.0080 - mae: 0.0727 - val_loss: 0.0017 - val_acc: 0.0200 - val_mae: 0.0301\n",
      "Epoch 42/50\n",
      "125/125 - 0s - loss: 0.0067 - acc: 0.0080 - mae: 0.0643 - val_loss: 0.0021 - val_acc: 0.0200 - val_mae: 0.0382\n",
      "Epoch 43/50\n",
      "125/125 - 0s - loss: 0.0065 - acc: 0.0080 - mae: 0.0638 - val_loss: 0.0018 - val_acc: 0.0200 - val_mae: 0.0312\n",
      "Epoch 44/50\n",
      "125/125 - 0s - loss: 0.0081 - acc: 0.0080 - mae: 0.0693 - val_loss: 0.0028 - val_acc: 0.0200 - val_mae: 0.0459\n",
      "Epoch 45/50\n",
      "125/125 - 0s - loss: 0.0066 - acc: 0.0080 - mae: 0.0603 - val_loss: 0.0016 - val_acc: 0.0200 - val_mae: 0.0306\n",
      "Epoch 46/50\n",
      "125/125 - 0s - loss: 0.0071 - acc: 0.0080 - mae: 0.0654 - val_loss: 0.0017 - val_acc: 0.0200 - val_mae: 0.0322\n",
      "Epoch 47/50\n",
      "125/125 - 0s - loss: 0.0070 - acc: 0.0080 - mae: 0.0621 - val_loss: 0.0015 - val_acc: 0.0200 - val_mae: 0.0298\n",
      "Epoch 48/50\n",
      "125/125 - 0s - loss: 0.0068 - acc: 0.0080 - mae: 0.0647 - val_loss: 0.0017 - val_acc: 0.0200 - val_mae: 0.0320\n",
      "Epoch 49/50\n",
      "125/125 - 0s - loss: 0.0057 - acc: 0.0080 - mae: 0.0590 - val_loss: 0.0016 - val_acc: 0.0200 - val_mae: 0.0314\n",
      "Epoch 50/50\n",
      "125/125 - 0s - loss: 0.0074 - acc: 0.0080 - mae: 0.0677 - val_loss: 0.0022 - val_acc: 0.0200 - val_mae: 0.0398\n"
     ]
    }
   ],
   "source": [
    "def CNN_BILSTM_Generator(Xtrain, Xtest, ytrain, ytest):\n",
    "    \"\"\"\n",
    "    LSTM模型搭建函数\n",
    "    :param Xtrain: 训练集属性\n",
    "    :param Xtest: 测试集属性\n",
    "    :param ytrain: 训练集标签\n",
    "    :param ytest: 测试集标签\n",
    "    :return: history,model（模型编译记录和模型）\n",
    "    \"\"\"\n",
    "   # 搭建模型\n",
    "    _model = Sequential()\n",
    "    \n",
    "    _model.add(Conv1D(32, 3, input_shape=(Xtrain.shape[1], Xtrain.shape[2]), padding=\"same\"))\n",
    "    _model.add(MaxPooling1D(pool_size=2))\n",
    "    _model.add(Dropout(0.2))\n",
    "    _model.add(Bidirectional(LSTM(32, return_sequences=True)))\n",
    "    _model.add(Dropout(0.2))\n",
    "    #_model.add(Conv1D(16, 3, padding=\"same\"))\n",
    "    #_model.add(MaxPooling1D(pool_size=2))\n",
    "    _model.add(Flatten())\n",
    "    _model.add(Dense(units=1))\n",
    "    _model.add(Activation('linear'))\n",
    "    \n",
    "    # 模型编译\n",
    "    _model.compile(loss='mse', optimizer='adam', metrics=['acc', 'mae'])\n",
    "    # 模型训练\n",
    "    es_cb = EarlyStopping(monitor='val_loss', patience=10, verbose=1, mode='auto')\n",
    "    _history = _model.fit(Xtrain, ytrain, batch_size=20, epochs=50, validation_data=(Xtest, ytest), callbacks=[es_cb], verbose=2)\n",
    "    return _history,_model\n",
    "  \n",
    "history_CB, model_CB = CNN_BILSTM_Generator(X_train_CB, X_test_CB, y_train_CB, y_test_CB)"
   ]
  },
  {
   "cell_type": "code",
   "execution_count": 66,
   "metadata": {},
   "outputs": [
    {
     "data": {
      "image/png": "[encoded data removed]",
      "text/plain": [
       "<Figure size 432x288 with 1 Axes>"
      ]
     },
     "metadata": {
      "needs_background": "light"
     },
     "output_type": "display_data"
    }
   ],
   "source": [
    "drawLossGraph(history_CB, title='CNN_BILSTM_1Y Loss Graph for Stock Prices with Emotions', num='14')"
   ]
  },
  {
   "cell_type": "code",
   "execution_count": 67,
   "metadata": {},
   "outputs": [
    {
     "data": {
      "image/png": "[encoded data removed]",
      "text/plain": [
       "<Figure size 432x288 with 1 Axes>"
      ]
     },
     "metadata": {
      "needs_background": "light"
     },
     "output_type": "display_data"
    }
   ],
   "source": [
    "# 由X_test前日股票指标预测当天股票close值\n",
    "# 注：predict生成的array需降维成 shape=(n_samples, )\n",
    "y_predict_CB = model_CB.predict(X_test_CB)[:,0]\n",
    "\n",
    "# 反归一化\n",
    "# 重新读取 TSLA股票价格融合情感.csv\n",
    "CBwithEmotion = pd.read_csv('file/one_year/one_result/TSLA_stockwithEmo_1Y.csv')\n",
    "col_n_CB = CBwithEmotion.shape[1]-2\n",
    "# 预测结果反归一化\n",
    "inv_yPredict_CB = inverse_transform_col(scaler_CB, y_predict_CB, col_n_CB)\n",
    "# 真实结果反归一化\n",
    "inv_yTest_CB = inverse_transform_col(scaler_CB, y_test_CB, col_n_CB)\n",
    "# 训练集结果反归一化（以绘制完整图像）\n",
    "inv_yTrain_CB = inverse_transform_col(scaler_CB, y_train_CB, col_n_CB)\n",
    "# 绘图\n",
    "predictGraph(inv_yTrain_CB, inv_yPredict_CB, inv_yTest_CB, timelabels=CBwithEmotion['Date'].values, title='CNN_BILSTM_1Y Prediction of Stock Prices with Emotions', num='15')"
   ]
  },
  {
   "cell_type": "code",
   "execution_count": 68,
   "metadata": {},
   "outputs": [
    {
     "name": "stdout",
     "output_type": "stream",
     "text": [
      "The Mean Squared Error is 0.0022280538286311028\n",
      "The Root Mean Squared Error is:\n",
      "0.04720226507945464\n",
      "The Mean Absolute Error is: 0.039792696703225376\n",
      "R Square is 0.8905983825533389\n"
     ]
    }
   ],
   "source": [
    "# 输出MSE MAE R方评估值\n",
    "MSE_error_CB = mean_squared_error(y_test_CB, y_predict_CB)\n",
    "RMSE_CB = math.sqrt(MSE_error_CB)\n",
    "MAE_CB = mean_absolute_error(y_test_CB, y_predict_CB)\n",
    "R_square_CB = r2_score(y_test_CB, y_predict_CB)\n",
    "print('The Mean Squared Error is {}'.format(MSE_error_CB))\n",
    "print('The Root Mean Squared Error is:')\n",
    "print(RMSE_CB)\n",
    "print('The Mean Absolute Error is:',MAE_CB)\n",
    "print('R Square is {}'.format(R_square_CB))"
   ]
  },
  {
   "cell_type": "code",
   "execution_count": 69,
   "metadata": {},
   "outputs": [
    {
     "name": "stdout",
     "output_type": "stream",
     "text": [
      "Model: \"sequential_4\"\n",
      "_________________________________________________________________\n",
      "Layer (type)                 Output Shape              Param #   \n",
      "=================================================================\n",
      "conv1d_2 (Conv1D)            (None, 5, 32)             800       \n",
      "_________________________________________________________________\n",
      "max_pooling1d (MaxPooling1D) (None, 2, 32)             0         \n",
      "_________________________________________________________________\n",
      "dropout_7 (Dropout)          (None, 2, 32)             0         \n",
      "_________________________________________________________________\n",
      "bidirectional_1 (Bidirection (None, 2, 64)             16640     \n",
      "_________________________________________________________________\n",
      "dropout_8 (Dropout)          (None, 2, 64)             0         \n",
      "_________________________________________________________________\n",
      "flatten_2 (Flatten)          (None, 128)               0         \n",
      "_________________________________________________________________\n",
      "dense_5 (Dense)              (None, 1)                 129       \n",
      "_________________________________________________________________\n",
      "activation_1 (Activation)    (None, 1)                 0         \n",
      "=================================================================\n",
      "Total params: 17,569\n",
      "Trainable params: 17,569\n",
      "Non-trainable params: 0\n",
      "_________________________________________________________________\n",
      "None\n"
     ]
    }
   ],
   "source": [
    "print(model_CB.summary())"
   ]
  },
  {
   "cell_type": "markdown",
   "metadata": {},
   "source": [
    "### 4.2.5 在CNN_BILSTM机制中添加Attention机制的预测模型"
   ]
  },
  {
   "cell_type": "code",
   "execution_count": 70,
   "metadata": {},
   "outputs": [
    {
     "name": "stdout",
     "output_type": "stream",
     "text": [
      "Train on 125 samples, validate on 50 samples\n",
      "Epoch 1/50\n",
      "125/125 - 1s - loss: 0.0576 - acc: 0.0080 - mae: 0.2049 - val_loss: 0.0495 - val_acc: 0.0200 - val_mae: 0.1761\n",
      "Epoch 2/50\n",
      "125/125 - 0s - loss: 0.0518 - acc: 0.0080 - mae: 0.1932 - val_loss: 0.0507 - val_acc: 0.0200 - val_mae: 0.1859\n",
      "Epoch 3/50\n",
      "125/125 - 0s - loss: 0.0452 - acc: 0.0080 - mae: 0.1772 - val_loss: 0.0514 - val_acc: 0.0200 - val_mae: 0.1964\n",
      "Epoch 4/50\n",
      "125/125 - 0s - loss: 0.0377 - acc: 0.0080 - mae: 0.1603 - val_loss: 0.0366 - val_acc: 0.0200 - val_mae: 0.1555\n",
      "Epoch 5/50\n",
      "125/125 - 0s - loss: 0.0273 - acc: 0.0080 - mae: 0.1356 - val_loss: 0.0208 - val_acc: 0.0200 - val_mae: 0.1051\n",
      "Epoch 6/50\n",
      "125/125 - 0s - loss: 0.0160 - acc: 0.0080 - mae: 0.1037 - val_loss: 0.0132 - val_acc: 0.0200 - val_mae: 0.0951\n",
      "Epoch 7/50\n",
      "125/125 - 0s - loss: 0.0140 - acc: 0.0080 - mae: 0.0936 - val_loss: 0.0134 - val_acc: 0.0200 - val_mae: 0.0955\n",
      "Epoch 8/50\n",
      "125/125 - 0s - loss: 0.0161 - acc: 0.0080 - mae: 0.0986 - val_loss: 0.0094 - val_acc: 0.0200 - val_mae: 0.0812\n",
      "Epoch 9/50\n",
      "125/125 - 0s - loss: 0.0124 - acc: 0.0080 - mae: 0.0929 - val_loss: 0.0087 - val_acc: 0.0200 - val_mae: 0.0775\n",
      "Epoch 10/50\n",
      "125/125 - 0s - loss: 0.0091 - acc: 0.0080 - mae: 0.0768 - val_loss: 0.0078 - val_acc: 0.0200 - val_mae: 0.0736\n",
      "Epoch 11/50\n",
      "125/125 - 0s - loss: 0.0086 - acc: 0.0080 - mae: 0.0735 - val_loss: 0.0066 - val_acc: 0.0200 - val_mae: 0.0678\n",
      "Epoch 12/50\n",
      "125/125 - 0s - loss: 0.0067 - acc: 0.0080 - mae: 0.0645 - val_loss: 0.0062 - val_acc: 0.0200 - val_mae: 0.0661\n",
      "Epoch 13/50\n",
      "125/125 - 0s - loss: 0.0066 - acc: 0.0080 - mae: 0.0660 - val_loss: 0.0059 - val_acc: 0.0200 - val_mae: 0.0636\n",
      "Epoch 14/50\n",
      "125/125 - 0s - loss: 0.0062 - acc: 0.0080 - mae: 0.0639 - val_loss: 0.0050 - val_acc: 0.0200 - val_mae: 0.0590\n",
      "Epoch 15/50\n",
      "125/125 - 0s - loss: 0.0068 - acc: 0.0080 - mae: 0.0671 - val_loss: 0.0047 - val_acc: 0.0200 - val_mae: 0.0565\n",
      "Epoch 16/50\n",
      "125/125 - 0s - loss: 0.0068 - acc: 0.0080 - mae: 0.0635 - val_loss: 0.0044 - val_acc: 0.0200 - val_mae: 0.0546\n",
      "Epoch 17/50\n",
      "125/125 - 0s - loss: 0.0059 - acc: 0.0080 - mae: 0.0595 - val_loss: 0.0041 - val_acc: 0.0200 - val_mae: 0.0526\n",
      "Epoch 18/50\n",
      "125/125 - 0s - loss: 0.0051 - acc: 0.0080 - mae: 0.0574 - val_loss: 0.0051 - val_acc: 0.0200 - val_mae: 0.0570\n",
      "Epoch 19/50\n",
      "125/125 - 0s - loss: 0.0055 - acc: 0.0080 - mae: 0.0570 - val_loss: 0.0036 - val_acc: 0.0200 - val_mae: 0.0486\n",
      "Epoch 20/50\n",
      "125/125 - 0s - loss: 0.0050 - acc: 0.0080 - mae: 0.0579 - val_loss: 0.0037 - val_acc: 0.0200 - val_mae: 0.0497\n",
      "Epoch 21/50\n",
      "125/125 - 0s - loss: 0.0049 - acc: 0.0080 - mae: 0.0551 - val_loss: 0.0034 - val_acc: 0.0200 - val_mae: 0.0472\n",
      "Epoch 22/50\n",
      "125/125 - 0s - loss: 0.0042 - acc: 0.0080 - mae: 0.0523 - val_loss: 0.0031 - val_acc: 0.0200 - val_mae: 0.0443\n",
      "Epoch 23/50\n",
      "125/125 - 0s - loss: 0.0044 - acc: 0.0080 - mae: 0.0543 - val_loss: 0.0036 - val_acc: 0.0200 - val_mae: 0.0488\n",
      "Epoch 24/50\n",
      "125/125 - 0s - loss: 0.0041 - acc: 0.0080 - mae: 0.0517 - val_loss: 0.0030 - val_acc: 0.0200 - val_mae: 0.0430\n",
      "Epoch 25/50\n",
      "125/125 - 0s - loss: 0.0035 - acc: 0.0080 - mae: 0.0476 - val_loss: 0.0026 - val_acc: 0.0200 - val_mae: 0.0401\n",
      "Epoch 26/50\n",
      "125/125 - 0s - loss: 0.0036 - acc: 0.0080 - mae: 0.0461 - val_loss: 0.0024 - val_acc: 0.0200 - val_mae: 0.0396\n",
      "Epoch 27/50\n",
      "125/125 - 0s - loss: 0.0034 - acc: 0.0080 - mae: 0.0470 - val_loss: 0.0030 - val_acc: 0.0200 - val_mae: 0.0441\n",
      "Epoch 28/50\n",
      "125/125 - 0s - loss: 0.0035 - acc: 0.0080 - mae: 0.0467 - val_loss: 0.0022 - val_acc: 0.0200 - val_mae: 0.0370\n",
      "Epoch 29/50\n",
      "125/125 - 0s - loss: 0.0033 - acc: 0.0080 - mae: 0.0452 - val_loss: 0.0021 - val_acc: 0.0200 - val_mae: 0.0366\n",
      "Epoch 30/50\n",
      "125/125 - 0s - loss: 0.0028 - acc: 0.0080 - mae: 0.0427 - val_loss: 0.0026 - val_acc: 0.0200 - val_mae: 0.0400\n",
      "Epoch 31/50\n",
      "125/125 - 0s - loss: 0.0039 - acc: 0.0080 - mae: 0.0498 - val_loss: 0.0027 - val_acc: 0.0200 - val_mae: 0.0428\n",
      "Epoch 32/50\n",
      "125/125 - 0s - loss: 0.0034 - acc: 0.0080 - mae: 0.0477 - val_loss: 0.0024 - val_acc: 0.0200 - val_mae: 0.0388\n",
      "Epoch 33/50\n",
      "125/125 - 0s - loss: 0.0029 - acc: 0.0080 - mae: 0.0434 - val_loss: 0.0019 - val_acc: 0.0200 - val_mae: 0.0346\n",
      "Epoch 34/50\n",
      "125/125 - 0s - loss: 0.0032 - acc: 0.0080 - mae: 0.0443 - val_loss: 0.0020 - val_acc: 0.0200 - val_mae: 0.0343\n",
      "Epoch 35/50\n",
      "125/125 - 0s - loss: 0.0026 - acc: 0.0080 - mae: 0.0414 - val_loss: 0.0019 - val_acc: 0.0200 - val_mae: 0.0337\n",
      "Epoch 36/50\n",
      "125/125 - 0s - loss: 0.0026 - acc: 0.0080 - mae: 0.0407 - val_loss: 0.0021 - val_acc: 0.0200 - val_mae: 0.0349\n",
      "Epoch 37/50\n",
      "125/125 - 0s - loss: 0.0027 - acc: 0.0080 - mae: 0.0405 - val_loss: 0.0017 - val_acc: 0.0200 - val_mae: 0.0321\n",
      "Epoch 38/50\n",
      "125/125 - 0s - loss: 0.0023 - acc: 0.0080 - mae: 0.0379 - val_loss: 0.0017 - val_acc: 0.0200 - val_mae: 0.0322\n",
      "Epoch 39/50\n",
      "125/125 - 0s - loss: 0.0024 - acc: 0.0080 - mae: 0.0404 - val_loss: 0.0020 - val_acc: 0.0200 - val_mae: 0.0342\n",
      "Epoch 40/50\n",
      "125/125 - 0s - loss: 0.0029 - acc: 0.0080 - mae: 0.0419 - val_loss: 0.0019 - val_acc: 0.0200 - val_mae: 0.0342\n",
      "Epoch 41/50\n",
      "125/125 - 0s - loss: 0.0024 - acc: 0.0080 - mae: 0.0384 - val_loss: 0.0017 - val_acc: 0.0200 - val_mae: 0.0322\n",
      "Epoch 42/50\n",
      "125/125 - 0s - loss: 0.0026 - acc: 0.0080 - mae: 0.0405 - val_loss: 0.0030 - val_acc: 0.0200 - val_mae: 0.0434\n",
      "Epoch 43/50\n",
      "125/125 - 0s - loss: 0.0030 - acc: 0.0080 - mae: 0.0435 - val_loss: 0.0019 - val_acc: 0.0200 - val_mae: 0.0337\n",
      "Epoch 44/50\n",
      "125/125 - 0s - loss: 0.0039 - acc: 0.0080 - mae: 0.0484 - val_loss: 0.0025 - val_acc: 0.0200 - val_mae: 0.0405\n",
      "Epoch 45/50\n",
      "125/125 - 0s - loss: 0.0036 - acc: 0.0080 - mae: 0.0485 - val_loss: 0.0029 - val_acc: 0.0200 - val_mae: 0.0420\n",
      "Epoch 46/50\n",
      "125/125 - 0s - loss: 0.0025 - acc: 0.0080 - mae: 0.0407 - val_loss: 0.0025 - val_acc: 0.0200 - val_mae: 0.0409\n",
      "Epoch 47/50\n",
      "125/125 - 0s - loss: 0.0031 - acc: 0.0080 - mae: 0.0434 - val_loss: 0.0028 - val_acc: 0.0200 - val_mae: 0.0424\n",
      "Epoch 48/50\n",
      "125/125 - 0s - loss: 0.0028 - acc: 0.0080 - mae: 0.0405 - val_loss: 0.0019 - val_acc: 0.0200 - val_mae: 0.0352\n",
      "Epoch 49/50\n",
      "125/125 - 0s - loss: 0.0023 - acc: 0.0080 - mae: 0.0385 - val_loss: 0.0024 - val_acc: 0.0200 - val_mae: 0.0393\n",
      "Epoch 50/50\n",
      "125/125 - 0s - loss: 0.0026 - acc: 0.0080 - mae: 0.0404 - val_loss: 0.0019 - val_acc: 0.0200 - val_mae: 0.0341\n"
     ]
    }
   ],
   "source": [
    "def CNN_BILSTM_AT_Generator(Xtrain, Xtest, ytrain, ytest):\n",
    "    \"\"\"\n",
    "    LSTM模型搭建函数\n",
    "    :param Xtrain: 训练集属性\n",
    "    :param Xtest: 测试集属性\n",
    "    :param ytrain: 训练集标签\n",
    "    :param ytest: 测试集标签\n",
    "    :return: history,model（模型编译记录和模型）\n",
    "    \"\"\"\n",
    "   # 搭建模型\n",
    "    inputs = Input(shape = (Xtrain.shape[1], Xtrain.shape[2]))   \n",
    "    x = Conv1D(filters = 64, kernel_size = 3, activation = 'relu', padding=\"same\")(inputs)\n",
    "    #x = MaxPooling1D(pool_size = 2)(x)\n",
    "    x = Dropout(0.2)(x)\n",
    "    x = Bidirectional(LSTM(64, return_sequences=True,activation='relu'),name='bilstm')(x)\n",
    "    previous_out = Dropout(0.2)(x)\n",
    "     \n",
    "    # ATTENTION PART STARTS HERE\n",
    "    attention_probs = Dense(128, activation='sigmoid', name='attention_vec')(previous_out)\n",
    "\n",
    "    attention_mul =Multiply()([previous_out, attention_probs])\n",
    "    \n",
    "    attention_mul = Flatten()(attention_mul)\n",
    "\n",
    "    output = Dense(1, activation='sigmoid')(attention_mul)\n",
    "    _model = Model(inputs=inputs, outputs=output)\n",
    "    \n",
    "    # 模型编译\n",
    "    _model.compile(loss='mse', optimizer='adam', metrics=['acc', 'mae'])\n",
    "    # 模型训练\n",
    "    es_cb = EarlyStopping(monitor='val_loss', patience=10, verbose=1, mode='auto')\n",
    "    _history = _model.fit(Xtrain, ytrain, batch_size=20, epochs=50, validation_data=(Xtest, ytest), callbacks=[es_cb], verbose=2)\n",
    "    return _history,_model\n",
    "  \n",
    "history_CBA, model_CBA = CNN_BILSTM_AT_Generator(X_train_CB, X_test_CB, y_train_CB, y_test_CB)"
   ]
  },
  {
   "cell_type": "code",
   "execution_count": 71,
   "metadata": {},
   "outputs": [
    {
     "data": {
      "image/png": "[encoded data removed]",
      "text/plain": [
       "<Figure size 432x288 with 1 Axes>"
      ]
     },
     "metadata": {
      "needs_background": "light"
     },
     "output_type": "display_data"
    }
   ],
   "source": [
    "drawLossGraph(history_CBA, title='CNN_BILSTM_AT_1Y Loss Graph for Stock Prices with Emotions', num='16')"
   ]
  },
  {
   "cell_type": "code",
   "execution_count": 72,
   "metadata": {},
   "outputs": [
    {
     "data": {
      "image/png": "[encoded data removed]",
      "text/plain": [
       "<Figure size 432x288 with 1 Axes>"
      ]
     },
     "metadata": {
      "needs_background": "light"
     },
     "output_type": "display_data"
    }
   ],
   "source": [
    "# 由X_test前日股票指标预测当天股票close值\n",
    "# 注：predict生成的array需降维成 shape=(n_samples, )\n",
    "y_predict_CBA = model_CBA.predict(X_test_CB)[:,0]\n",
    "\n",
    "# 反归一化\n",
    "# 重新读取 TSLA股票价格融合情感.csv\n",
    "CBAwithEmotion = pd.read_csv('file/one_year/one_result/TSLA_stockwithEmo_1Y.csv')\n",
    "col_n_CBA = CBAwithEmotion.shape[1]-2\n",
    "# 预测结果反归一化\n",
    "inv_yPredict_CBA = inverse_transform_col(scaler_CB, y_predict_CBA, col_n_CBA)\n",
    "# 真实结果反归一化\n",
    "inv_yTest_CBA = inverse_transform_col(scaler_CB, y_test_CB, col_n_CBA)\n",
    "# 训练集结果反归一化（以绘制完整图像）\n",
    "inv_yTrain_CBA = inverse_transform_col(scaler_CB, y_train_CB, col_n_CBA)\n",
    "# 绘图\n",
    "predictGraph(inv_yTrain_CBA, inv_yPredict_CBA, inv_yTest_CBA, timelabels=CBAwithEmotion['Date'].values, title='CNN_BILSTM_AT_1Y Prediction of Stock Prices with Emotions', num='17')"
   ]
  },
  {
   "cell_type": "code",
   "execution_count": 73,
   "metadata": {},
   "outputs": [
    {
     "name": "stdout",
     "output_type": "stream",
     "text": [
      "The Mean Squared Error is 0.0018869052668874767\n",
      "The Root Mean Squared Error is:\n",
      "0.04343852284421602\n",
      "The Mean Absolute Error is: 0.034069128707051276\n",
      "R Square is 0.9073494161077146\n"
     ]
    }
   ],
   "source": [
    "# 输出MSE MAE R方评估值\n",
    "MSE_error_CBA = mean_squared_error(y_test_CB, y_predict_CBA)\n",
    "RMSE_CBA = math.sqrt(MSE_error_CBA)\n",
    "MAE_CBA = mean_absolute_error(y_test_CB, y_predict_CBA)\n",
    "R_square_CBA = r2_score(y_test_CB, y_predict_CBA)\n",
    "print('The Mean Squared Error is {}'.format(MSE_error_CBA))\n",
    "print('The Root Mean Squared Error is:')\n",
    "print(RMSE_CBA)\n",
    "print('The Mean Absolute Error is:',MAE_CBA)\n",
    "print('R Square is {}'.format(R_square_CBA))"
   ]
  },
  {
   "cell_type": "code",
   "execution_count": 74,
   "metadata": {},
   "outputs": [
    {
     "name": "stdout",
     "output_type": "stream",
     "text": [
      "Model: \"model_1\"\n",
      "__________________________________________________________________________________________________\n",
      "Layer (type)                    Output Shape         Param #     Connected to                     \n",
      "==================================================================================================\n",
      "input_2 (InputLayer)            [(None, 5, 8)]       0                                            \n",
      "__________________________________________________________________________________________________\n",
      "conv1d_3 (Conv1D)               (None, 5, 64)        1600        input_2[0][0]                    \n",
      "__________________________________________________________________________________________________\n",
      "dropout_9 (Dropout)             (None, 5, 64)        0           conv1d_3[0][0]                   \n",
      "__________________________________________________________________________________________________\n",
      "bilstm (Bidirectional)          (None, 5, 128)       66048       dropout_9[0][0]                  \n",
      "__________________________________________________________________________________________________\n",
      "dropout_10 (Dropout)            (None, 5, 128)       0           bilstm[0][0]                     \n",
      "__________________________________________________________________________________________________\n",
      "attention_vec (Dense)           (None, 5, 128)       16512       dropout_10[0][0]                 \n",
      "__________________________________________________________________________________________________\n",
      "multiply_1 (Multiply)           (None, 5, 128)       0           dropout_10[0][0]                 \n",
      "                                                                 attention_vec[0][0]              \n",
      "__________________________________________________________________________________________________\n",
      "flatten_3 (Flatten)             (None, 640)          0           multiply_1[0][0]                 \n",
      "__________________________________________________________________________________________________\n",
      "dense_6 (Dense)                 (None, 1)            641         flatten_3[0][0]                  \n",
      "==================================================================================================\n",
      "Total params: 84,801\n",
      "Trainable params: 84,801\n",
      "Non-trainable params: 0\n",
      "__________________________________________________________________________________________________\n",
      "None\n"
     ]
    }
   ],
   "source": [
    "print(model_CBA.summary())"
   ]
  },
  {
   "cell_type": "code",
   "execution_count": 75,
   "metadata": {},
   "outputs": [
    {
     "data": {
      "image/png": "[encoded data removed]",
      "text/plain": [
       "<Figure size 432x288 with 1 Axes>"
      ]
     },
     "metadata": {
      "needs_background": "light"
     },
     "output_type": "display_data"
    }
   ],
   "source": [
    "# 绘制6种算法的估值比较图\n",
    "#import matplotlib\n",
    "#import matplotlib.pyplot as plt\n",
    "#import numpy as np\n",
    "\n",
    "def drawHistogram(title, num):\n",
    "    matplotlib.rc(\"font\", family='MicroSoft YaHei')\n",
    "    \n",
    "    list1 = np.array([MSE_error_LSTM])   # 柱状图第一组数据\n",
    "    list2 = np.array([MSE_error_BI])   # 柱状图第二组数据\n",
    "    list3 = np.array([MSE_error_CL])   # 柱状图第三组数据\n",
    "    list4 = np.array([MSE_error_CLA])   # 柱状图第四组数据\n",
    "    list5 = np.array([MSE_error_CB])   # 柱状图第五组数据\n",
    "    list6 = np.array([MSE_error_CBA])   # 柱状图第六组数据\n",
    "    \n",
    "    length = len(list1)\n",
    "    x = np.arange(length)   # 横坐标范围\n",
    "    x_label = [\" \"]\n",
    "\n",
    "    plt.figure()\n",
    "    total_width, n = 2.4 , 6   # 柱状图总宽度，有几组数据\n",
    "    width = total_width / n   # 单个柱状图的宽度\n",
    "    x1 = x - width / 2   # 第一组数据柱状图横坐标起始位置\n",
    "    x2 = x1 + width   # 第二组数据柱状图横坐标起始位置\n",
    "    x3 = 2*width + x1\n",
    "    x4 = 3*width + x1\n",
    "    x5 = 4*width + x1\n",
    "    x6 = 5*width + x1\n",
    "    # 标题\n",
    "    plt.title('Fig'+num+'. '+title)\n",
    "\n",
    "    plt.bar(x1, list1, width=width, label=\"LSTM\")\n",
    "    plt.bar(x2, list2, width=width, label=\"BILSTM\")\n",
    "    plt.bar(x3, list3, width=width, label=\"CNN_LSTM\")\n",
    "    plt.bar(x4, list4, width=width, label=\"CNN_LSTM_AT\")\n",
    "    plt.bar(x5, list5, width=width, label=\"CNN_BILSTM\")\n",
    "    plt.bar(x6, list6, width=width, label=\"CNN_BILSTM_AT\")\n",
    "    \n",
    "    for a, b in zip(x1, list1):\n",
    "        plt.text(a, b + 0.1, '%.0f' % b, ha='center', va='bottom', fontsize=8)\n",
    "\n",
    "    for a, b in zip(x2, list2):\n",
    "        plt.text(a, b + 0.1, '%.0f' % b, ha='center', va='bottom', fontsize=8)\n",
    "    \n",
    "    for a, b in zip(x3, list3):\n",
    "        plt.text(a, b + 0.1, '%.0f' % b, ha='center', va='bottom', fontsize=8)\n",
    "\n",
    "    for a, b in zip(x4, list4):\n",
    "        plt.text(a, b + 0.1, '%.0f' % b, ha='center', va='bottom', fontsize=8)\n",
    "    \n",
    "    for a, b in zip(x5, list5):\n",
    "        plt.text(a, b + 0.1, '%.0f' % b, ha='center', va='bottom', fontsize=8)\n",
    "\n",
    "    for a, b in zip(x6, list6):\n",
    "        plt.text(a, b + 0.1, '%.0f' % b, ha='center', va='bottom', fontsize=8)\n",
    "\n",
    "    plt.xticks(x, x_label)   \n",
    "    # 给出图例\n",
    "    plt.legend(loc=1, prop={'size': 6})\n",
    "    \n",
    "    \n",
    "    # 保存于 file/\n",
    "    #savingPath = 'file/Fig'+num+'_'+title.replace(' ', '_')+'.png'\n",
    "    #plt.savefig(savingPath, dpi=400, bbox_inches='tight')\n",
    "    plt.show()\n",
    "\n",
    "if __name__ == '__main__':\n",
    "    drawHistogram(title = 'Six_Algorithms_Comparison: MSE', num = '18')"
   ]
  },
  {
   "cell_type": "markdown",
   "metadata": {},
   "source": [
    "### 从Fig18来看，CNN_BILSTM_AT 在一年的预测中表现最佳"
   ]
  },
  {
   "cell_type": "code",
   "execution_count": null,
   "metadata": {},
   "outputs": [],
   "source": []
  }
 ],
 "metadata": {
  "kernelspec": {
   "display_name": "Python 3",
   "language": "python",
   "name": "python3"
  },
  "language_info": {
   "codemirror_mode": {
    "name": "ipython",
    "version": 3
   },
   "file_extension": ".py",
   "mimetype": "text/x-python",
   "name": "python",
   "nbconvert_exporter": "python",
   "pygments_lexer": "ipython3",
   "version": "3.7.0"
  }
 },
 "nbformat": 4,
 "nbformat_minor": 2
}
